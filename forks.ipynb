{
 "cells": [
  {
   "cell_type": "code",
   "execution_count": 59,
   "metadata": {},
   "outputs": [],
   "source": [
    "# the purpose of this notebook is to analyze the defi llama protocols and find what percentage of overall TVL is in forks\n",
    "# 1. load the json file into a pandas dataframe\n",
    "# 2. filter the dataframe to only include protocols with TVL > 0\n",
    "# 3. filter the dataframe to only include protocols with a forkedFrom value\n",
    "# 4. calculate the total TVL of all protocols\n",
    "\n",
    "\n",
    "# Future analysis\n",
    "# cut by number of users / txs instead of TVL as skewed by whales\n",
    "# look at growth\n",
    "# look at what chain they're on\n"
   ]
  },
  {
   "cell_type": "code",
   "execution_count": 60,
   "metadata": {},
   "outputs": [
    {
     "name": "stdout",
     "output_type": "stream",
     "text": [
      "2875 protocols to start with\n",
      "2401 protocols with TVL > 0\n"
     ]
    }
   ],
   "source": [
    "# CREATE OUR DATASET FROM DEFI LLAMA SOURCE\n",
    "\n",
    "import pandas as pd\n",
    "import json\n",
    "import time\n",
    "import os\n",
    "\n",
    "# load json\n",
    "df = pd.read_json('defillamaprotocols.json')\n",
    "\n",
    "print (str(len(df)) + \" protocols to start with\")\n",
    "\n",
    "# filter df to only include protocols with TVL > 0\n",
    "df = df[df['tvl'] > 0]\n",
    "\n",
    "print (str(len(df)) + \" protocols with TVL > 0\")\n",
    "\n",
    "results = pd.DataFrame(columns=['category', 'name', 'forkedFrom', 'tvl', 'chain'])\n",
    "\n",
    "for index, row in df.iterrows():\n",
    "  new_row = pd.DataFrame({'category': [row['category']], 'name': [row['name']], 'forkedFrom': [row['forkedFrom']], 'tvl': [row['tvl']], 'chain': [row['chain']]})\n",
    "  results = pd.concat([results, new_row], ignore_index=True)\n",
    "\n",
    "\n",
    "# tidy this up as it's inconsistent otherwise\n",
    "results['forkedFrom'] = results['forkedFrom'].apply(lambda x: x if x != [] else None)\n",
    "\n",
    "# save results as csv\n",
    "results.to_csv('protocols_all_small.csv', index=False)\n"
   ]
  },
  {
   "cell_type": "code",
   "execution_count": 58,
   "metadata": {},
   "outputs": [],
   "source": [
    "# GET SUMMARY STATS ON FORKS PER CATEGORY\n",
    "\n",
    "df = pd.read_csv('protocols_all_small.csv')\n",
    "\n",
    "# for each category, report:\n",
    "# 1. total TVL\n",
    "# 2. total TVL in forks\n",
    "# 3. percentage of TVL in forks\n",
    "# 4. number of protocols in category\n",
    "# 5. number of protocols in category that are forks\n",
    "# 6. percentage of protocols in category that are forks\n",
    "# 7. average TVL of protocols in category\n",
    "# 8. average TVL of protocols in category that are forks\n",
    "\n",
    "forks_summary = pd.DataFrame(columns=['category', 'total_tvl', 'total_tvl_forks', 'percent_forks', 'num_protocols', 'num_protocols_forks', 'percent_protocols_forks', 'avg_tvl', 'avg_tvl_forks'])\n",
    "\n",
    "# loop through each category and find the total TVL of all protocols in that category\n",
    "for category in df['category'].unique():\n",
    "    # create a new DataFrame with the row data\n",
    "    new_row = pd.DataFrame({\n",
    "        'category': [category], \n",
    "        'total_tvl': [df[df['category'] == category]['tvl'].sum()], \n",
    "        'total_tvl_forks': [df[(df['category'] == category) & (df['forkedFrom'].notna())]['tvl'].sum()], \n",
    "        'percent_forks': [df[(df['category'] == category) & (df['forkedFrom'].notna())]['tvl'].sum() / df[df['category'] == category]['tvl'].sum()], \n",
    "        'num_protocols': [len(df[df['category'] == category])], \n",
    "        'num_protocols_forks': [len(df[(df['category'] == category) & (df['forkedFrom'].notna())])], \n",
    "        'percent_protocols_forks': [len(df[(df['category'] == category) & (df['forkedFrom'].notna())]) / len(df[df['category'] == category])], \n",
    "        'avg_tvl': [df[df['category'] == category]['tvl'].mean()], \n",
    "        'avg_tvl_forks': [df[(df['category'] == category) & (df['forkedFrom'].notna())]['tvl'].mean()]\n",
    "    })\n",
    "\n",
    "    # concatenate the new row with the existing results DataFrame\n",
    "    forks_summary = pd.concat([results, new_row], ignore_index=True)\n",
    "\n",
    "# save results as csv\n",
    "forks_summary.to_csv('forks_summary.csv', index=False)\n"
   ]
  },
  {
   "cell_type": "code",
   "execution_count": 8,
   "metadata": {},
   "outputs": [
    {
     "data": {
      "text/html": [
       "<div>\n",
       "<style scoped>\n",
       "    .dataframe tbody tr th:only-of-type {\n",
       "        vertical-align: middle;\n",
       "    }\n",
       "\n",
       "    .dataframe tbody tr th {\n",
       "        vertical-align: top;\n",
       "    }\n",
       "\n",
       "    .dataframe thead th {\n",
       "        text-align: right;\n",
       "    }\n",
       "</style>\n",
       "<table border=\"1\" class=\"dataframe\">\n",
       "  <thead>\n",
       "    <tr style=\"text-align: right;\">\n",
       "      <th></th>\n",
       "      <th>category</th>\n",
       "      <th>total_tvl</th>\n",
       "      <th>total_tvl_forks</th>\n",
       "      <th>percent_forks</th>\n",
       "      <th>num_protocols</th>\n",
       "      <th>num_protocols_forks</th>\n",
       "      <th>percent_protocols_forks</th>\n",
       "      <th>avg_tvl</th>\n",
       "      <th>avg_tvl_forks</th>\n",
       "    </tr>\n",
       "  </thead>\n",
       "  <tbody>\n",
       "    <tr>\n",
       "      <th>0</th>\n",
       "      <td>CEX</td>\n",
       "      <td>$98808.44M</td>\n",
       "      <td>$0.0M</td>\n",
       "      <td>0.0%</td>\n",
       "      <td>26</td>\n",
       "      <td>0</td>\n",
       "      <td>0.0%</td>\n",
       "      <td>$3800.32M</td>\n",
       "      <td>$nanM</td>\n",
       "    </tr>\n",
       "    <tr>\n",
       "      <th>1</th>\n",
       "      <td>Liquid Staking</td>\n",
       "      <td>$19559.06M</td>\n",
       "      <td>$109.39M</td>\n",
       "      <td>0.56%</td>\n",
       "      <td>86</td>\n",
       "      <td>4</td>\n",
       "      <td>4.65%</td>\n",
       "      <td>$227.43M</td>\n",
       "      <td>$27.35M</td>\n",
       "    </tr>\n",
       "    <tr>\n",
       "      <th>2</th>\n",
       "      <td>CDP</td>\n",
       "      <td>$9311.14M</td>\n",
       "      <td>$143.9M</td>\n",
       "      <td>1.55%</td>\n",
       "      <td>89</td>\n",
       "      <td>26</td>\n",
       "      <td>29.21%</td>\n",
       "      <td>$104.62M</td>\n",
       "      <td>$5.53M</td>\n",
       "    </tr>\n",
       "    <tr>\n",
       "      <th>3</th>\n",
       "      <td>Chain</td>\n",
       "      <td>$6488.77M</td>\n",
       "      <td>$0.0M</td>\n",
       "      <td>0.0%</td>\n",
       "      <td>7</td>\n",
       "      <td>1</td>\n",
       "      <td>14.29%</td>\n",
       "      <td>$926.97M</td>\n",
       "      <td>$0.0M</td>\n",
       "    </tr>\n",
       "    <tr>\n",
       "      <th>4</th>\n",
       "      <td>Bridge</td>\n",
       "      <td>$10431.25M</td>\n",
       "      <td>$190.93M</td>\n",
       "      <td>1.83%</td>\n",
       "      <td>41</td>\n",
       "      <td>2</td>\n",
       "      <td>4.88%</td>\n",
       "      <td>$254.42M</td>\n",
       "      <td>$95.47M</td>\n",
       "    </tr>\n",
       "    <tr>\n",
       "      <th>5</th>\n",
       "      <td>Dexes</td>\n",
       "      <td>$16444.37M</td>\n",
       "      <td>$4120.06M</td>\n",
       "      <td>25.05%</td>\n",
       "      <td>818</td>\n",
       "      <td>501</td>\n",
       "      <td>61.25%</td>\n",
       "      <td>$20.1M</td>\n",
       "      <td>$8.22M</td>\n",
       "    </tr>\n",
       "    <tr>\n",
       "      <th>6</th>\n",
       "      <td>Lending</td>\n",
       "      <td>$13951.75M</td>\n",
       "      <td>$1768.94M</td>\n",
       "      <td>12.68%</td>\n",
       "      <td>237</td>\n",
       "      <td>106</td>\n",
       "      <td>44.73%</td>\n",
       "      <td>$58.87M</td>\n",
       "      <td>$16.69M</td>\n",
       "    </tr>\n",
       "    <tr>\n",
       "      <th>7</th>\n",
       "      <td>Yield</td>\n",
       "      <td>$5044.37M</td>\n",
       "      <td>$38.53M</td>\n",
       "      <td>0.76%</td>\n",
       "      <td>351</td>\n",
       "      <td>28</td>\n",
       "      <td>7.98%</td>\n",
       "      <td>$14.37M</td>\n",
       "      <td>$1.38M</td>\n",
       "    </tr>\n",
       "    <tr>\n",
       "      <th>8</th>\n",
       "      <td>Services</td>\n",
       "      <td>$2348.45M</td>\n",
       "      <td>$0.0M</td>\n",
       "      <td>0.0%</td>\n",
       "      <td>48</td>\n",
       "      <td>1</td>\n",
       "      <td>2.08%</td>\n",
       "      <td>$48.93M</td>\n",
       "      <td>$0.0M</td>\n",
       "    </tr>\n",
       "    <tr>\n",
       "      <th>9</th>\n",
       "      <td>Derivatives</td>\n",
       "      <td>$1348.02M</td>\n",
       "      <td>$41.08M</td>\n",
       "      <td>3.05%</td>\n",
       "      <td>108</td>\n",
       "      <td>32</td>\n",
       "      <td>29.63%</td>\n",
       "      <td>$12.48M</td>\n",
       "      <td>$1.28M</td>\n",
       "    </tr>\n",
       "    <tr>\n",
       "      <th>10</th>\n",
       "      <td>Yield Aggregator</td>\n",
       "      <td>$1226.31M</td>\n",
       "      <td>$29.62M</td>\n",
       "      <td>2.42%</td>\n",
       "      <td>90</td>\n",
       "      <td>28</td>\n",
       "      <td>31.11%</td>\n",
       "      <td>$13.63M</td>\n",
       "      <td>$1.06M</td>\n",
       "    </tr>\n",
       "    <tr>\n",
       "      <th>11</th>\n",
       "      <td>Cross Chain</td>\n",
       "      <td>$659.35M</td>\n",
       "      <td>$87.15M</td>\n",
       "      <td>13.22%</td>\n",
       "      <td>20</td>\n",
       "      <td>1</td>\n",
       "      <td>5.0%</td>\n",
       "      <td>$32.97M</td>\n",
       "      <td>$87.15M</td>\n",
       "    </tr>\n",
       "    <tr>\n",
       "      <th>12</th>\n",
       "      <td>Synthetics</td>\n",
       "      <td>$605.31M</td>\n",
       "      <td>$8.66M</td>\n",
       "      <td>1.43%</td>\n",
       "      <td>30</td>\n",
       "      <td>4</td>\n",
       "      <td>13.33%</td>\n",
       "      <td>$20.18M</td>\n",
       "      <td>$2.17M</td>\n",
       "    </tr>\n",
       "    <tr>\n",
       "      <th>13</th>\n",
       "      <td>Privacy</td>\n",
       "      <td>$310.62M</td>\n",
       "      <td>$0.08M</td>\n",
       "      <td>0.02%</td>\n",
       "      <td>12</td>\n",
       "      <td>3</td>\n",
       "      <td>25.0%</td>\n",
       "      <td>$25.89M</td>\n",
       "      <td>$0.03M</td>\n",
       "    </tr>\n",
       "    <tr>\n",
       "      <th>14</th>\n",
       "      <td>Insurance</td>\n",
       "      <td>$335.0M</td>\n",
       "      <td>$0.49M</td>\n",
       "      <td>0.15%</td>\n",
       "      <td>21</td>\n",
       "      <td>1</td>\n",
       "      <td>4.76%</td>\n",
       "      <td>$15.95M</td>\n",
       "      <td>$0.49M</td>\n",
       "    </tr>\n",
       "    <tr>\n",
       "      <th>15</th>\n",
       "      <td>Indexes</td>\n",
       "      <td>$582.05M</td>\n",
       "      <td>$0.25M</td>\n",
       "      <td>0.04%</td>\n",
       "      <td>42</td>\n",
       "      <td>3</td>\n",
       "      <td>7.14%</td>\n",
       "      <td>$13.86M</td>\n",
       "      <td>$0.08M</td>\n",
       "    </tr>\n",
       "    <tr>\n",
       "      <th>16</th>\n",
       "      <td>Launchpad</td>\n",
       "      <td>$623.03M</td>\n",
       "      <td>$0.44M</td>\n",
       "      <td>0.07%</td>\n",
       "      <td>19</td>\n",
       "      <td>1</td>\n",
       "      <td>5.26%</td>\n",
       "      <td>$32.79M</td>\n",
       "      <td>$0.44M</td>\n",
       "    </tr>\n",
       "    <tr>\n",
       "      <th>17</th>\n",
       "      <td>Liquidity manager</td>\n",
       "      <td>$368.69M</td>\n",
       "      <td>$1.12M</td>\n",
       "      <td>0.3%</td>\n",
       "      <td>22</td>\n",
       "      <td>1</td>\n",
       "      <td>4.55%</td>\n",
       "      <td>$16.76M</td>\n",
       "      <td>$1.12M</td>\n",
       "    </tr>\n",
       "    <tr>\n",
       "      <th>18</th>\n",
       "      <td>NFT Lending</td>\n",
       "      <td>$365.46M</td>\n",
       "      <td>$0.77M</td>\n",
       "      <td>0.21%</td>\n",
       "      <td>21</td>\n",
       "      <td>1</td>\n",
       "      <td>4.76%</td>\n",
       "      <td>$17.4M</td>\n",
       "      <td>$0.77M</td>\n",
       "    </tr>\n",
       "    <tr>\n",
       "      <th>19</th>\n",
       "      <td>Payments</td>\n",
       "      <td>$208.07M</td>\n",
       "      <td>$0.0M</td>\n",
       "      <td>0.0%</td>\n",
       "      <td>10</td>\n",
       "      <td>0</td>\n",
       "      <td>0.0%</td>\n",
       "      <td>$20.81M</td>\n",
       "      <td>$nanM</td>\n",
       "    </tr>\n",
       "    <tr>\n",
       "      <th>20</th>\n",
       "      <td>Algo-Stables</td>\n",
       "      <td>$265.17M</td>\n",
       "      <td>$0.7M</td>\n",
       "      <td>0.26%</td>\n",
       "      <td>44</td>\n",
       "      <td>19</td>\n",
       "      <td>43.18%</td>\n",
       "      <td>$6.03M</td>\n",
       "      <td>$0.04M</td>\n",
       "    </tr>\n",
       "    <tr>\n",
       "      <th>21</th>\n",
       "      <td>NFT Marketplace</td>\n",
       "      <td>$150.51M</td>\n",
       "      <td>$0.0M</td>\n",
       "      <td>0.0%</td>\n",
       "      <td>14</td>\n",
       "      <td>0</td>\n",
       "      <td>0.0%</td>\n",
       "      <td>$10.75M</td>\n",
       "      <td>$nanM</td>\n",
       "    </tr>\n",
       "    <tr>\n",
       "      <th>22</th>\n",
       "      <td>RWA</td>\n",
       "      <td>$431.87M</td>\n",
       "      <td>$0.0M</td>\n",
       "      <td>0.0%</td>\n",
       "      <td>17</td>\n",
       "      <td>0</td>\n",
       "      <td>0.0%</td>\n",
       "      <td>$25.4M</td>\n",
       "      <td>$nanM</td>\n",
       "    </tr>\n",
       "    <tr>\n",
       "      <th>23</th>\n",
       "      <td>Leveraged Farming</td>\n",
       "      <td>$193.39M</td>\n",
       "      <td>$6.4M</td>\n",
       "      <td>3.31%</td>\n",
       "      <td>13</td>\n",
       "      <td>1</td>\n",
       "      <td>7.69%</td>\n",
       "      <td>$14.88M</td>\n",
       "      <td>$6.4M</td>\n",
       "    </tr>\n",
       "    <tr>\n",
       "      <th>24</th>\n",
       "      <td>Staking Pool</td>\n",
       "      <td>$53.89M</td>\n",
       "      <td>$0.0M</td>\n",
       "      <td>0.0%</td>\n",
       "      <td>10</td>\n",
       "      <td>0</td>\n",
       "      <td>0.0%</td>\n",
       "      <td>$5.39M</td>\n",
       "      <td>$nanM</td>\n",
       "    </tr>\n",
       "    <tr>\n",
       "      <th>25</th>\n",
       "      <td>Options Vault</td>\n",
       "      <td>$78.91M</td>\n",
       "      <td>$0.23M</td>\n",
       "      <td>0.29%</td>\n",
       "      <td>15</td>\n",
       "      <td>1</td>\n",
       "      <td>6.67%</td>\n",
       "      <td>$5.26M</td>\n",
       "      <td>$0.23M</td>\n",
       "    </tr>\n",
       "    <tr>\n",
       "      <th>26</th>\n",
       "      <td>Options</td>\n",
       "      <td>$123.17M</td>\n",
       "      <td>$0.05M</td>\n",
       "      <td>0.04%</td>\n",
       "      <td>36</td>\n",
       "      <td>1</td>\n",
       "      <td>2.78%</td>\n",
       "      <td>$3.42M</td>\n",
       "      <td>$0.05M</td>\n",
       "    </tr>\n",
       "    <tr>\n",
       "      <th>27</th>\n",
       "      <td>Reserve Currency</td>\n",
       "      <td>$6.74M</td>\n",
       "      <td>$0.01M</td>\n",
       "      <td>0.09%</td>\n",
       "      <td>52</td>\n",
       "      <td>43</td>\n",
       "      <td>82.69%</td>\n",
       "      <td>$0.13M</td>\n",
       "      <td>$0.0M</td>\n",
       "    </tr>\n",
       "    <tr>\n",
       "      <th>28</th>\n",
       "      <td>Uncollateralized Lending</td>\n",
       "      <td>$12.38M</td>\n",
       "      <td>$0.2M</td>\n",
       "      <td>1.61%</td>\n",
       "      <td>7</td>\n",
       "      <td>1</td>\n",
       "      <td>14.29%</td>\n",
       "      <td>$1.77M</td>\n",
       "      <td>$0.2M</td>\n",
       "    </tr>\n",
       "    <tr>\n",
       "      <th>29</th>\n",
       "      <td>Prediction Market</td>\n",
       "      <td>$21.6M</td>\n",
       "      <td>$0.0M</td>\n",
       "      <td>0.0%</td>\n",
       "      <td>20</td>\n",
       "      <td>0</td>\n",
       "      <td>0.0%</td>\n",
       "      <td>$1.08M</td>\n",
       "      <td>$nanM</td>\n",
       "    </tr>\n",
       "    <tr>\n",
       "      <th>30</th>\n",
       "      <td>Farm</td>\n",
       "      <td>$20.66M</td>\n",
       "      <td>$5.47M</td>\n",
       "      <td>26.46%</td>\n",
       "      <td>62</td>\n",
       "      <td>30</td>\n",
       "      <td>48.39%</td>\n",
       "      <td>$0.33M</td>\n",
       "      <td>$0.18M</td>\n",
       "    </tr>\n",
       "    <tr>\n",
       "      <th>31</th>\n",
       "      <td>RWA Lending</td>\n",
       "      <td>$2.39M</td>\n",
       "      <td>$0.0M</td>\n",
       "      <td>0.0%</td>\n",
       "      <td>3</td>\n",
       "      <td>0</td>\n",
       "      <td>0.0%</td>\n",
       "      <td>$0.8M</td>\n",
       "      <td>$nanM</td>\n",
       "    </tr>\n",
       "    <tr>\n",
       "      <th>32</th>\n",
       "      <td>Gaming</td>\n",
       "      <td>$2.08M</td>\n",
       "      <td>$0.0M</td>\n",
       "      <td>0.0%</td>\n",
       "      <td>9</td>\n",
       "      <td>0</td>\n",
       "      <td>0.0%</td>\n",
       "      <td>$0.23M</td>\n",
       "      <td>$nanM</td>\n",
       "    </tr>\n",
       "    <tr>\n",
       "      <th>33</th>\n",
       "      <td>Oracle</td>\n",
       "      <td>$0.0M</td>\n",
       "      <td>$0.0M</td>\n",
       "      <td>0.0%</td>\n",
       "      <td>1</td>\n",
       "      <td>0</td>\n",
       "      <td>0.0%</td>\n",
       "      <td>$0.0M</td>\n",
       "      <td>$nanM</td>\n",
       "    </tr>\n",
       "  </tbody>\n",
       "</table>\n",
       "</div>"
      ],
      "text/plain": [
       "                    category   total_tvl total_tvl_forks percent_forks  \\\n",
       "0                        CEX  $98808.44M           $0.0M          0.0%   \n",
       "1             Liquid Staking  $19559.06M        $109.39M         0.56%   \n",
       "2                        CDP   $9311.14M         $143.9M         1.55%   \n",
       "3                      Chain   $6488.77M           $0.0M          0.0%   \n",
       "4                     Bridge  $10431.25M        $190.93M         1.83%   \n",
       "5                      Dexes  $16444.37M       $4120.06M        25.05%   \n",
       "6                    Lending  $13951.75M       $1768.94M        12.68%   \n",
       "7                      Yield   $5044.37M         $38.53M         0.76%   \n",
       "8                   Services   $2348.45M           $0.0M          0.0%   \n",
       "9                Derivatives   $1348.02M         $41.08M         3.05%   \n",
       "10          Yield Aggregator   $1226.31M         $29.62M         2.42%   \n",
       "11               Cross Chain    $659.35M         $87.15M        13.22%   \n",
       "12                Synthetics    $605.31M          $8.66M         1.43%   \n",
       "13                   Privacy    $310.62M          $0.08M         0.02%   \n",
       "14                 Insurance     $335.0M          $0.49M         0.15%   \n",
       "15                   Indexes    $582.05M          $0.25M         0.04%   \n",
       "16                 Launchpad    $623.03M          $0.44M         0.07%   \n",
       "17         Liquidity manager    $368.69M          $1.12M          0.3%   \n",
       "18               NFT Lending    $365.46M          $0.77M         0.21%   \n",
       "19                  Payments    $208.07M           $0.0M          0.0%   \n",
       "20              Algo-Stables    $265.17M           $0.7M         0.26%   \n",
       "21           NFT Marketplace    $150.51M           $0.0M          0.0%   \n",
       "22                       RWA    $431.87M           $0.0M          0.0%   \n",
       "23         Leveraged Farming    $193.39M           $6.4M         3.31%   \n",
       "24              Staking Pool     $53.89M           $0.0M          0.0%   \n",
       "25             Options Vault     $78.91M          $0.23M         0.29%   \n",
       "26                   Options    $123.17M          $0.05M         0.04%   \n",
       "27          Reserve Currency      $6.74M          $0.01M         0.09%   \n",
       "28  Uncollateralized Lending     $12.38M           $0.2M         1.61%   \n",
       "29         Prediction Market      $21.6M           $0.0M          0.0%   \n",
       "30                      Farm     $20.66M          $5.47M        26.46%   \n",
       "31               RWA Lending      $2.39M           $0.0M          0.0%   \n",
       "32                    Gaming      $2.08M           $0.0M          0.0%   \n",
       "33                    Oracle       $0.0M           $0.0M          0.0%   \n",
       "\n",
       "    num_protocols  num_protocols_forks percent_protocols_forks    avg_tvl  \\\n",
       "0              26                    0                    0.0%  $3800.32M   \n",
       "1              86                    4                   4.65%   $227.43M   \n",
       "2              89                   26                  29.21%   $104.62M   \n",
       "3               7                    1                  14.29%   $926.97M   \n",
       "4              41                    2                   4.88%   $254.42M   \n",
       "5             818                  501                  61.25%     $20.1M   \n",
       "6             237                  106                  44.73%    $58.87M   \n",
       "7             351                   28                   7.98%    $14.37M   \n",
       "8              48                    1                   2.08%    $48.93M   \n",
       "9             108                   32                  29.63%    $12.48M   \n",
       "10             90                   28                  31.11%    $13.63M   \n",
       "11             20                    1                    5.0%    $32.97M   \n",
       "12             30                    4                  13.33%    $20.18M   \n",
       "13             12                    3                   25.0%    $25.89M   \n",
       "14             21                    1                   4.76%    $15.95M   \n",
       "15             42                    3                   7.14%    $13.86M   \n",
       "16             19                    1                   5.26%    $32.79M   \n",
       "17             22                    1                   4.55%    $16.76M   \n",
       "18             21                    1                   4.76%     $17.4M   \n",
       "19             10                    0                    0.0%    $20.81M   \n",
       "20             44                   19                  43.18%     $6.03M   \n",
       "21             14                    0                    0.0%    $10.75M   \n",
       "22             17                    0                    0.0%     $25.4M   \n",
       "23             13                    1                   7.69%    $14.88M   \n",
       "24             10                    0                    0.0%     $5.39M   \n",
       "25             15                    1                   6.67%     $5.26M   \n",
       "26             36                    1                   2.78%     $3.42M   \n",
       "27             52                   43                  82.69%     $0.13M   \n",
       "28              7                    1                  14.29%     $1.77M   \n",
       "29             20                    0                    0.0%     $1.08M   \n",
       "30             62                   30                  48.39%     $0.33M   \n",
       "31              3                    0                    0.0%      $0.8M   \n",
       "32              9                    0                    0.0%     $0.23M   \n",
       "33              1                    0                    0.0%      $0.0M   \n",
       "\n",
       "   avg_tvl_forks  \n",
       "0          $nanM  \n",
       "1        $27.35M  \n",
       "2         $5.53M  \n",
       "3          $0.0M  \n",
       "4        $95.47M  \n",
       "5         $8.22M  \n",
       "6        $16.69M  \n",
       "7         $1.38M  \n",
       "8          $0.0M  \n",
       "9         $1.28M  \n",
       "10        $1.06M  \n",
       "11       $87.15M  \n",
       "12        $2.17M  \n",
       "13        $0.03M  \n",
       "14        $0.49M  \n",
       "15        $0.08M  \n",
       "16        $0.44M  \n",
       "17        $1.12M  \n",
       "18        $0.77M  \n",
       "19         $nanM  \n",
       "20        $0.04M  \n",
       "21         $nanM  \n",
       "22         $nanM  \n",
       "23         $6.4M  \n",
       "24         $nanM  \n",
       "25        $0.23M  \n",
       "26        $0.05M  \n",
       "27         $0.0M  \n",
       "28         $0.2M  \n",
       "29         $nanM  \n",
       "30        $0.18M  \n",
       "31         $nanM  \n",
       "32         $nanM  \n",
       "33         $nanM  "
      ]
     },
     "execution_count": 8,
     "metadata": {},
     "output_type": "execute_result"
    }
   ],
   "source": [
    "# Pretty print summary stats on forks per category\n",
    "\n",
    "df = pd.read_csv('forks_summary.csv')\n",
    "\n",
    "df['percent_forks'] = df['percent_forks'].apply(lambda x: str(round(x * 100, 2)) + \"%\")\n",
    "df['percent_protocols_forks'] = df['percent_protocols_forks'].apply(lambda x: str(round(x * 100, 2)) + \"%\")\n",
    "\n",
    "# format total_tvl, total_tvl_forks, avg_tvl and avg_tvl_forks as millions of $ with 2 decimal places\n",
    "df['total_tvl'] = df['total_tvl'].apply(lambda x: \"$\" + str(round(x / 1000000, 2)) + \"M\")\n",
    "df['total_tvl_forks'] = df['total_tvl_forks'].apply(lambda x: \"$\" + str(round(x / 1000000, 2)) + \"M\")\n",
    "df['avg_tvl'] = df['avg_tvl'].apply(lambda x: \"$\" + str(round(x / 1000000, 2)) + \"M\")\n",
    "df['avg_tvl_forks'] = df['avg_tvl_forks'].apply(lambda x: \"$\" + str(round(x / 1000000, 2)) + \"M\")"
   ]
  },
  {
   "cell_type": "code",
   "execution_count": 61,
   "metadata": {},
   "outputs": [
    {
     "name": "stdout",
     "output_type": "stream",
     "text": [
      "CEX\n",
      "['Binance CEX', 'OKX', 'Bitfinex', 'Crypto-com', 'Bybit']\n",
      "\n",
      "\n",
      "\n",
      "Liquid Staking\n",
      "['Lido', 'Coinbase Wrapped Staked ETH', 'Rocket Pool', 'Frax Ether', 'StakeWise']\n",
      "Liquid Staking: OKC Liquid Staking: ['Lido']: 95496145.96332309\n",
      "\n",
      "\n",
      "\n",
      "CDP\n",
      "['MakerDAO', 'JustStables', 'Liquity', 'Abracadabra', 'Lybra Finance']\n",
      "CDP: Helio Protocol: ['MakerDAO']: 48073492.45624114\n",
      "CDP: Gravita Protocol: ['Liquity']: 20233047.829031557\n",
      "CDP: DeFi Franc: ['Liquity']: 17916915.097387068\n",
      "CDP: Vesta Finance: ['Liquity']: 15825425.39945212\n",
      "CDP: Yeti Finance: ['Liquity']: 12774001.652068302\n",
      "CDP: Ethos Reserve: ['Liquity']: 5966495.617225461\n",
      "CDP: FLRLoans: ['Liquity']: 1314058.5736362722\n",
      "CDP: Davos Protocol: ['MakerDAO']: 508930.1733956234\n",
      "CDP: xDollar: ['Liquity']: 301514.4344615274\n",
      "CDP: PolyQuity: ['Liquity']: 195266.66313958424\n",
      "CDP: TopShelf: ['Liquity']: 129433.46417120536\n",
      "CDP: MahaDAO Arth: ['Liquity']: 51485.05351558609\n",
      "CDP: Teddy Cash: ['Liquity']: 49517.36\n",
      "CDP: Fluity: ['Liquity']: 37984.00263582736\n",
      "CDP: Stabilize: ['Liquity']: 32900.4971593386\n",
      "CDP: Piggy: ['Liquity']: 18819.1804662132\n",
      "CDP: Aquarius: ['Liquity']: 9401.905879388392\n",
      "CDP: North Pole: ['Abracadabra']: 1811.4236600791724\n",
      "CDP: Defi Halal: ['Liquity']: 162.3797485291663\n",
      "CDP: Real Protocol: ['Liquity']: 0.00335276630953\n",
      "\n",
      "\n",
      "\n",
      "Chain\n",
      "['Polygon Bridge & Staking', 'Stacks Staking', 'xDAI Stake Bridge', 'Nuls', 'Secret Network']\n",
      "\n",
      "\n",
      "\n",
      "Bridge\n",
      "['WBTC', 'JustCryptos', 'Multichain', 'Portal', 'Poly Network']\n",
      "\n",
      "\n",
      "\n",
      "Dexes\n",
      "['Curve DEX', 'Uniswap V3', 'PancakeSwap AMM', 'Uniswap V2', 'Balancer V2']\n",
      "Dexes: PancakeSwap AMM: ['Uniswap V2']: 1362101096.4507\n",
      "Dexes: SushiSwap: ['Uniswap V2']: 378471069.4945141\n",
      "Dexes: PancakeSwap AMM V3: ['Uniswap V3']: 303155643.6464566\n",
      "Dexes: VVS Finance: ['Uniswap V2']: 162553783.03868955\n",
      "Dexes: BiSwap: ['Uniswap V2']: 159869111.6837674\n",
      "Dexes: SashimiSwap: ['Uniswap V2']: 94552509.34867026\n",
      "Dexes: Katana DEX: ['Uniswap V2']: 90119891.72711146\n",
      "Dexes: Camelot V2: ['Uniswap V2']: 85320710.87293828\n",
      "Dexes: Quickswap Dex: ['Uniswap V2']: 74998248.65656123\n",
      "Dexes: Frax Swap: ['Uniswap V2']: 61564879.69710561\n",
      "Dexes: SpookySwap: ['Uniswap V2']: 52910563.97993379\n",
      "Dexes: MDEX: ['Uniswap V2']: 34821963.975997634\n",
      "Dexes: Trader Joe DEX: ['Uniswap V2']: 33232050.147145\n",
      "Dexes: BabyDogeSwap: ['Uniswap V2']: 32545796.86571584\n",
      "Dexes: MojitoSwap: ['Uniswap V2']: 27558888.99609682\n",
      "Dexes: Pangolin: ['Uniswap V2']: 25561609.20822322\n",
      "Dexes: OKCSwap: ['Uniswap V2']: 24929183.053951144\n",
      "Dexes: ApeSwap AMM: ['Uniswap V2']: 24381290.968500342\n",
      "Dexes: ShibaSwap: ['Uniswap V2']: 24268331.111697853\n",
      "Dexes: Swappi: ['Uniswap V2']: 21135473.03912291\n",
      "Dexes: Dfyn Network: ['Uniswap V2']: 16537535.714449205\n",
      "Dexes: SmarDex: ['Uniswap V2']: 16266489.367621182\n",
      "Dexes: Verse: ['Uniswap V2']: 16103311.1081995\n",
      "Dexes: SaucerSwap: ['Uniswap V2']: 15817842.5731\n",
      "Dexes: ArthSwap: ['Uniswap V2']: 10186987.844459511\n",
      "Dexes: VanSwap: ['Uniswap V2']: 8411209.854284957\n",
      "Dexes: BakerySwap: ['Uniswap V2']: 7961033.085479048\n",
      "Dexes: Mimo: ['Uniswap V2']: 7712474.062136739\n",
      "Dexes: SpaceFi: ['Uniswap V2']: 7312583.467844294\n",
      "Dexes: Arbitrum Exchange V3: ['Uniswap V3']: 7076799.104296629\n",
      "Dexes: Arbitrum Exchange V2: ['Uniswap V2']: 6953033.757377118\n",
      "Dexes: KnightSwap Finance: ['Uniswap V2']: 6856134.011974924\n",
      "Dexes: MM Finance Cronos: ['Uniswap V2']: 6550337.920697009\n",
      "Dexes: Orion Protocol: ['Uniswap V2']: 6359455.203991998\n",
      "Dexes: Honeyswap: ['Uniswap V2']: 5920631.055554751\n",
      "Dexes: Pangea Swap: ['Uniswap V2']: 5765325.814920299\n",
      "Dexes: DOOAR: ['Uniswap V2']: 5756881.117373211\n",
      "Dexes: SpiritSwap AMM: ['Uniswap V2']: 5481536.346331949\n",
      "Dexes: Crystalvale: ['Uniswap V2']: 5341624.962474603\n",
      "Dexes: UltronSwap: ['Uniswap V2']: 5319598.579784216\n",
      "Dexes: Kaidex: ['Uniswap V2']: 5231530.682847339\n",
      "Dexes: Nomiswap: ['Uniswap V2']: 5060565.168407598\n",
      "Dexes: Zyberswap V3: ['Uniswap V2']: 4945773.602944112\n",
      "Dexes: NetSwap: ['Uniswap V2']: 4389309.806863229\n",
      "Dexes: Solarbeam: ['Uniswap V2']: 4360617.104804679\n",
      "Dexes: WigoSwap: ['Uniswap V2']: 4100596.61808009\n",
      "Dexes: Arbswap AMM: ['Uniswap V2']: 4066744.8998892526\n",
      "Dexes: BabySwap: ['Uniswap V2']: 3756152.1012206655\n",
      "Dexes: Yoshi Exchange: ['Uniswap V2']: 3594733.580804165\n",
      "Dexes: YokaiSwap: ['Uniswap V2']: 3393320.440136711\n",
      "Dexes: SharkSwap: ['Uniswap V2']: 3196239.3733558105\n",
      "Dexes: Trisolaris: ['Uniswap V2']: 2975358.2895721383\n",
      "Dexes: FLRX: ['Uniswap V2']: 2956763.354613724\n",
      "Dexes: BurgerSwap: ['Uniswap V2']: 2881517.6466358844\n",
      "Dexes: ArcherSwap: ['Uniswap V2']: 2762577.5746621247\n",
      "Dexes: Defi Kingdoms: ['Uniswap V2']: 2684488.6404141886\n",
      "Dexes: XSwap Protocol: ['Uniswap V2']: 2643845.7034945204\n",
      "Dexes: SushiSwap V3: ['Uniswap V3']: 2553597.217947875\n",
      "Dexes: VoltSwap V2: ['Uniswap V2']: 2511829.265979187\n",
      "Dexes: NEOPIN Pool: ['Uniswap V2']: 2502376.5680207373\n",
      "Dexes: Ubeswap: ['Uniswap V2']: 2454671.65663996\n",
      "Dexes: RadioShack: ['Uniswap V2']: 2452549.756469137\n",
      "Dexes: CherrySwap: ['Uniswap V2']: 2411052.6783105624\n",
      "Dexes: HeliSwap: ['Uniswap V2']: 2341851.3596686097\n",
      "Dexes: Tealswap: ['Uniswap V2']: 2285297.714053838\n",
      "Dexes: Unicly: ['Uniswap V2']: 2147070.1675281096\n",
      "Dexes: ClaimSwap: ['Uniswap V2']: 2118751.7375261374\n",
      "Dexes: Defi Swap: ['Uniswap V2']: 2089453.1809480125\n",
      "Dexes: BenSwap: ['Uniswap V2']: 2075695.7862806115\n",
      "Dexes: BSCSwap: ['Uniswap V2']: 2072039.2576226096\n",
      "Dexes: Forge: ['Uniswap V3']: 1931367.8511869332\n",
      "Dexes: Swapr: ['Uniswap V2']: 1913340.7242775743\n",
      "Dexes: ShadowSwap: ['Uniswap V2']: 1744707.308356468\n",
      "Dexes: FstSwap: ['Uniswap V2']: 1739209.4432531432\n",
      "Dexes: Titano Swych: ['Uniswap V2']: 1678618.298260658\n",
      "Dexes: Hydradex V3: ['Uniswap V3']: 1668179.792716573\n",
      "Dexes: FX Swap: ['Uniswap V2']: 1654053.5550155404\n",
      "Dexes: Elk: ['Uniswap V2']: 1611268.2898417497\n",
      "Dexes: Lif3 Swap: ['Uniswap V2']: 1524068.350008654\n",
      "Dexes: LFGSwap Core: ['Uniswap V2']: 1516197.5038316443\n",
      "Dexes: EmpireDEX: ['Uniswap V2']: 1493191.0392368352\n",
      "Dexes: Moon Swap: ['Uniswap V2']: 1479228.5052733775\n",
      "Dexes: MM Finance Polygon: ['Uniswap V2']: 1410834.2189284663\n",
      "Dexes: Voltage: ['Uniswap V2', 'Compound']: 1367561.8497913708\n",
      "Dexes: SaitaSwap: ['Uniswap V2']: 1342947.905025548\n",
      "Dexes: Swapsicle: ['Uniswap V2']: 1306084.6702670068\n",
      "Dexes: WagyuSwap: ['Uniswap V2']: 1281284.0006936148\n",
      "Dexes: LFGSwap Arbitrum: ['Uniswap V2']: 1267058.6895001917\n",
      "Dexes: YuzuSwap: ['Uniswap V2']: 1258503.5729737114\n",
      "Dexes: LuaSwap: ['Uniswap V2']: 1219185.6170026744\n",
      "Dexes: IcecreamSwap: ['Uniswap V2']: 1208933.0710793354\n",
      "Dexes: HiveSwap: ['Uniswap V2']: 1160170.429614816\n",
      "Dexes: MM Finance Arbitrum V3: ['Uniswap V3']: 1155274.7138803278\n",
      "Dexes: Maia V3: ['Uniswap V3']: 1145704.5407071584\n",
      "Dexes: NiiFi: ['Uniswap V2']: 1098997.3189483276\n",
      "Dexes: OreoSwap: ['Uniswap V2']: 1076169.555483697\n",
      "Dexes: PegaSys: ['Uniswap V2']: 1064167.4088821143\n",
      "Dexes: Tethys AMM: ['Uniswap V2', 'Impermax Finance']: 988494.4597857918\n",
      "Dexes: Fusion Dex: ['Uniswap V2']: 986806.8917911034\n",
      "Dexes: Intercroneswap: ['Uniswap V2']: 970856.1067177335\n",
      "Dexes: Sphynx: ['Uniswap V2']: 970825.5973368752\n",
      "Dexes: KuSwap: ['Uniswap V2']: 969393.9221077836\n",
      "Dexes: Glide Finance: ['Uniswap V2']: 898050.3513315695\n",
      "Dexes: MM Finance Arbitrum: ['Uniswap V2']: 880226.4983886782\n",
      "Dexes: Alita Finance: ['Uniswap V2']: 855142.9959487907\n",
      "Dexes: Noah Swap: ['Uniswap V2']: 848856.0275625812\n",
      "Dexes: Crodex: ['Uniswap V2']: 828764.2739732345\n",
      "Dexes: Vexchange: ['Uniswap V2']: 803467.0346219006\n",
      "Dexes: OolongSwap: ['Uniswap V2']: 771221.074678744\n",
      "Dexes: Zenlink AMM: ['Uniswap V2']: 764775.7226374993\n",
      "Dexes: BeamSwap Classic: ['Uniswap V2']: 728277.8917241676\n",
      "Dexes: DogeSwapOrg: ['Uniswap V2']: 693441.4386978073\n",
      "Dexes: Cometh: ['Uniswap V2']: 682968.8313770284\n",
      "Dexes: Bitindi Dex: ['Uniswap V2']: 673991.4490057966\n",
      "Dexes: CroSwap: ['Uniswap V2']: 670048.1373815229\n",
      "Dexes: JulSwap: ['Uniswap V2']: 658893.8754314042\n",
      "Dexes: Paraluni Dex: ['Uniswap V2']: 651319.5346775415\n",
      "Dexes: Polycat Dex: ['Uniswap V2']: 636132.4417905399\n",
      "Dexes: JetSwap: ['Uniswap V2']: 625534.3383488201\n",
      "Dexes: TangoSwap: ['Uniswap V2']: 617551.3190217403\n",
      "Dexes: BXH: ['Uniswap V2']: 601434.3895879823\n",
      "Dexes: Soy Finance: ['Uniswap V2']: 595456.7383899149\n",
      "Dexes: AstroSwap: ['Uniswap V2']: 594612.6788209996\n",
      "Dexes: RCPswap: ['Uniswap V2']: 591606.6060296205\n",
      "Dexes: Energiswap: ['Uniswap V2']: 591184.1989129457\n",
      "Dexes: HyperJump: ['Uniswap V2']: 590987.6478345337\n",
      "Dexes: KSwap Finance: ['Uniswap V2']: 589440.3531652284\n",
      "Dexes: CronaSwap: ['Uniswap V2']: 585081.7787764107\n",
      "Dexes: JSwap: ['Uniswap V2']: 583271.2930684114\n",
      "Dexes: Coinswap Space: ['Uniswap V2']: 568385.2309110921\n",
      "Dexes: OccamX: ['Uniswap V2']: 566433.2353208557\n",
      "Dexes: Dove Swap V3: ['Uniswap V3']: 551575.1344649652\n",
      "Dexes: Convergence: ['Uniswap V2']: 542340.4311405161\n",
      "Dexes: KyotoSwap: ['Uniswap V2']: 537978.2061081163\n",
      "Dexes: ProtoFi: ['Uniswap V2']: 509003.5471535047\n",
      "Dexes: Globiance: ['Uniswap V2']: 503071.8588396162\n",
      "Dexes: Levinswap: ['Uniswap V2']: 475863.7960860848\n",
      "Dexes: WardenSwap: ['Uniswap V2']: 473187.5369042379\n",
      "Dexes: MistSwap: ['Uniswap V2']: 471091.6128652984\n",
      "Dexes: PinkSwap: ['Uniswap V2']: 452164.5502521569\n",
      "Dexes: ThetaSwap: ['Uniswap V2']: 450914.8282873238\n",
      "Dexes: SatoshiCoreSwap: ['Uniswap V2']: 442264.5199109212\n",
      "Dexes: Pippi: ['Uniswap V2']: 439740.0005589071\n",
      "Dexes: GIBXSwap: ['Uniswap V2']: 431716.1717613497\n",
      "Dexes: Dinosaur Eggs: ['Uniswap V2']: 429308.4612894264\n",
      "Dexes: SoulSwap: ['Uniswap V2']: 418916.43570390425\n",
      "Dexes: KibbleSwap: ['Uniswap V2']: 408756.0356002919\n",
      "Dexes: CarbonSwap: ['Uniswap V2']: 395468.22305912094\n",
      "Dexes: W3swap: ['Uniswap V2']: 372392.1783722646\n",
      "Dexes: WAGMI: ['Uniswap V3']: 371747.9149324991\n",
      "Dexes: MIND Games: ['Uniswap V2']: 369688.4004785277\n",
      "Dexes: LaserSwap: ['Uniswap V2']: 362421.2075233304\n",
      "Dexes: Gin Finance: ['Uniswap V2']: 341163.39749802125\n",
      "Dexes: VeRocket: ['Uniswap V2']: 338269.22877735586\n",
      "Dexes: HebeSwap: ['Uniswap V2']: 330369.7770096885\n",
      "Dexes: AutoShark: ['Uniswap V2']: 328728.4507470707\n",
      "Dexes: Narwhalswap: ['Uniswap V2']: 314664.62831969163\n",
      "Dexes: PantherSwap: ['Uniswap V2']: 304281.4438287167\n",
      "Dexes: Moonswap: ['Uniswap V2']: 301282.5553614881\n",
      "Dexes: VoltSwap: ['Uniswap V2']: 298283.4629784742\n",
      "Dexes: PureSwap: ['Uniswap V2']: 294647.45012074226\n",
      "Dexes: Alphadex: ['Uniswap V2']: 293403.18622491776\n",
      "Dexes: Phenix DEX: ['Uniswap V2']: 290216.25296778866\n",
      "Dexes: OmniDex Swap: ['Uniswap V2']: 282366.3890963935\n",
      "Dexes: Bored Candy City: ['Uniswap V2']: 281304.06438114063\n",
      "Dexes: Lizard: ['Uniswap V2']: 263414.58910620015\n",
      "Dexes: PadSwap: ['Uniswap V2']: 258199.6340573112\n",
      "Dexes: BAO Swap: ['Uniswap V2']: 254759.8809752733\n",
      "Dexes: AuroraSwap: ['Uniswap V2']: 253756.65147392693\n",
      "Dexes: Uswap: ['Uniswap V2']: 244064.9974787073\n",
      "Dexes: MilkySwap: ['Uniswap V2']: 241367.20167663496\n",
      "Dexes: Gravity Finance: ['Uniswap V2']: 240673.64193372228\n",
      "Dexes: Neutroswap: ['Uniswap V2']: 236888.6898970417\n",
      "Dexes: Onsen Swap: ['Uniswap V2']: 225249.19910095417\n",
      "Dexes: HurricaneSwap: ['Uniswap V2']: 220554.3841821137\n",
      "Dexes: Polydex: ['Uniswap V2']: 217980.3608459168\n",
      "Dexes: YouSwap: ['Uniswap V2']: 217248.18355736556\n",
      "Dexes: Nearpad: ['Uniswap V2']: 207050.02662363017\n",
      "Dexes: ChickenSwap: ['Uniswap V2']: 201776.8589451199\n",
      "Dexes: Lydia: ['Uniswap V2']: 201449.25790098408\n",
      "Dexes: StarSwap: ['Uniswap V2']: 192992.14782798613\n",
      "Dexes: WannaSwap: ['Uniswap V2']: 187245.43173087417\n",
      "Dexes: WinerySwap: ['Uniswap V2']: 185463.8597040288\n",
      "Dexes: GemKeeper: ['Uniswap V2']: 175450.75630225573\n",
      "Dexes: WingSwap: ['Uniswap V2']: 169019.17228377383\n",
      "Dexes: PhotonSwap Finance: ['Uniswap V2']: 167065.9124465378\n",
      "Dexes: Shinobi: ['Uniswap V2']: 163690.306876037\n",
      "Dexes: Oracle Swap: ['Uniswap V2']: 162802.14291121735\n",
      "Dexes: SmartDEX: ['Uniswap V2']: 155697.80856239004\n",
      "Dexes: BecoSwap: ['Uniswap V2']: 154455.92640324828\n",
      "Dexes: Varen: ['Uniswap V2']: 152144.97005768286\n",
      "Dexes: OpenXswap: ['Uniswap V2']: 149583.0142728983\n",
      "Dexes: Yodeswap: ['Uniswap V2']: 145837.4481447685\n",
      "Dexes: SwapFish: ['Uniswap V2']: 139655.11942582493\n",
      "Dexes: Standard Protocol: ['Uniswap V2']: 138367.94053076988\n",
      "Dexes: Huckleberry AMM: ['Uniswap V2']: 131473.9223550606\n",
      "Dexes: ZipSwap: ['Uniswap V2']: 126292.89175974375\n",
      "Dexes: Degen Haus: ['Uniswap V2']: 125425.750823421\n",
      "Dexes: CafeSwap: ['Uniswap V2']: 125080.08371120636\n",
      "Dexes: Diffusion Finance: ['Uniswap V2']: 121091.4147518627\n",
      "Dexes: ZYXSwap: ['Uniswap V2']: 118165.57267407113\n",
      "Dexes: Paint Swap: ['Uniswap V2']: 117668.08887514177\n",
      "Dexes: Muffin: ['Uniswap V2']: 116923.36774403718\n",
      "Dexes: TTswap: ['Uniswap V2']: 114796.37904433224\n",
      "Dexes: ProtossDex: ['Uniswap V2']: 114354.4177400602\n",
      "Dexes: HunnySwap: ['Uniswap V2']: 114186.11328846872\n",
      "Dexes: Firebird: ['Uniswap V2']: 113232.76788068672\n",
      "Dexes: MiniSwap: ['Uniswap V2']: 112761.2040863861\n",
      "Dexes: Complus Network: ['Uniswap V2']: 102737.45586637798\n",
      "Dexes: Zappy: ['Uniswap V2']: 95996.8269656398\n",
      "Dexes: 0.exchange: ['Uniswap V2']: 93983.33398288072\n",
      "Dexes: ButterSwap: ['Uniswap V2']: 90516.2208667919\n",
      "Dexes: Solarflare: ['Uniswap V2']: 89716.99429254918\n",
      "Dexes: Excalibur: ['Uniswap V2']: 88780.27342319561\n",
      "Dexes: Capricorn Finance: ['Uniswap V2']: 88361.96847157461\n",
      "Dexes: Crow Finance: ['Uniswap V2']: 88267.24416501488\n",
      "Dexes: Baguette: ['Uniswap V2']: 86680.28075422917\n",
      "Dexes: YetiSwap: ['Uniswap V2']: 85827.73905970101\n",
      "Dexes: LFGSwap EthereumPoW: ['Uniswap V2']: 85374.70085526303\n",
      "Dexes: MemeDex: ['Uniswap V2']: 77923.50380934295\n",
      "Dexes: ViperSwap: ['Uniswap V2']: 77519.43371803626\n",
      "Dexes: Starmaker: ['Uniswap V2']: 70550.05663286976\n",
      "Dexes: EvmoSwap: ['Uniswap V2']: 70452.53409919256\n",
      "Dexes: KwikSwap: ['Uniswap V2']: 69427.30694403763\n",
      "Dexes: PowerSwap: ['Uniswap V2']: 69285.72469534734\n",
      "Dexes: MochiSwap: ['Uniswap V2']: 67047.14101363716\n",
      "Dexes: BoneSwap Bonerium: ['Uniswap V2']: 66738.73867859643\n",
      "Dexes: Forge SX Trade: ['Uniswap V2']: 64503.45726170015\n",
      "Dexes: RskSwap: ['Uniswap V2']: 61610.83976507766\n",
      "Dexes: SumSwap: ['Uniswap V2']: 59416.894712655485\n",
      "Dexes: CGX Finance: ['Uniswap V2']: 58535.74027417839\n",
      "Dexes: UniWswap AMM: ['Uniswap V2']: 58259.34969649306\n",
      "Dexes: HakuSwap: ['Uniswap V2']: 51011.75251611801\n",
      "Dexes: KACO Finance: ['Uniswap V2']: 50326.73500333916\n",
      "Dexes: LatteSwap: ['Uniswap V2']: 49507.61968187362\n",
      "Dexes: ZooCoin: ['Uniswap V2']: 47527.10365506096\n",
      "Dexes: SeaDex: ['Uniswap V2']: 46859.1066051053\n",
      "Dexes: Fathom Dex: ['Uniswap V2']: 46570.585152768086\n",
      "Dexes: Forteswap: ['Uniswap V2']: 45520.38779239408\n",
      "Dexes: EmiSwap: ['Uniswap V2']: 45416.939161103\n",
      "Dexes: Kebab Finance: ['Uniswap V2']: 45379.9626059344\n",
      "Dexes: BaptSwap: ['Uniswap V2']: 44429.42885721124\n",
      "Dexes: onAVAX: ['Uniswap V2']: 43504.14094614526\n",
      "Dexes: VeniceSwap: ['Uniswap V2']: 41560.32719500711\n",
      "Dexes: Morpheus Swap: ['Uniswap V2']: 41209.42044033\n",
      "Dexes: AmpleSwap: ['Uniswap V2']: 40980.99452243611\n",
      "Dexes: CapitalDEX: ['Uniswap V2']: 40503.45331750368\n",
      "Dexes: Redemption: ['Uniswap V2']: 40412.66024146226\n",
      "Dexes: Ladex Exchange: ['Uniswap V2']: 40234.62007255778\n",
      "Dexes: PolkaEx: ['Uniswap V2']: 39018.79886718575\n",
      "Dexes: Pls2e: ['Uniswap V2']: 37901.79640040365\n",
      "Dexes: HSwap: ['Uniswap V2']: 37255.093702453545\n",
      "Dexes: RocketSwap: ['Uniswap V2']: 37064.48645638985\n",
      "Dexes: DuckyDeFi: ['Uniswap V2']: 36637.98174483696\n",
      "Dexes: DuneSwap: ['Uniswap V2']: 36181.77839459952\n",
      "Dexes: CantoSwap: ['Uniswap V2']: 35728.457052928505\n",
      "Dexes: SonicSwap: ['Uniswap V2']: 34679.60748721213\n",
      "Dexes: Subzero ZSwap: ['Uniswap V2']: 33990.31924853063\n",
      "Dexes: Hydradex V2: ['Uniswap V2']: 33359.84313214974\n",
      "Dexes: CyborgSwap: ['Uniswap V2']: 33346.364230255145\n",
      "Dexes: Gravis Finance: ['Uniswap V2']: 32748.94329730686\n",
      "Dexes: ThorusFi: ['Uniswap V2']: 31384.43342622101\n",
      "Dexes: Clever Protocol: ['Uniswap V2']: 30633.791242255866\n",
      "Dexes: OrbitalSwap: ['Uniswap V2']: 30077.688722824765\n",
      "Dexes: PolyDEX-Cryption Network: ['Uniswap V2']: 29028.7064570663\n",
      "Dexes: FairySwap V2: ['Uniswap V2']: 28704.06890305389\n",
      "Dexes: Hpdex: ['Uniswap V2']: 27301.13729437203\n",
      "Dexes: FairySwap V1: ['Uniswap V2']: 26500.80497864122\n",
      "Dexes: CobraSwap: ['Uniswap V2']: 25789.96550853082\n",
      "Dexes: LeetSwap: ['Uniswap V2']: 25732.84220884428\n",
      "Dexes: Surfswap Classic: ['Uniswap V2']: 25382.56315110278\n",
      "Dexes: LeonicornSwap: ['Uniswap V2']: 25304.5213219857\n",
      "Dexes: SwapperChan: ['Uniswap V2']: 21174.06467076536\n",
      "Dexes: Yapeswap: ['Uniswap V2']: 21057.16407365546\n",
      "Dexes: Astar Exchange V2: ['Uniswap V2']: 21007.067561252978\n",
      "Dexes: PonySwap: ['Uniswap V2']: 20951.529467182678\n",
      "Dexes: KokomoSwap: ['Uniswap V2']: 20883.824402728795\n",
      "Dexes: Tropical Finance: ['Uniswap V2']: 20444.238161699588\n",
      "Dexes: WhaleSwap: ['Uniswap V2']: 19443.56739118329\n",
      "Dexes: LootSwap: ['Uniswap V2']: 19407.534992989986\n",
      "Dexes: zkMoonSwap: ['Uniswap V2']: 18767.25100043106\n",
      "Dexes: Frogge.Finance: ['Uniswap V2']: 18543.456412634936\n",
      "Dexes: Alium Swap: ['Uniswap V2']: 18241.74937516492\n",
      "Dexes: Cronus Finance: ['Uniswap V2']: 18186.527600268128\n",
      "Dexes: PartySwap: ['Uniswap V2']: 17749.293989120048\n",
      "Dexes: Fuzz Finance: ['Uniswap V2']: 17485.792745349252\n",
      "Dexes: MyTrade: ['Uniswap V2']: 16897.548181077378\n",
      "Dexes: GoSwap: ['Uniswap V2']: 16102.163537134502\n",
      "Dexes: Wojak Finance: ['Uniswap V2']: 15883.591368637188\n",
      "Dexes: FlashLiquidity: ['Uniswap V2']: 15840.468735241611\n",
      "Dexes: YieldFields: ['Uniswap V2']: 15795.085315785522\n",
      "Dexes: FreeRiver: ['Uniswap V2']: 15614.03396336031\n",
      "Dexes: TiFi: ['Uniswap V2']: 15598.352889412605\n",
      "Dexes: SafeSwap: ['Uniswap V2']: 14875.424754490305\n",
      "Dexes: ArbiSwap: ['Uniswap V2']: 14180.16736683105\n",
      "Dexes: BossSwap: ['Uniswap V2']: 14167.989021293572\n",
      "Dexes: Sharky Swap: ['Uniswap V2']: 14081.663571629171\n",
      "Dexes: CorgiSwap: ['Uniswap V2']: 13841.571650314509\n",
      "Dexes: Moonbase Alpha: ['Uniswap V2']: 13698.240340069391\n",
      "Dexes: SugarSwap: ['Uniswap V2']: 13263.836934371486\n",
      "Dexes: OpenSwap: ['Uniswap V2']: 12899.231224986768\n",
      "Dexes: SMBSwap V3: ['Uniswap V3']: 12215.570925358468\n",
      "Dexes: Alligator: ['Uniswap V2']: 11937.734949990609\n",
      "Dexes: Versa Finance: ['Uniswap V2']: 11824.02602102776\n",
      "Dexes: Shiba Fantom: ['Uniswap V2']: 11731.15967867811\n",
      "Dexes: PoWSwap: ['Uniswap V2']: 11719.897350107967\n",
      "Dexes: KryptoDex: ['Uniswap V2']: 11510.8226420867\n",
      "Dexes: ETCswap: ['Uniswap V2']: 10877.35691767323\n",
      "Dexes: SWAPP: ['Uniswap V2']: 10826.029216688066\n",
      "Dexes: BarnSwap: ['Uniswap V2']: 10752.620472149025\n",
      "Dexes: Shibance: ['Uniswap V2']: 10309.24956434096\n",
      "Dexes: 1BCH: ['Uniswap V2']: 10096.96653221518\n",
      "Dexes: Neuronswap: ['Uniswap V2']: 9826.240275839173\n",
      "Dexes: Hades Swap: ['Uniswap V2']: 9376.441992593129\n",
      "Dexes: Doge Shrek: ['Uniswap V2']: 8893.854640412403\n",
      "Dexes: ZenithSwap: ['Uniswap V2']: 8885.917940968448\n",
      "Dexes: Energyfi: ['Uniswap V2']: 7621.238321382055\n",
      "Dexes: ScarySwap: ['Uniswap V2']: 7602.606539942057\n",
      "Dexes: CryptoSwap: ['Uniswap V2']: 7396.057720925264\n",
      "Dexes: DogMoney: ['Uniswap V2']: 6879.685711927417\n",
      "Dexes: zkSwap Era: ['Uniswap V2']: 6547.436014051125\n",
      "Dexes: OortSwap: ['Uniswap V2']: 6502.400524792233\n",
      "Dexes: Bitgert Swap: ['Uniswap V2']: 6304.317283467822\n",
      "Dexes: CowSwap smartBCH: ['Uniswap V2']: 6180.127883299223\n",
      "Dexes: DynastySwap: ['Uniswap V2']: 5785.362062399255\n",
      "Dexes: SMBSwap V2: ['Uniswap V2']: 5636.584101969268\n",
      "Dexes: casinocronos: ['Uniswap V2']: 5010.089850818245\n",
      "Dexes: HopSwap: ['Uniswap V2']: 4908.678393718412\n",
      "Dexes: BeamSwap Stable AMM: ['Uniswap V2']: 4375.349829356563\n",
      "Dexes: DogeMuskSwap: ['Uniswap V2']: 4211.8245358584245\n",
      "Dexes: Jujube Finance: ['Uniswap V2']: 3770.7084629182\n",
      "Dexes: Dino.Exchange: ['Uniswap V2']: 3744.756495186657\n",
      "Dexes: QuasarSwap: ['Uniswap V2']: 3422.224851637953\n",
      "Dexes: Oni Exchange: ['Uniswap V2']: 3232.3443467143084\n",
      "Dexes: Bourbon Defi: ['Uniswap V2']: 3158.974217764141\n",
      "Dexes: VultureSwap: ['Uniswap V2']: 3133.882091796544\n",
      "Dexes: WraithSwap: ['Uniswap V2']: 3124.4670004321224\n",
      "Dexes: 1Beam: ['Uniswap V2']: 3091.6605221767754\n",
      "Dexes: EmberSwap: ['Uniswap V2']: 3023.233378325896\n",
      "Dexes: FATExFi: ['Uniswap V2']: 2929.0733715800056\n",
      "Dexes: IFSwap: ['Uniswap V2']: 2785.956642645285\n",
      "Dexes: Surfswap Stable AMM: ['Uniswap V2']: 2727.460310664818\n",
      "Dexes: Elephantdex: ['Uniswap V2']: 2690.834772215963\n",
      "Dexes: SmolSwap: ['Uniswap V2']: 2374.689702434464\n",
      "Dexes: FunBeast: ['Uniswap V2']: 2300.081573941069\n",
      "Dexes: AGS Finance: ['Uniswap V2']: 2259.3246077469407\n",
      "Dexes: HipPoWSwap: ['Uniswap V2']: 2218.296403990411\n",
      "Dexes: DefySwap: ['Uniswap V2']: 2144.6299181053546\n",
      "Dexes: Dove Swap V2: ['Uniswap V2']: 2105.0909099886694\n",
      "Dexes: InfiniTORR: ['Uniswap V2']: 2045.1260674156065\n",
      "Dexes: Oaswap: ['Uniswap V2']: 1943.848416192856\n",
      "Dexes: SkullSwap V2: ['Uniswap V2']: 1776.1553029660954\n",
      "Dexes: SweetSwap: ['Uniswap V2']: 1711.7514229296874\n",
      "Dexes: SwapMatic: ['Uniswap V2']: 1515.8520225347163\n",
      "Dexes: Jupiter Swap: ['Uniswap V2']: 1468.2507968632597\n",
      "Dexes: Kasava Dex: ['Uniswap V2']: 1455.660214766316\n",
      "Dexes: TendieSwap: ['Uniswap V2']: 1453.3008364268824\n",
      "Dexes: CoreSwap: ['Uniswap V2']: 1439.513700676272\n",
      "Dexes: KDex: ['Uniswap V2']: 1400.0\n",
      "Dexes: Genesis Finance: ['Uniswap V2']: 1388.1597669238313\n",
      "Dexes: EOSWAP Finance: ['Uniswap V2']: 1361.5366475901185\n",
      "Dexes: zkEVMSwap: ['Uniswap V2']: 1188.9877674270433\n",
      "Dexes: DarkSwap: ['Uniswap V2']: 1175.921877555903\n",
      "Dexes: OpenBiSea: ['Uniswap V2']: 1159.4214224549742\n",
      "Dexes: PYEswap: ['Uniswap V2']: 1128.2954881047856\n",
      "Dexes: BrightSide: ['Uniswap V2']: 1127.635018335441\n",
      "Dexes: Palma Swap: ['Uniswap V2']: 1103.743678555113\n",
      "Dexes: AuraSwap: ['Uniswap V2']: 1040.837165659899\n",
      "Dexes: TrainSwap: ['Uniswap V2']: 968.3290993026656\n",
      "Dexes: MoonLift: ['Uniswap V2']: 772.3960081705599\n",
      "Dexes: Brise Swap: ['Uniswap V2']: 767.3236642431078\n",
      "Dexes: Juggler Red: ['Uniswap V2']: 741.6880328538433\n",
      "Dexes: VampireSwap: ['Uniswap V2']: 737.3246311177172\n",
      "Dexes: PowSea: ['Uniswap V2']: 714.7176122858463\n",
      "Dexes: HonkSwap: ['Uniswap V2']: 678.5863759692769\n",
      "Dexes: Bubbleswap V2: ['Uniswap V2']: 626.7602378707946\n",
      "Dexes: Stronghands: ['Uniswap V2']: 550.337730590472\n",
      "Dexes: ChampagneSwap: ['Uniswap V2']: 464.72006847593536\n",
      "Dexes: MetaSwap: ['Uniswap V2']: 463.5359288441341\n",
      "Dexes: ko.one: ['Uniswap V2']: 428.0187181168203\n",
      "Dexes: ZukeSwap: ['Uniswap V2']: 389.99390064869897\n",
      "Dexes: ElonSwap: ['Uniswap V2']: 383.5887878905205\n",
      "Dexes: AfraSwap: ['Uniswap V2']: 382.8528118431311\n",
      "Dexes: Sahara Exchange: ['Uniswap V2']: 349.4020757061921\n",
      "Dexes: Astar Exchange V3: ['Uniswap V3']: 334.776808607662\n",
      "Dexes: KefirSwap: ['Uniswap V2']: 317.4142277284402\n",
      "Dexes: Solana Farm: ['Uniswap V2']: 308.3318589781387\n",
      "Dexes: JLSwap: ['Uniswap V2']: 292.2256174033943\n",
      "Dexes: Pandora Swap: ['Uniswap V2']: 285.3796738668537\n",
      "Dexes: Frog Swap: ['Uniswap V2']: 277.8582291725518\n",
      "Dexes: Inuswap: ['Uniswap V2']: 232.35113610128067\n",
      "Dexes: StableDoin: ['Uniswap V2']: 217.05833217176\n",
      "Dexes: KekSwap: ['Uniswap V2']: 188.8258129364226\n",
      "Dexes: Adena Finance: ['Uniswap V2']: 150.10502851287416\n",
      "Dexes: EggTartSwap: ['Uniswap V2']: 134.98156433966878\n",
      "Dexes: Philetairus Socius: ['Uniswap V2']: 129.7790864178253\n",
      "Dexes: PanKUKU: ['Uniswap V2']: 127.36439091578669\n",
      "Dexes: Dogium Farm: ['Uniswap V2']: 125.49880500475376\n",
      "Dexes: CakeWSwap: ['Uniswap V2']: 99.19766121036074\n",
      "Dexes: ApexSwap: ['Uniswap V2']: 86.76468169813735\n",
      "Dexes: 1Pulse: ['Uniswap V2']: 80.8020265101079\n",
      "Dexes: Astarnova: ['Uniswap V2']: 48.39735984\n",
      "Dexes: KSwap: ['Uniswap V2']: 42.89462775704661\n",
      "Dexes: zkDefi: ['Uniswap V2']: 36.47190101219525\n",
      "Dexes: KapaSwap: ['Uniswap V2']: 30.866823808048064\n",
      "Dexes: SeaLightSwap: ['Uniswap V2']: 30.690848526406665\n",
      "Dexes: NowSwap: ['Uniswap V2']: 18.638962091814328\n",
      "Dexes: AstroFi: ['Uniswap V2']: 11.8396416130004\n",
      "Dexes: OctoPow Finance: ['Uniswap V2']: 8.189471416886086\n",
      "Dexes: Zircon Gamma: ['Uniswap V2']: 5.83317358996651\n",
      "Dexes: EthwSwap: ['Uniswap V2']: 2.62305705765147\n",
      "Dexes: sevenswap: ['Uniswap V2']: 0.49118751250123\n",
      "Dexes: Kyborg Exchange: ['Uniswap V3']: 0.287266361167796\n",
      "Dexes: Omax Swap: ['Uniswap V2']: 0.022082409150419\n",
      "Dexes: Selfex: ['Uniswap V2']: 0.002000616046092\n",
      "Dexes: Direct Exchange: ['Uniswap V2']: 0.001999615\n",
      "Dexes: FunDex: ['Uniswap V2']: 9.1789686529e-05\n",
      "\n",
      "\n",
      "\n",
      "Lending\n",
      "['AAVE V2', 'JustLend', 'AAVE V3', 'Compound', 'Venus']\n",
      "Lending: Venus: ['Compound']: 706661838.503927\n",
      "Lending: Benqi Lending: ['Compound']: 125804322.86873832\n",
      "Lending: Tectonic: ['Compound']: 124591986.85791788\n",
      "Lending: Flux Finance: ['Compound']: 42947209.61916844\n",
      "Lending: Moonwell Artemis: ['Compound']: 34231571.87820692\n",
      "Lending: Sonne Finance: ['Compound']: 29824770.980299737\n",
      "Lending: Canto Lending: ['Compound']: 26909695.505278505\n",
      "Lending: Liqee: ['Compound']: 22685759.82413686\n",
      "Lending: Iron Bank: ['Compound']: 22183002.242819835\n",
      "Lending: Torches: ['Compound']: 17317240.216146033\n",
      "Lending: Strike: ['Compound']: 14606821.01106004\n",
      "Lending: Lodestar Finance: ['Compound']: 14423676.755103191\n",
      "Lending: Mare Finance: ['Compound']: 13695117.879471635\n",
      "Lending: FilDA: ['Compound']: 10425352.013230806\n",
      "Lending: Trader Joe Lend: ['Compound']: 7653738.86139019\n",
      "Lending: ApeSwap Lending: ['Compound']: 6953783.08973997\n",
      "Lending: WePiggy: ['Compound']: 6156970.768265124\n",
      "Lending: Tender Finance: ['Compound']: 5860771.553889864\n",
      "Lending: Bastion: ['Compound']: 5734300.772422043\n",
      "Lending: Onyx Protocol: ['Compound']: 5723702.71313615\n",
      "Lending: EraLend: ['Compound']: 5055640.295312675\n",
      "Lending: ReactorFusion: ['Compound']: 4661001.692768208\n",
      "Lending: Hector Lending: ['Compound']: 3430454.262220966\n",
      "Lending: Moonwell Apollo: ['Compound']: 2941617.0456363107\n",
      "Lending: Channels Finance: ['Compound']: 2784473.5873757354\n",
      "Lending: Aurigami: ['Compound']: 2690828.0424280223\n",
      "Lending: WanLend: ['Compound']: 2424519.6190833785\n",
      "Lending: Hundred Finance: ['Compound']: 2416109.014880569\n",
      "Lending: Tonpound: ['Compound']: 2218546.6494271206\n",
      "Lending: Fountain Protocol: ['Compound']: 2152996.664316396\n",
      "Lending: CREAM Lending: ['Compound']: 2029988.317916344\n",
      "Lending: 0vix: ['Compound']: 1533807.7613795958\n",
      "Lending: Tropykus RSK: ['Compound']: 1505998.5599208183\n",
      "Lending: Lenen: ['Compound']: 1348384.1355454104\n",
      "Lending: Mesher: ['Compound']: 1326486.6481721564\n",
      "Lending: Mimas Finance: ['Compound']: 1253008.4896313334\n",
      "Lending: Starfish Finance: ['Compound']: 1155936.6002514216\n",
      "Lending: Ram Protocol: ['Compound']: 782443.2675956538\n",
      "Lending: Tranquil Finance: ['Compound']: 742636.6347408236\n",
      "Lending: Scream: ['Compound']: 681751.9745835769\n",
      "Lending: SpiritSwap Lending: ['Compound']: 587252.8036205339\n",
      "Lending: LendeXe Finance: ['Compound']: 429370.32798310416\n",
      "Lending: Whitehole Finance: ['Compound']: 415073.8530879707\n",
      "Lending: Percent Finance: ['Compound']: 412775.555229416\n",
      "Lending: Neku: ['Compound']: 358743.6616320123\n",
      "Lending: Ape Finance: ['Compound']: 314885.49959256186\n",
      "Lending: unFederalReserve: ['Compound']: 313730.0246871491\n",
      "Lending: Demeter: ['Compound']: 307772.84975556115\n",
      "Lending: ABEL Finance: ['Compound']: 229025.29209391592\n",
      "Lending: USDFI Lending: ['Compound']: 191660.36899301512\n",
      "Lending: wefi: ['Compound']: 157417.52427105035\n",
      "Lending: Rikkei Finance: ['Compound']: 119932.24568605804\n",
      "Lending: forlend: ['Compound']: 119043.50032682937\n",
      "Lending: CashCow Finance: ['Compound']: 112075.4902368112\n",
      "Lending: KLend: ['Compound']: 63604.328131111615\n",
      "Lending: Huckleberry Lending: ['Compound']: 47327.34906281265\n",
      "Lending: Agora: ['Compound']: 36750.60407685208\n",
      "Lending: Paribus: ['Compound']: 36354.036415233306\n",
      "Lending: Qubit: ['Compound']: 31584.161779430586\n",
      "Lending: Atlantis Loans: ['Compound']: 30509.47948267199\n",
      "Lending: Coslend: ['Compound']: 26509.989200201355\n",
      "Lending: OCP Finance: ['Compound']: 21176.915274194216\n",
      "Lending: Vee Finance: ['Compound']: 19954.41573492304\n",
      "Lending: Brainiac Finance: ['Compound']: 14730.982240662112\n",
      "Lending: LendHub: ['Compound']: 9717.538040532316\n",
      "Lending: EcoDeFi: ['Compound']: 8124.736114803286\n",
      "Lending: Market: ['Compound']: 7541.583204011084\n",
      "Lending: Fortress Loans: ['Compound']: 4928.439654785019\n",
      "Lending: Agile Finance: ['Compound', 'Uniswap']: 4847.189086631918\n",
      "Lending: Chee Finance: ['Compound']: 2701.5536134266326\n",
      "Lending: Quickswap Lend: ['Compound']: 888.9215109887463\n",
      "Lending: Fenrir Finance: ['Compound']: 702.3763793086475\n",
      "Lending: Bitlend: ['Compound']: 177.7797802260675\n",
      "Lending: Bodh Finance: ['Compound']: 64.89403813499459\n",
      "Lending: MilkyWay: ['Compound']: 22.652140862432\n",
      "Lending: PaperDAO: ['Compound']: 0.142119534605779\n",
      "Lending: Sohei: ['Compound']: 1.999615001e-06\n",
      "\n",
      "\n",
      "\n",
      "Yield\n",
      "['Convex Finance', 'Aura', 'Coinwind', 'Conic Finance', 'Pendle']\n",
      "Yield: Wombex Finance: ['Aura']: 32483370.19709694\n",
      "Yield: Quoll: ['Convex Finance']: 1307192.7457482538\n",
      "Yield: Muuu Finance: ['Convex Finance']: 131899.1751056426\n",
      "\n",
      "\n",
      "\n",
      "Services\n",
      "['Instadapp', 'DefiSaver', 'CIAN', 'SPL Governance', 'The Tokenized Bitcoin']\n",
      "\n",
      "\n",
      "\n",
      "Derivatives\n",
      "['GMX', 'dYdX', 'Gains Network', 'ApolloX', 'MUX Protocol']\n",
      "Derivatives: Mummy Finance: ['GMX']: 7559917.08588407\n",
      "Derivatives: QuickPerps: ['GMX']: 6728252.125257169\n",
      "Derivatives: Alpaca Perpetual Futures Exchange: ['GMX']: 5268066.488897068\n",
      "Derivatives: Fulcrom: ['GMX']: 3559967.5038070804\n",
      "Derivatives: Metavault.Trade: ['GMX']: 2974133.1517568207\n",
      "Derivatives: El Dorado Exchange: ['GMX']: 2469018.272200432\n",
      "Derivatives: Morphex: ['GMX']: 1943075.969652322\n",
      "Derivatives: handle.fi Perps: ['GMX']: 1463511.4895932197\n",
      "Derivatives: Madmex: ['GMX']: 1152737.113137957\n",
      "Derivatives: KTX.Finance: ['GMX']: 814188.6395730535\n",
      "Derivatives: Tethys Perpetual: ['GMX']: 765102.0086818939\n",
      "Derivatives: Flux Exchange: ['GMX']: 612614.2536068491\n",
      "Derivatives: Lif3 Trade: ['GMX']: 557116.6860838501\n",
      "Derivatives: Mycelium Perpetual Swaps: ['GMX']: 409860.9554557744\n",
      "Derivatives: OPX Finance: ['GMX']: 385888.78730759525\n",
      "Derivatives: Rollup Finance: ['GMX']: 302832.86798944755\n",
      "Derivatives: Minerva: ['GMX']: 198131.8451287805\n",
      "Derivatives: DAMX: ['GMX']: 115290.62213756144\n",
      "Derivatives: MyMetaTrader: ['Gains Network']: 111402.977902\n",
      "Derivatives: Cranium Exchange: ['GMX']: 96326.80135828786\n",
      "Derivatives: DPEX: ['GMX']: 95227.74268936604\n",
      "Derivatives: OmniDex Perpetuals: ['GMX']: 60231.54432828181\n",
      "Derivatives: SpaceDex: ['GMX']: 48085.151154507126\n",
      "Derivatives: Covo V1: ['GMX']: 27188.72313493723\n",
      "Derivatives: ShrikePerps: ['GMX']: 10357.014471362216\n",
      "Derivatives: BayMax: ['GMX']: 3920.719078116957\n",
      "Derivatives: Syrup Finance: ['GMX']: 2481.444495247704\n",
      "Derivatives: KMex: ['GMX']: 525.5839069741133\n",
      "Derivatives: NEX: ['GMX']: 122.90543470806575\n",
      "Derivatives: Peaky Finance: ['GMX']: 0.7631788555184641\n",
      "\n",
      "\n",
      "\n",
      "Yield Aggregator\n",
      "['Yearn Finance', 'Beefy', 'Flamincome', 'Kava Earn', 'Idle']\n",
      "Yield Aggregator: Autofarm: ['Yearn Finance']: 13614633.1576183\n",
      "Yield Aggregator: Vaporwave: ['Beefy']: 207530.26\n",
      "Yield Aggregator: Epsylon Finance: ['Yearn Finance']: 128163.11804334876\n",
      "Yield Aggregator: Matrix Farm: ['Yearn Finance']: 104831.96075174252\n",
      "Yield Aggregator: YFII: ['Yearn Finance']: 99307.87394787328\n",
      "Yield Aggregator: StoneDefi: ['Yearn Finance']: 95549.31335283256\n",
      "Yield Aggregator: Magik Farm: ['Beefy']: 76131.085630156\n",
      "Yield Aggregator: Aladdin DAO: ['Yearn Finance']: 47826.697120337936\n",
      "Yield Aggregator: Lemuria Finance: ['Beefy']: 30797.9\n",
      "Yield Aggregator: Cycle Finance: ['Yearn Finance']: 24472.39593182957\n",
      "Yield Aggregator: Mushrooms Finance: ['Yearn Finance']: 23344.869688386265\n",
      "Yield Aggregator: Electrik Finance: ['Beefy']: 22090.71793693649\n",
      "Yield Aggregator: Unbanked: ['Yearn Finance']: 4678.389483682259\n",
      "Yield Aggregator: YieldHub Finance: ['Beefy']: 2972.4051832500004\n",
      "Yield Aggregator: DefiCurrent: ['Beefy']: 419.66602010311385\n",
      "Yield Aggregator: Earnifty: ['Beefy']: 297.8675007561551\n",
      "Yield Aggregator: Just Yield: ['Beefy']: 249.7607592059451\n",
      "Yield Aggregator: Doge Compounder: ['Beefy']: 68.14942546344354\n",
      "Yield Aggregator: Stakerz: ['Beefy']: 40.984215\n",
      "Yield Aggregator: YieldBank: ['Beefy']: 4.16839455\n",
      "Yield Aggregator: Dinosaur.Finance: ['Beefy']: 0.144309903318913\n",
      "\n",
      "\n",
      "\n",
      "Cross Chain\n",
      "['Stargate', 'Hop Protocol', 'Across', 'pNetwork', 'Connext']\n",
      "\n",
      "\n",
      "\n",
      "Synthetics\n",
      "['Synthetix', 'DefiChain Loans', 'Alchemix', 'Youves', 'Outcome Finance']\n",
      "Synthetics: Scientix: ['Alchemix']: 992146.17\n",
      "\n",
      "\n",
      "\n",
      "Privacy\n",
      "['Tornado Cash', 'Aztec', 'Railgun', 'Sienna Network', 'zkBob']\n",
      "Privacy: ShadeCash: ['Tornado Cash']: 41013.401607\n",
      "Privacy: Typhoon Cash: ['Tornado Cash']: 31298.02\n",
      "Privacy: Tonic Cash: ['Tornado Cash']: 2892.3703\n",
      "\n",
      "\n",
      "\n",
      "Insurance\n",
      "['Nexus Mutual', 'Unslashed', 'Ease.org', 'Guard-Helmet', 'InsurAce']\n",
      "\n",
      "\n",
      "\n",
      "Indexes\n",
      "['Bwatch', 'Set Protocol', 'Enzyme Finance', 'Index Coop', 'unshETH']\n",
      "Indexes: Arch Ethereum Web3: ['Set Protocol']: 222986.87507801293\n",
      "\n",
      "\n",
      "\n",
      "Launchpad\n",
      "['UniCrypt', 'PinkSale', 'Team Finance', 'DxSale', 'Juicebox V1']\n",
      "\n",
      "\n",
      "\n",
      "Liquidity manager\n",
      "['Arrakis V1', 'Gamma', 'Bunni', 'DefiEdge', 'ICHI']\n",
      "\n",
      "\n",
      "\n",
      "NFT Lending\n",
      "['BendDAO Lending', 'ParaSpace Lending', 'Blur Lending', \"JPEG'd\", 'NFTfi']\n",
      "\n",
      "\n",
      "\n",
      "Payments\n",
      "['Lightning Network', 'Flexa', 'Sablier Finance', 'LlamaPay', 'Sushi Furo']\n",
      "\n",
      "\n",
      "\n",
      "Algo-Stables\n",
      "['Frax', 'Mento', 'Frax FPI', 'UXD', 'Sigmausd']\n",
      "Algo-Stables: XUSD Money: ['Frax']: 26876.596801234075\n",
      "Algo-Stables: Blindex: ['Frax']: 16570.919544537825\n",
      "\n",
      "\n",
      "\n",
      "NFT Marketplace\n",
      "['Blur Bids', 'NFTX', 'SudoSwap', 'Caviar V1', 'GumBall Protocol']\n",
      "\n",
      "\n",
      "\n",
      "RWA\n",
      "['Ondo Finance', 'RealT Tokens', 'MatrixDock', 'Solv Protocol', 'Tangible']\n",
      "\n",
      "\n",
      "\n",
      "Leveraged Farming\n",
      "['Alpaca Leveraged Yield Farming', 'Gearbox', 'DeltaPrime', 'Kleva Farm', 'Archimedes Finance']\n",
      "\n",
      "\n",
      "\n",
      "Staking Pool\n",
      "['WEMIX.FI Staking', 'ABC Pool', 'UniFi Staking', 'ThunderCore Staking', 'Klayportal']\n",
      "\n",
      "\n",
      "\n",
      "Options Vault\n",
      "['Jones DAO', 'Ribbon', 'Thetanuts Finance', 'Dual Finance', 'Olive']\n",
      "Options Vault: Bonsai Strike: ['Ribbon']: 232621.6129318832\n",
      "\n",
      "\n",
      "\n",
      "Options\n",
      "['Lyra', 'Dopex', 'Opyn Gamma', 'Hegic', 'Premia']\n",
      "\n",
      "\n",
      "\n",
      "Reserve Currency\n",
      "['The Idols', 'Pluto', 'Dogewhale', 'TempleDAO', 'Cesta Finance']\n",
      "\n",
      "\n",
      "\n",
      "Uncollateralized Lending\n",
      "['Maple', 'Clearpool', 'TrueFi', 'Union Protocol', 'Atlendis']\n",
      "\n",
      "\n",
      "\n",
      "Prediction Market\n",
      "['Polymarket', 'Gnosis Protocol v1', 'Azuro', 'WINR Protocol', 'Thales']\n",
      "\n",
      "\n",
      "\n",
      "Farm\n",
      "['VyFinance Vaults', 'Proteo Defi', 'GroveCoin', 'Polycat', 'ZoomSwap']\n",
      "\n",
      "\n",
      "\n",
      "RWA Lending\n",
      "['Goldfinch', 'Centrifuge', 'Credix']\n",
      "\n",
      "\n",
      "\n",
      "Gaming\n",
      "['AstarFarm', 'Aavegotchi', 'Luchadores', 'MiningTycoon', 'Farm Hero']\n",
      "\n",
      "\n",
      "\n",
      "Oracle\n",
      "['Nest Protocol Staking']\n",
      "\n",
      "\n",
      "\n"
     ]
    },
    {
     "data": {
      "text/html": [
       "<div>\n",
       "<style scoped>\n",
       "    .dataframe tbody tr th:only-of-type {\n",
       "        vertical-align: middle;\n",
       "    }\n",
       "\n",
       "    .dataframe tbody tr th {\n",
       "        vertical-align: top;\n",
       "    }\n",
       "\n",
       "    .dataframe thead th {\n",
       "        text-align: right;\n",
       "    }\n",
       "</style>\n",
       "<table border=\"1\" class=\"dataframe\">\n",
       "  <thead>\n",
       "    <tr style=\"text-align: right;\">\n",
       "      <th></th>\n",
       "      <th>category</th>\n",
       "      <th>largest_protocols</th>\n",
       "      <th>percent_tvl_largest_protocols</th>\n",
       "      <th>percent_tvl_largest_protocols_and_forks</th>\n",
       "      <th>total_tvl_largest_protocols</th>\n",
       "      <th>total_tvl_largest_protocols_and_forks</th>\n",
       "      <th>fork_protocols</th>\n",
       "      <th>total_tvl_fork_protocols</th>\n",
       "    </tr>\n",
       "  </thead>\n",
       "  <tbody>\n",
       "    <tr>\n",
       "      <th>0</th>\n",
       "      <td>CEX</td>\n",
       "      <td>['Binance CEX', 'OKX', 'Bitfinex', 'Crypto-com...</td>\n",
       "      <td>85.45%</td>\n",
       "      <td>85.45%</td>\n",
       "      <td>$84427.83M</td>\n",
       "      <td>$84427.83M</td>\n",
       "      <td>[]</td>\n",
       "      <td>$0.0M</td>\n",
       "    </tr>\n",
       "    <tr>\n",
       "      <th>1</th>\n",
       "      <td>Liquid Staking</td>\n",
       "      <td>['Lido', 'Coinbase Wrapped Staked ETH', 'Rocke...</td>\n",
       "      <td>91.47%</td>\n",
       "      <td>91.96%</td>\n",
       "      <td>$17890.06M</td>\n",
       "      <td>$17985.56M</td>\n",
       "      <td>['OKC Liquid Staking']</td>\n",
       "      <td>$95.5M</td>\n",
       "    </tr>\n",
       "    <tr>\n",
       "      <th>2</th>\n",
       "      <td>CDP</td>\n",
       "      <td>['MakerDAO', 'JustStables', 'Liquity', 'Abraca...</td>\n",
       "      <td>92.68%</td>\n",
       "      <td>94.0%</td>\n",
       "      <td>$8629.27M</td>\n",
       "      <td>$8752.71M</td>\n",
       "      <td>['Helio Protocol', 'Gravita Protocol', 'DeFi F...</td>\n",
       "      <td>$123.44M</td>\n",
       "    </tr>\n",
       "    <tr>\n",
       "      <th>3</th>\n",
       "      <td>Chain</td>\n",
       "      <td>['Polygon Bridge &amp; Staking', 'Stacks Staking',...</td>\n",
       "      <td>99.96%</td>\n",
       "      <td>99.96%</td>\n",
       "      <td>$6486.39M</td>\n",
       "      <td>$6486.39M</td>\n",
       "      <td>[]</td>\n",
       "      <td>$0.0M</td>\n",
       "    </tr>\n",
       "    <tr>\n",
       "      <th>4</th>\n",
       "      <td>Bridge</td>\n",
       "      <td>['WBTC', 'JustCryptos', 'Multichain', 'Portal'...</td>\n",
       "      <td>90.24%</td>\n",
       "      <td>90.24%</td>\n",
       "      <td>$9412.66M</td>\n",
       "      <td>$9412.66M</td>\n",
       "      <td>[]</td>\n",
       "      <td>$0.0M</td>\n",
       "    </tr>\n",
       "    <tr>\n",
       "      <th>5</th>\n",
       "      <td>Dexes</td>\n",
       "      <td>['Curve DEX', 'Uniswap V3', 'PancakeSwap AMM',...</td>\n",
       "      <td>63.0%</td>\n",
       "      <td>83.85%</td>\n",
       "      <td>$10359.96M</td>\n",
       "      <td>$13788.75M</td>\n",
       "      <td>['PancakeSwap AMM', 'SushiSwap', 'PancakeSwap ...</td>\n",
       "      <td>$3428.79M</td>\n",
       "    </tr>\n",
       "    <tr>\n",
       "      <th>6</th>\n",
       "      <td>Lending</td>\n",
       "      <td>['AAVE V2', 'JustLend', 'AAVE V3', 'Compound',...</td>\n",
       "      <td>78.13%</td>\n",
       "      <td>87.39%</td>\n",
       "      <td>$10900.66M</td>\n",
       "      <td>$12192.63M</td>\n",
       "      <td>['Venus', 'Benqi Lending', 'Tectonic', 'Flux F...</td>\n",
       "      <td>$1291.97M</td>\n",
       "    </tr>\n",
       "    <tr>\n",
       "      <th>7</th>\n",
       "      <td>Yield</td>\n",
       "      <td>['Convex Finance', 'Aura', 'Coinwind', 'Conic ...</td>\n",
       "      <td>81.53%</td>\n",
       "      <td>82.2%</td>\n",
       "      <td>$4112.8M</td>\n",
       "      <td>$4146.72M</td>\n",
       "      <td>['Wombex Finance', 'Quoll', 'Muuu Finance']</td>\n",
       "      <td>$33.92M</td>\n",
       "    </tr>\n",
       "    <tr>\n",
       "      <th>8</th>\n",
       "      <td>Services</td>\n",
       "      <td>['Instadapp', 'DefiSaver', 'CIAN', 'SPL Govern...</td>\n",
       "      <td>98.12%</td>\n",
       "      <td>98.12%</td>\n",
       "      <td>$2304.29M</td>\n",
       "      <td>$2304.29M</td>\n",
       "      <td>[]</td>\n",
       "      <td>$0.0M</td>\n",
       "    </tr>\n",
       "    <tr>\n",
       "      <th>9</th>\n",
       "      <td>Derivatives</td>\n",
       "      <td>['GMX', 'dYdX', 'Gains Network', 'ApolloX', 'M...</td>\n",
       "      <td>78.89%</td>\n",
       "      <td>81.69%</td>\n",
       "      <td>$1063.46M</td>\n",
       "      <td>$1101.2M</td>\n",
       "      <td>['Mummy Finance', 'QuickPerps', 'Alpaca Perpet...</td>\n",
       "      <td>$37.74M</td>\n",
       "    </tr>\n",
       "    <tr>\n",
       "      <th>10</th>\n",
       "      <td>Yield Aggregator</td>\n",
       "      <td>['Yearn Finance', 'Beefy', 'Flamincome', 'Kava...</td>\n",
       "      <td>73.64%</td>\n",
       "      <td>74.82%</td>\n",
       "      <td>$903.04M</td>\n",
       "      <td>$917.52M</td>\n",
       "      <td>['Autofarm', 'Vaporwave', 'Epsylon Finance', '...</td>\n",
       "      <td>$14.48M</td>\n",
       "    </tr>\n",
       "    <tr>\n",
       "      <th>11</th>\n",
       "      <td>Cross Chain</td>\n",
       "      <td>['Stargate', 'Hop Protocol', 'Across', 'pNetwo...</td>\n",
       "      <td>93.88%</td>\n",
       "      <td>93.88%</td>\n",
       "      <td>$618.98M</td>\n",
       "      <td>$618.98M</td>\n",
       "      <td>[]</td>\n",
       "      <td>$0.0M</td>\n",
       "    </tr>\n",
       "    <tr>\n",
       "      <th>12</th>\n",
       "      <td>Synthetics</td>\n",
       "      <td>['Synthetix', 'DefiChain Loans', 'Alchemix', '...</td>\n",
       "      <td>96.94%</td>\n",
       "      <td>97.11%</td>\n",
       "      <td>$586.81M</td>\n",
       "      <td>$587.8M</td>\n",
       "      <td>['Scientix']</td>\n",
       "      <td>$0.99M</td>\n",
       "    </tr>\n",
       "    <tr>\n",
       "      <th>13</th>\n",
       "      <td>Privacy</td>\n",
       "      <td>['Tornado Cash', 'Aztec', 'Railgun', 'Sienna N...</td>\n",
       "      <td>99.97%</td>\n",
       "      <td>99.99%</td>\n",
       "      <td>$310.52M</td>\n",
       "      <td>$310.6M</td>\n",
       "      <td>['ShadeCash', 'Typhoon Cash', 'Tonic Cash']</td>\n",
       "      <td>$0.08M</td>\n",
       "    </tr>\n",
       "    <tr>\n",
       "      <th>14</th>\n",
       "      <td>Insurance</td>\n",
       "      <td>['Nexus Mutual', 'Unslashed', 'Ease.org', 'Gua...</td>\n",
       "      <td>95.91%</td>\n",
       "      <td>95.91%</td>\n",
       "      <td>$321.29M</td>\n",
       "      <td>$321.29M</td>\n",
       "      <td>[]</td>\n",
       "      <td>$0.0M</td>\n",
       "    </tr>\n",
       "    <tr>\n",
       "      <th>15</th>\n",
       "      <td>Indexes</td>\n",
       "      <td>['Bwatch', 'Set Protocol', 'Enzyme Finance', '...</td>\n",
       "      <td>87.19%</td>\n",
       "      <td>87.23%</td>\n",
       "      <td>$507.52M</td>\n",
       "      <td>$507.74M</td>\n",
       "      <td>['Arch Ethereum Web3']</td>\n",
       "      <td>$0.22M</td>\n",
       "    </tr>\n",
       "    <tr>\n",
       "      <th>16</th>\n",
       "      <td>Launchpad</td>\n",
       "      <td>['UniCrypt', 'PinkSale', 'Team Finance', 'DxSa...</td>\n",
       "      <td>97.34%</td>\n",
       "      <td>97.34%</td>\n",
       "      <td>$606.45M</td>\n",
       "      <td>$606.45M</td>\n",
       "      <td>[]</td>\n",
       "      <td>$0.0M</td>\n",
       "    </tr>\n",
       "    <tr>\n",
       "      <th>17</th>\n",
       "      <td>Liquidity manager</td>\n",
       "      <td>['Arrakis V1', 'Gamma', 'Bunni', 'DefiEdge', '...</td>\n",
       "      <td>90.83%</td>\n",
       "      <td>90.83%</td>\n",
       "      <td>$334.89M</td>\n",
       "      <td>$334.89M</td>\n",
       "      <td>[]</td>\n",
       "      <td>$0.0M</td>\n",
       "    </tr>\n",
       "    <tr>\n",
       "      <th>18</th>\n",
       "      <td>NFT Lending</td>\n",
       "      <td>['BendDAO Lending', 'ParaSpace Lending', 'Blur...</td>\n",
       "      <td>95.77%</td>\n",
       "      <td>95.77%</td>\n",
       "      <td>$350.0M</td>\n",
       "      <td>$350.0M</td>\n",
       "      <td>[]</td>\n",
       "      <td>$0.0M</td>\n",
       "    </tr>\n",
       "    <tr>\n",
       "      <th>19</th>\n",
       "      <td>Payments</td>\n",
       "      <td>['Lightning Network', 'Flexa', 'Sablier Financ...</td>\n",
       "      <td>99.02%</td>\n",
       "      <td>99.02%</td>\n",
       "      <td>$206.03M</td>\n",
       "      <td>$206.03M</td>\n",
       "      <td>[]</td>\n",
       "      <td>$0.0M</td>\n",
       "    </tr>\n",
       "    <tr>\n",
       "      <th>20</th>\n",
       "      <td>Algo-Stables</td>\n",
       "      <td>['Frax', 'Mento', 'Frax FPI', 'UXD', 'Sigmausd']</td>\n",
       "      <td>97.37%</td>\n",
       "      <td>97.39%</td>\n",
       "      <td>$258.21M</td>\n",
       "      <td>$258.25M</td>\n",
       "      <td>['XUSD Money', 'Blindex']</td>\n",
       "      <td>$0.04M</td>\n",
       "    </tr>\n",
       "    <tr>\n",
       "      <th>21</th>\n",
       "      <td>NFT Marketplace</td>\n",
       "      <td>['Blur Bids', 'NFTX', 'SudoSwap', 'Caviar V1',...</td>\n",
       "      <td>99.5%</td>\n",
       "      <td>99.5%</td>\n",
       "      <td>$149.75M</td>\n",
       "      <td>$149.75M</td>\n",
       "      <td>[]</td>\n",
       "      <td>$0.0M</td>\n",
       "    </tr>\n",
       "    <tr>\n",
       "      <th>22</th>\n",
       "      <td>RWA</td>\n",
       "      <td>['Ondo Finance', 'RealT Tokens', 'MatrixDock',...</td>\n",
       "      <td>82.3%</td>\n",
       "      <td>82.3%</td>\n",
       "      <td>$355.41M</td>\n",
       "      <td>$355.41M</td>\n",
       "      <td>[]</td>\n",
       "      <td>$0.0M</td>\n",
       "    </tr>\n",
       "    <tr>\n",
       "      <th>23</th>\n",
       "      <td>Leveraged Farming</td>\n",
       "      <td>['Alpaca Leveraged Yield Farming', 'Gearbox', ...</td>\n",
       "      <td>95.78%</td>\n",
       "      <td>95.78%</td>\n",
       "      <td>$185.24M</td>\n",
       "      <td>$185.24M</td>\n",
       "      <td>[]</td>\n",
       "      <td>$0.0M</td>\n",
       "    </tr>\n",
       "    <tr>\n",
       "      <th>24</th>\n",
       "      <td>Staking Pool</td>\n",
       "      <td>['WEMIX.FI Staking', 'ABC Pool', 'UniFi Stakin...</td>\n",
       "      <td>93.77%</td>\n",
       "      <td>93.77%</td>\n",
       "      <td>$50.53M</td>\n",
       "      <td>$50.53M</td>\n",
       "      <td>[]</td>\n",
       "      <td>$0.0M</td>\n",
       "    </tr>\n",
       "    <tr>\n",
       "      <th>25</th>\n",
       "      <td>Options Vault</td>\n",
       "      <td>['Jones DAO', 'Ribbon', 'Thetanuts Finance', '...</td>\n",
       "      <td>92.68%</td>\n",
       "      <td>92.97%</td>\n",
       "      <td>$73.14M</td>\n",
       "      <td>$73.37M</td>\n",
       "      <td>['Bonsai Strike']</td>\n",
       "      <td>$0.23M</td>\n",
       "    </tr>\n",
       "    <tr>\n",
       "      <th>26</th>\n",
       "      <td>Options</td>\n",
       "      <td>['Lyra', 'Dopex', 'Opyn Gamma', 'Hegic', 'Prem...</td>\n",
       "      <td>72.2%</td>\n",
       "      <td>72.2%</td>\n",
       "      <td>$88.93M</td>\n",
       "      <td>$88.93M</td>\n",
       "      <td>[]</td>\n",
       "      <td>$0.0M</td>\n",
       "    </tr>\n",
       "    <tr>\n",
       "      <th>27</th>\n",
       "      <td>Reserve Currency</td>\n",
       "      <td>['The Idols', 'Pluto', 'Dogewhale', 'TempleDAO...</td>\n",
       "      <td>99.44%</td>\n",
       "      <td>99.44%</td>\n",
       "      <td>$6.71M</td>\n",
       "      <td>$6.71M</td>\n",
       "      <td>[]</td>\n",
       "      <td>$0.0M</td>\n",
       "    </tr>\n",
       "    <tr>\n",
       "      <th>28</th>\n",
       "      <td>Uncollateralized Lending</td>\n",
       "      <td>['Maple', 'Clearpool', 'TrueFi', 'Union Protoc...</td>\n",
       "      <td>97.38%</td>\n",
       "      <td>97.38%</td>\n",
       "      <td>$12.05M</td>\n",
       "      <td>$12.05M</td>\n",
       "      <td>[]</td>\n",
       "      <td>$0.0M</td>\n",
       "    </tr>\n",
       "    <tr>\n",
       "      <th>29</th>\n",
       "      <td>Prediction Market</td>\n",
       "      <td>['Polymarket', 'Gnosis Protocol v1', 'Azuro', ...</td>\n",
       "      <td>84.44%</td>\n",
       "      <td>84.44%</td>\n",
       "      <td>$18.24M</td>\n",
       "      <td>$18.24M</td>\n",
       "      <td>[]</td>\n",
       "      <td>$0.0M</td>\n",
       "    </tr>\n",
       "    <tr>\n",
       "      <th>30</th>\n",
       "      <td>Farm</td>\n",
       "      <td>['VyFinance Vaults', 'Proteo Defi', 'GroveCoin...</td>\n",
       "      <td>66.22%</td>\n",
       "      <td>66.22%</td>\n",
       "      <td>$13.68M</td>\n",
       "      <td>$13.68M</td>\n",
       "      <td>[]</td>\n",
       "      <td>$0.0M</td>\n",
       "    </tr>\n",
       "    <tr>\n",
       "      <th>31</th>\n",
       "      <td>RWA Lending</td>\n",
       "      <td>['Goldfinch', 'Centrifuge', 'Credix']</td>\n",
       "      <td>100.0%</td>\n",
       "      <td>100.0%</td>\n",
       "      <td>$2.39M</td>\n",
       "      <td>$2.39M</td>\n",
       "      <td>[]</td>\n",
       "      <td>$0.0M</td>\n",
       "    </tr>\n",
       "    <tr>\n",
       "      <th>32</th>\n",
       "      <td>Gaming</td>\n",
       "      <td>['AstarFarm', 'Aavegotchi', 'Luchadores', 'Min...</td>\n",
       "      <td>99.97%</td>\n",
       "      <td>99.97%</td>\n",
       "      <td>$2.08M</td>\n",
       "      <td>$2.08M</td>\n",
       "      <td>[]</td>\n",
       "      <td>$0.0M</td>\n",
       "    </tr>\n",
       "    <tr>\n",
       "      <th>33</th>\n",
       "      <td>Oracle</td>\n",
       "      <td>['Nest Protocol Staking']</td>\n",
       "      <td>100.0%</td>\n",
       "      <td>100.0%</td>\n",
       "      <td>$0.0M</td>\n",
       "      <td>$0.0M</td>\n",
       "      <td>[]</td>\n",
       "      <td>$0.0M</td>\n",
       "    </tr>\n",
       "  </tbody>\n",
       "</table>\n",
       "</div>"
      ],
      "text/plain": [
       "                    category  \\\n",
       "0                        CEX   \n",
       "1             Liquid Staking   \n",
       "2                        CDP   \n",
       "3                      Chain   \n",
       "4                     Bridge   \n",
       "5                      Dexes   \n",
       "6                    Lending   \n",
       "7                      Yield   \n",
       "8                   Services   \n",
       "9                Derivatives   \n",
       "10          Yield Aggregator   \n",
       "11               Cross Chain   \n",
       "12                Synthetics   \n",
       "13                   Privacy   \n",
       "14                 Insurance   \n",
       "15                   Indexes   \n",
       "16                 Launchpad   \n",
       "17         Liquidity manager   \n",
       "18               NFT Lending   \n",
       "19                  Payments   \n",
       "20              Algo-Stables   \n",
       "21           NFT Marketplace   \n",
       "22                       RWA   \n",
       "23         Leveraged Farming   \n",
       "24              Staking Pool   \n",
       "25             Options Vault   \n",
       "26                   Options   \n",
       "27          Reserve Currency   \n",
       "28  Uncollateralized Lending   \n",
       "29         Prediction Market   \n",
       "30                      Farm   \n",
       "31               RWA Lending   \n",
       "32                    Gaming   \n",
       "33                    Oracle   \n",
       "\n",
       "                                    largest_protocols  \\\n",
       "0   ['Binance CEX', 'OKX', 'Bitfinex', 'Crypto-com...   \n",
       "1   ['Lido', 'Coinbase Wrapped Staked ETH', 'Rocke...   \n",
       "2   ['MakerDAO', 'JustStables', 'Liquity', 'Abraca...   \n",
       "3   ['Polygon Bridge & Staking', 'Stacks Staking',...   \n",
       "4   ['WBTC', 'JustCryptos', 'Multichain', 'Portal'...   \n",
       "5   ['Curve DEX', 'Uniswap V3', 'PancakeSwap AMM',...   \n",
       "6   ['AAVE V2', 'JustLend', 'AAVE V3', 'Compound',...   \n",
       "7   ['Convex Finance', 'Aura', 'Coinwind', 'Conic ...   \n",
       "8   ['Instadapp', 'DefiSaver', 'CIAN', 'SPL Govern...   \n",
       "9   ['GMX', 'dYdX', 'Gains Network', 'ApolloX', 'M...   \n",
       "10  ['Yearn Finance', 'Beefy', 'Flamincome', 'Kava...   \n",
       "11  ['Stargate', 'Hop Protocol', 'Across', 'pNetwo...   \n",
       "12  ['Synthetix', 'DefiChain Loans', 'Alchemix', '...   \n",
       "13  ['Tornado Cash', 'Aztec', 'Railgun', 'Sienna N...   \n",
       "14  ['Nexus Mutual', 'Unslashed', 'Ease.org', 'Gua...   \n",
       "15  ['Bwatch', 'Set Protocol', 'Enzyme Finance', '...   \n",
       "16  ['UniCrypt', 'PinkSale', 'Team Finance', 'DxSa...   \n",
       "17  ['Arrakis V1', 'Gamma', 'Bunni', 'DefiEdge', '...   \n",
       "18  ['BendDAO Lending', 'ParaSpace Lending', 'Blur...   \n",
       "19  ['Lightning Network', 'Flexa', 'Sablier Financ...   \n",
       "20   ['Frax', 'Mento', 'Frax FPI', 'UXD', 'Sigmausd']   \n",
       "21  ['Blur Bids', 'NFTX', 'SudoSwap', 'Caviar V1',...   \n",
       "22  ['Ondo Finance', 'RealT Tokens', 'MatrixDock',...   \n",
       "23  ['Alpaca Leveraged Yield Farming', 'Gearbox', ...   \n",
       "24  ['WEMIX.FI Staking', 'ABC Pool', 'UniFi Stakin...   \n",
       "25  ['Jones DAO', 'Ribbon', 'Thetanuts Finance', '...   \n",
       "26  ['Lyra', 'Dopex', 'Opyn Gamma', 'Hegic', 'Prem...   \n",
       "27  ['The Idols', 'Pluto', 'Dogewhale', 'TempleDAO...   \n",
       "28  ['Maple', 'Clearpool', 'TrueFi', 'Union Protoc...   \n",
       "29  ['Polymarket', 'Gnosis Protocol v1', 'Azuro', ...   \n",
       "30  ['VyFinance Vaults', 'Proteo Defi', 'GroveCoin...   \n",
       "31              ['Goldfinch', 'Centrifuge', 'Credix']   \n",
       "32  ['AstarFarm', 'Aavegotchi', 'Luchadores', 'Min...   \n",
       "33                          ['Nest Protocol Staking']   \n",
       "\n",
       "   percent_tvl_largest_protocols percent_tvl_largest_protocols_and_forks  \\\n",
       "0                         85.45%                                  85.45%   \n",
       "1                         91.47%                                  91.96%   \n",
       "2                         92.68%                                   94.0%   \n",
       "3                         99.96%                                  99.96%   \n",
       "4                         90.24%                                  90.24%   \n",
       "5                          63.0%                                  83.85%   \n",
       "6                         78.13%                                  87.39%   \n",
       "7                         81.53%                                   82.2%   \n",
       "8                         98.12%                                  98.12%   \n",
       "9                         78.89%                                  81.69%   \n",
       "10                        73.64%                                  74.82%   \n",
       "11                        93.88%                                  93.88%   \n",
       "12                        96.94%                                  97.11%   \n",
       "13                        99.97%                                  99.99%   \n",
       "14                        95.91%                                  95.91%   \n",
       "15                        87.19%                                  87.23%   \n",
       "16                        97.34%                                  97.34%   \n",
       "17                        90.83%                                  90.83%   \n",
       "18                        95.77%                                  95.77%   \n",
       "19                        99.02%                                  99.02%   \n",
       "20                        97.37%                                  97.39%   \n",
       "21                         99.5%                                   99.5%   \n",
       "22                         82.3%                                   82.3%   \n",
       "23                        95.78%                                  95.78%   \n",
       "24                        93.77%                                  93.77%   \n",
       "25                        92.68%                                  92.97%   \n",
       "26                         72.2%                                   72.2%   \n",
       "27                        99.44%                                  99.44%   \n",
       "28                        97.38%                                  97.38%   \n",
       "29                        84.44%                                  84.44%   \n",
       "30                        66.22%                                  66.22%   \n",
       "31                        100.0%                                  100.0%   \n",
       "32                        99.97%                                  99.97%   \n",
       "33                        100.0%                                  100.0%   \n",
       "\n",
       "   total_tvl_largest_protocols total_tvl_largest_protocols_and_forks  \\\n",
       "0                   $84427.83M                            $84427.83M   \n",
       "1                   $17890.06M                            $17985.56M   \n",
       "2                    $8629.27M                             $8752.71M   \n",
       "3                    $6486.39M                             $6486.39M   \n",
       "4                    $9412.66M                             $9412.66M   \n",
       "5                   $10359.96M                            $13788.75M   \n",
       "6                   $10900.66M                            $12192.63M   \n",
       "7                     $4112.8M                             $4146.72M   \n",
       "8                    $2304.29M                             $2304.29M   \n",
       "9                    $1063.46M                              $1101.2M   \n",
       "10                    $903.04M                              $917.52M   \n",
       "11                    $618.98M                              $618.98M   \n",
       "12                    $586.81M                               $587.8M   \n",
       "13                    $310.52M                               $310.6M   \n",
       "14                    $321.29M                              $321.29M   \n",
       "15                    $507.52M                              $507.74M   \n",
       "16                    $606.45M                              $606.45M   \n",
       "17                    $334.89M                              $334.89M   \n",
       "18                     $350.0M                               $350.0M   \n",
       "19                    $206.03M                              $206.03M   \n",
       "20                    $258.21M                              $258.25M   \n",
       "21                    $149.75M                              $149.75M   \n",
       "22                    $355.41M                              $355.41M   \n",
       "23                    $185.24M                              $185.24M   \n",
       "24                     $50.53M                               $50.53M   \n",
       "25                     $73.14M                               $73.37M   \n",
       "26                     $88.93M                               $88.93M   \n",
       "27                      $6.71M                                $6.71M   \n",
       "28                     $12.05M                               $12.05M   \n",
       "29                     $18.24M                               $18.24M   \n",
       "30                     $13.68M                               $13.68M   \n",
       "31                      $2.39M                                $2.39M   \n",
       "32                      $2.08M                                $2.08M   \n",
       "33                       $0.0M                                 $0.0M   \n",
       "\n",
       "                                       fork_protocols total_tvl_fork_protocols  \n",
       "0                                                  []                    $0.0M  \n",
       "1                              ['OKC Liquid Staking']                   $95.5M  \n",
       "2   ['Helio Protocol', 'Gravita Protocol', 'DeFi F...                 $123.44M  \n",
       "3                                                  []                    $0.0M  \n",
       "4                                                  []                    $0.0M  \n",
       "5   ['PancakeSwap AMM', 'SushiSwap', 'PancakeSwap ...                $3428.79M  \n",
       "6   ['Venus', 'Benqi Lending', 'Tectonic', 'Flux F...                $1291.97M  \n",
       "7         ['Wombex Finance', 'Quoll', 'Muuu Finance']                  $33.92M  \n",
       "8                                                  []                    $0.0M  \n",
       "9   ['Mummy Finance', 'QuickPerps', 'Alpaca Perpet...                  $37.74M  \n",
       "10  ['Autofarm', 'Vaporwave', 'Epsylon Finance', '...                  $14.48M  \n",
       "11                                                 []                    $0.0M  \n",
       "12                                       ['Scientix']                   $0.99M  \n",
       "13        ['ShadeCash', 'Typhoon Cash', 'Tonic Cash']                   $0.08M  \n",
       "14                                                 []                    $0.0M  \n",
       "15                             ['Arch Ethereum Web3']                   $0.22M  \n",
       "16                                                 []                    $0.0M  \n",
       "17                                                 []                    $0.0M  \n",
       "18                                                 []                    $0.0M  \n",
       "19                                                 []                    $0.0M  \n",
       "20                          ['XUSD Money', 'Blindex']                   $0.04M  \n",
       "21                                                 []                    $0.0M  \n",
       "22                                                 []                    $0.0M  \n",
       "23                                                 []                    $0.0M  \n",
       "24                                                 []                    $0.0M  \n",
       "25                                  ['Bonsai Strike']                   $0.23M  \n",
       "26                                                 []                    $0.0M  \n",
       "27                                                 []                    $0.0M  \n",
       "28                                                 []                    $0.0M  \n",
       "29                                                 []                    $0.0M  \n",
       "30                                                 []                    $0.0M  \n",
       "31                                                 []                    $0.0M  \n",
       "32                                                 []                    $0.0M  \n",
       "33                                                 []                    $0.0M  "
      ]
     },
     "execution_count": 61,
     "metadata": {},
     "output_type": "execute_result"
    }
   ],
   "source": [
    "# Find what percentage of tvl of each category is covered by the largest n protocols by tvl and their respective forks\n",
    "\n",
    "df = pd.read_csv('protocols_all_small.csv')\n",
    "\n",
    "n = 5\n",
    "\n",
    "results = pd.DataFrame(columns=['category', 'largest_protocols', 'percent_tvl_largest_protocols', 'percent_tvl_largest_protocols_and_forks', 'total_tvl_largest_protocols', 'total_tvl_largest_protocols_and_forks'])\n",
    "\n",
    "for category in df['category'].unique():\n",
    "\n",
    "    # find the n largest protocols by TVL\n",
    "    largest_protocols = df[df['category'] == category].nlargest(n, 'tvl')\n",
    "    # find the total TVL of the n largest protocols\n",
    "    total_tvl_largest_protocols = largest_protocols['tvl'].sum()\n",
    "\n",
    "    # get protocols in this category where forkedFrom is not empty \n",
    "    mask = df[(df['category'] == category) & (df['forkedFrom'].notna())]\n",
    "    # get protocols in this category where forkedFrom is not empty and contains any of the n largest protocols\n",
    "    mask = mask[mask['forkedFrom'].apply(lambda x: any(item for item in largest_protocols['name'].tolist() if item in x))]\n",
    "    fork_protocols = mask\n",
    "\n",
    "    # if fork_protocols is not empty, find the sum of tvl of all protocols in fork_protocols\n",
    "    if len(fork_protocols) > 0:\n",
    "        total_tvl_fork_protocols = fork_protocols['tvl'].sum()\n",
    "        fork_protocol_names = fork_protocols['name'].tolist()\n",
    "    else:\n",
    "        total_tvl_fork_protocols = 0\n",
    "        fork_protocol_names = []\n",
    "\n",
    "    # calculate the percentage of TVL in this category that is in the n largest protocols\n",
    "    percent_tvl_largest_protocols = total_tvl_largest_protocols / df[df['category'] == category]['tvl'].sum()\n",
    "    # calculate the percentage of TVL in this category that is in the n largest protocols and their forks\n",
    "    percent_tvl_largest_protocols_and_forks = (total_tvl_largest_protocols + total_tvl_fork_protocols) / df[df['category'] == category]['tvl'].sum()\n",
    "\n",
    "    # calculate the total_tvl_largest_protocols_and_forks\n",
    "    total_tvl_largest_protocols_and_forks = total_tvl_largest_protocols + total_tvl_fork_protocols\n",
    "\n",
    "    # fill results\n",
    "    new_row = pd.DataFrame({\n",
    "        'category': category,\n",
    "        'largest_protocols': [largest_protocols['name'].tolist()],\n",
    "        'percent_tvl_largest_protocols': [percent_tvl_largest_protocols],\n",
    "        'percent_tvl_largest_protocols_and_forks': [percent_tvl_largest_protocols_and_forks],\n",
    "        'total_tvl_largest_protocols': [total_tvl_largest_protocols],\n",
    "        'total_tvl_largest_protocols_and_forks': [total_tvl_largest_protocols_and_forks],\n",
    "        'fork_protocols': [fork_protocol_names],\n",
    "        'total_tvl_fork_protocols': [total_tvl_fork_protocols]\n",
    "    })\n",
    "    results = pd.concat([results, new_row], ignore_index=True)\n",
    "\n",
    "\n",
    "    # SANITY CHECKS\n",
    "    print (category)\n",
    "    print (largest_protocols['name'].tolist())\n",
    "\n",
    "    for index, row in fork_protocols.iterrows():\n",
    "        \n",
    "        # print out the labelled values in fork_protocols\n",
    "        print (row['category'] + \": \" + row['name'] + \": \" + row['forkedFrom'] + \": \" + str(row['tvl']))\n",
    "    \n",
    "    print ('\\n\\n')\n",
    "\n",
    "\n",
    "# save results as csv\n",
    "results.to_csv('top5.csv', index=False)\n",
    "\n",
    "# pretty print results, all tvl values in millions of $\n",
    "df = pd.read_csv('top5.csv')\n",
    "\n",
    "df['percent_tvl_largest_protocols'] = df['percent_tvl_largest_protocols'].apply(lambda x: str(round(x * 100, 2)) + \"%\")\n",
    "df['percent_tvl_largest_protocols_and_forks'] = df['percent_tvl_largest_protocols_and_forks'].apply(lambda x: str(round(x * 100, 2)) + \"%\")\n",
    "df['total_tvl_largest_protocols'] = df['total_tvl_largest_protocols'].apply(lambda x: \"$\" + str(round(x / 1000000, 2)) + \"M\")\n",
    "df['total_tvl_largest_protocols_and_forks'] = df['total_tvl_largest_protocols_and_forks'].apply(lambda x: \"$\" + str(round(x / 1000000, 2)) + \"M\")\n",
    "df['total_tvl_fork_protocols'] = df['total_tvl_fork_protocols'].apply(lambda x: \"$\" + str(round(x / 1000000, 2)) + \"M\")\n",
    "\n",
    "\n",
    "df\n",
    "\n"
   ]
  },
  {
   "cell_type": "code",
   "execution_count": 62,
   "metadata": {},
   "outputs": [],
   "source": [
    "# For all \"orginal\" protocols, find the sum of their TVL and their forks.\n",
    "\n",
    "df = pd.read_csv('protocols_all_small.csv')\n",
    "\n",
    "# create an empty DataFrame to store the results\n",
    "results = pd.DataFrame(columns=['category', 'protocol_name', 'num_forks', 'total_tvl', 'tvl_orig', 'tvl_forks', 'forks_names'])\n",
    "\n",
    "\n",
    "# iterate over each category\n",
    "for category in df['category'].unique():\n",
    "    # filter the protocols in the category where forkedFrom is empty\n",
    "    orig_protocols = df[(df['category'] == category) & (df['forkedFrom'].isnull())]\n",
    "    \n",
    "     # find the sum of TVL for each orig_protocol and all fork_protocols that have its name in forkedFrom \n",
    "    for index, protocol in orig_protocols.iterrows():\n",
    "        # find the sum of TVL for the protocol and all protocols that have its name in forkedFrom\n",
    "\n",
    "        # get protocols in this category where forkedFrom is not empty \n",
    "        mask = df[(df['category'] == category) & (df['forkedFrom'].notna())]\n",
    "        # get protocols in this category where forkedFrom is not empty and contains any of the 5 largest protocols\n",
    "        mask = mask[mask['forkedFrom'].apply(lambda x: any(item for item in [protocol['name']] if item in x))]\n",
    "        forks = mask\n",
    "\n",
    "        # if forks is not empty, find the sum of tvl of all protocols in forks\n",
    "        if len(forks) > 0:\n",
    "            total_tvl_forks = forks['tvl'].sum()\n",
    "            forks_names = forks['name'].tolist()\n",
    "        else:\n",
    "            total_tvl_forks = 0\n",
    "            forks_names = []\n",
    "\n",
    "        # calculate the total_tvl_orig_and_forks\n",
    "        total_tvl_orig_and_forks = protocol['tvl'] + total_tvl_forks\n",
    "        \n",
    "        # fill results\n",
    "        new_row = pd.DataFrame({\n",
    "            'category': category,\n",
    "            'protocol_name': protocol['name'],\n",
    "            'num_forks': len(forks),\n",
    "            'total_tvl': total_tvl_orig_and_forks,\n",
    "            'tvl_orig': protocol['tvl'],\n",
    "            'tvl_forks': total_tvl_forks,\n",
    "            'forks_names': [forks_names]\n",
    "        }, index=[0])\n",
    "        results = pd.concat([results, new_row], ignore_index=True)\n",
    "\n",
    "    #   \n",
    "results\n",
    "# save to csv\n",
    "results.to_csv('forks_by_protocol.csv', index=False)\n",
    "\n",
    "# pretty print results, all tvl values in millions of $\n",
    "df = pd.read_csv('forks_by_protocol.csv')   \n"
   ]
  },
  {
   "cell_type": "code",
   "execution_count": 63,
   "metadata": {},
   "outputs": [
    {
     "data": {
      "application/vnd.plotly.v1+json": {
       "config": {
        "plotlyServerURL": "https://plotly.com"
       },
       "data": [
        {
         "alignmentgroup": "True",
         "hovertemplate": "variable=tvl_orig<br>protocol_name=%{x}<br>value=%{y}<extra></extra>",
         "legendgroup": "tvl_orig",
         "marker": {
          "color": "#636efa",
          "pattern": {
           "shape": ""
          }
         },
         "name": "tvl_orig",
         "offsetgroup": "tvl_orig",
         "orientation": "v",
         "showlegend": true,
         "textposition": "auto",
         "type": "bar",
         "x": [
          "MakerDAO",
          "JustStables",
          "Liquity",
          "Abracadabra",
          "Lybra Finance",
          "Kava Mint",
          "other"
         ],
         "xaxis": "x",
         "y": [
          6137787869.549984,
          1344194104.097138,
          721557650.5114584,
          238488618.0141818,
          187242499.13487372,
          66099055.34304626,
          null
         ],
         "yaxis": "y"
        },
        {
         "alignmentgroup": "True",
         "hovertemplate": "variable=tvl_forks<br>protocol_name=%{x}<br>value=%{y}<extra></extra>",
         "legendgroup": "tvl_forks",
         "marker": {
          "color": "#EF553B",
          "pattern": {
           "shape": ""
          }
         },
         "name": "tvl_forks",
         "offsetgroup": "tvl_forks",
         "orientation": "v",
         "showlegend": true,
         "textposition": "auto",
         "type": "bar",
         "x": [
          "MakerDAO",
          "JustStables",
          "Liquity",
          "Abracadabra",
          "Lybra Finance",
          "Kava Mint",
          "other"
         ],
         "xaxis": "x",
         "y": [
          48582422.629636765,
          0,
          74856429.11333074,
          1811.4236600791724,
          0,
          0,
          null
         ],
         "yaxis": "y"
        }
       ],
       "layout": {
        "barmode": "stack",
        "legend": {
         "title": {
          "text": "variable"
         },
         "tracegroupgap": 0
        },
        "shapes": [
         {
          "line": {
           "color": "green",
           "dash": "dash",
           "width": 3
          },
          "type": "line",
          "x0": 0.5,
          "x1": 0.5,
          "xref": "x",
          "y0": 0,
          "y1": 1,
          "yref": "y domain"
         },
         {
          "line": {
           "color": "orange",
           "dash": "dash",
           "width": 3
          },
          "type": "line",
          "x0": 2.5,
          "x1": 2.5,
          "xref": "x",
          "y0": 0,
          "y1": 1,
          "yref": "y domain"
         },
         {
          "line": {
           "color": "red",
           "dash": "dash",
           "width": 3
          },
          "type": "line",
          "x0": 5.5,
          "x1": 5.5,
          "xref": "x",
          "y0": 0,
          "y1": 1,
          "yref": "y domain"
         }
        ],
        "template": {
         "data": {
          "bar": [
           {
            "error_x": {
             "color": "#2a3f5f"
            },
            "error_y": {
             "color": "#2a3f5f"
            },
            "marker": {
             "line": {
              "color": "#E5ECF6",
              "width": 0.5
             },
             "pattern": {
              "fillmode": "overlay",
              "size": 10,
              "solidity": 0.2
             }
            },
            "type": "bar"
           }
          ],
          "barpolar": [
           {
            "marker": {
             "line": {
              "color": "#E5ECF6",
              "width": 0.5
             },
             "pattern": {
              "fillmode": "overlay",
              "size": 10,
              "solidity": 0.2
             }
            },
            "type": "barpolar"
           }
          ],
          "carpet": [
           {
            "aaxis": {
             "endlinecolor": "#2a3f5f",
             "gridcolor": "white",
             "linecolor": "white",
             "minorgridcolor": "white",
             "startlinecolor": "#2a3f5f"
            },
            "baxis": {
             "endlinecolor": "#2a3f5f",
             "gridcolor": "white",
             "linecolor": "white",
             "minorgridcolor": "white",
             "startlinecolor": "#2a3f5f"
            },
            "type": "carpet"
           }
          ],
          "choropleth": [
           {
            "colorbar": {
             "outlinewidth": 0,
             "ticks": ""
            },
            "type": "choropleth"
           }
          ],
          "contour": [
           {
            "colorbar": {
             "outlinewidth": 0,
             "ticks": ""
            },
            "colorscale": [
             [
              0,
              "#0d0887"
             ],
             [
              0.1111111111111111,
              "#46039f"
             ],
             [
              0.2222222222222222,
              "#7201a8"
             ],
             [
              0.3333333333333333,
              "#9c179e"
             ],
             [
              0.4444444444444444,
              "#bd3786"
             ],
             [
              0.5555555555555556,
              "#d8576b"
             ],
             [
              0.6666666666666666,
              "#ed7953"
             ],
             [
              0.7777777777777778,
              "#fb9f3a"
             ],
             [
              0.8888888888888888,
              "#fdca26"
             ],
             [
              1,
              "#f0f921"
             ]
            ],
            "type": "contour"
           }
          ],
          "contourcarpet": [
           {
            "colorbar": {
             "outlinewidth": 0,
             "ticks": ""
            },
            "type": "contourcarpet"
           }
          ],
          "heatmap": [
           {
            "colorbar": {
             "outlinewidth": 0,
             "ticks": ""
            },
            "colorscale": [
             [
              0,
              "#0d0887"
             ],
             [
              0.1111111111111111,
              "#46039f"
             ],
             [
              0.2222222222222222,
              "#7201a8"
             ],
             [
              0.3333333333333333,
              "#9c179e"
             ],
             [
              0.4444444444444444,
              "#bd3786"
             ],
             [
              0.5555555555555556,
              "#d8576b"
             ],
             [
              0.6666666666666666,
              "#ed7953"
             ],
             [
              0.7777777777777778,
              "#fb9f3a"
             ],
             [
              0.8888888888888888,
              "#fdca26"
             ],
             [
              1,
              "#f0f921"
             ]
            ],
            "type": "heatmap"
           }
          ],
          "heatmapgl": [
           {
            "colorbar": {
             "outlinewidth": 0,
             "ticks": ""
            },
            "colorscale": [
             [
              0,
              "#0d0887"
             ],
             [
              0.1111111111111111,
              "#46039f"
             ],
             [
              0.2222222222222222,
              "#7201a8"
             ],
             [
              0.3333333333333333,
              "#9c179e"
             ],
             [
              0.4444444444444444,
              "#bd3786"
             ],
             [
              0.5555555555555556,
              "#d8576b"
             ],
             [
              0.6666666666666666,
              "#ed7953"
             ],
             [
              0.7777777777777778,
              "#fb9f3a"
             ],
             [
              0.8888888888888888,
              "#fdca26"
             ],
             [
              1,
              "#f0f921"
             ]
            ],
            "type": "heatmapgl"
           }
          ],
          "histogram": [
           {
            "marker": {
             "pattern": {
              "fillmode": "overlay",
              "size": 10,
              "solidity": 0.2
             }
            },
            "type": "histogram"
           }
          ],
          "histogram2d": [
           {
            "colorbar": {
             "outlinewidth": 0,
             "ticks": ""
            },
            "colorscale": [
             [
              0,
              "#0d0887"
             ],
             [
              0.1111111111111111,
              "#46039f"
             ],
             [
              0.2222222222222222,
              "#7201a8"
             ],
             [
              0.3333333333333333,
              "#9c179e"
             ],
             [
              0.4444444444444444,
              "#bd3786"
             ],
             [
              0.5555555555555556,
              "#d8576b"
             ],
             [
              0.6666666666666666,
              "#ed7953"
             ],
             [
              0.7777777777777778,
              "#fb9f3a"
             ],
             [
              0.8888888888888888,
              "#fdca26"
             ],
             [
              1,
              "#f0f921"
             ]
            ],
            "type": "histogram2d"
           }
          ],
          "histogram2dcontour": [
           {
            "colorbar": {
             "outlinewidth": 0,
             "ticks": ""
            },
            "colorscale": [
             [
              0,
              "#0d0887"
             ],
             [
              0.1111111111111111,
              "#46039f"
             ],
             [
              0.2222222222222222,
              "#7201a8"
             ],
             [
              0.3333333333333333,
              "#9c179e"
             ],
             [
              0.4444444444444444,
              "#bd3786"
             ],
             [
              0.5555555555555556,
              "#d8576b"
             ],
             [
              0.6666666666666666,
              "#ed7953"
             ],
             [
              0.7777777777777778,
              "#fb9f3a"
             ],
             [
              0.8888888888888888,
              "#fdca26"
             ],
             [
              1,
              "#f0f921"
             ]
            ],
            "type": "histogram2dcontour"
           }
          ],
          "mesh3d": [
           {
            "colorbar": {
             "outlinewidth": 0,
             "ticks": ""
            },
            "type": "mesh3d"
           }
          ],
          "parcoords": [
           {
            "line": {
             "colorbar": {
              "outlinewidth": 0,
              "ticks": ""
             }
            },
            "type": "parcoords"
           }
          ],
          "pie": [
           {
            "automargin": true,
            "type": "pie"
           }
          ],
          "scatter": [
           {
            "fillpattern": {
             "fillmode": "overlay",
             "size": 10,
             "solidity": 0.2
            },
            "type": "scatter"
           }
          ],
          "scatter3d": [
           {
            "line": {
             "colorbar": {
              "outlinewidth": 0,
              "ticks": ""
             }
            },
            "marker": {
             "colorbar": {
              "outlinewidth": 0,
              "ticks": ""
             }
            },
            "type": "scatter3d"
           }
          ],
          "scattercarpet": [
           {
            "marker": {
             "colorbar": {
              "outlinewidth": 0,
              "ticks": ""
             }
            },
            "type": "scattercarpet"
           }
          ],
          "scattergeo": [
           {
            "marker": {
             "colorbar": {
              "outlinewidth": 0,
              "ticks": ""
             }
            },
            "type": "scattergeo"
           }
          ],
          "scattergl": [
           {
            "marker": {
             "colorbar": {
              "outlinewidth": 0,
              "ticks": ""
             }
            },
            "type": "scattergl"
           }
          ],
          "scattermapbox": [
           {
            "marker": {
             "colorbar": {
              "outlinewidth": 0,
              "ticks": ""
             }
            },
            "type": "scattermapbox"
           }
          ],
          "scatterpolar": [
           {
            "marker": {
             "colorbar": {
              "outlinewidth": 0,
              "ticks": ""
             }
            },
            "type": "scatterpolar"
           }
          ],
          "scatterpolargl": [
           {
            "marker": {
             "colorbar": {
              "outlinewidth": 0,
              "ticks": ""
             }
            },
            "type": "scatterpolargl"
           }
          ],
          "scatterternary": [
           {
            "marker": {
             "colorbar": {
              "outlinewidth": 0,
              "ticks": ""
             }
            },
            "type": "scatterternary"
           }
          ],
          "surface": [
           {
            "colorbar": {
             "outlinewidth": 0,
             "ticks": ""
            },
            "colorscale": [
             [
              0,
              "#0d0887"
             ],
             [
              0.1111111111111111,
              "#46039f"
             ],
             [
              0.2222222222222222,
              "#7201a8"
             ],
             [
              0.3333333333333333,
              "#9c179e"
             ],
             [
              0.4444444444444444,
              "#bd3786"
             ],
             [
              0.5555555555555556,
              "#d8576b"
             ],
             [
              0.6666666666666666,
              "#ed7953"
             ],
             [
              0.7777777777777778,
              "#fb9f3a"
             ],
             [
              0.8888888888888888,
              "#fdca26"
             ],
             [
              1,
              "#f0f921"
             ]
            ],
            "type": "surface"
           }
          ],
          "table": [
           {
            "cells": {
             "fill": {
              "color": "#EBF0F8"
             },
             "line": {
              "color": "white"
             }
            },
            "header": {
             "fill": {
              "color": "#C8D4E3"
             },
             "line": {
              "color": "white"
             }
            },
            "type": "table"
           }
          ]
         },
         "layout": {
          "annotationdefaults": {
           "arrowcolor": "#2a3f5f",
           "arrowhead": 0,
           "arrowwidth": 1
          },
          "autotypenumbers": "strict",
          "coloraxis": {
           "colorbar": {
            "outlinewidth": 0,
            "ticks": ""
           }
          },
          "colorscale": {
           "diverging": [
            [
             0,
             "#8e0152"
            ],
            [
             0.1,
             "#c51b7d"
            ],
            [
             0.2,
             "#de77ae"
            ],
            [
             0.3,
             "#f1b6da"
            ],
            [
             0.4,
             "#fde0ef"
            ],
            [
             0.5,
             "#f7f7f7"
            ],
            [
             0.6,
             "#e6f5d0"
            ],
            [
             0.7,
             "#b8e186"
            ],
            [
             0.8,
             "#7fbc41"
            ],
            [
             0.9,
             "#4d9221"
            ],
            [
             1,
             "#276419"
            ]
           ],
           "sequential": [
            [
             0,
             "#0d0887"
            ],
            [
             0.1111111111111111,
             "#46039f"
            ],
            [
             0.2222222222222222,
             "#7201a8"
            ],
            [
             0.3333333333333333,
             "#9c179e"
            ],
            [
             0.4444444444444444,
             "#bd3786"
            ],
            [
             0.5555555555555556,
             "#d8576b"
            ],
            [
             0.6666666666666666,
             "#ed7953"
            ],
            [
             0.7777777777777778,
             "#fb9f3a"
            ],
            [
             0.8888888888888888,
             "#fdca26"
            ],
            [
             1,
             "#f0f921"
            ]
           ],
           "sequentialminus": [
            [
             0,
             "#0d0887"
            ],
            [
             0.1111111111111111,
             "#46039f"
            ],
            [
             0.2222222222222222,
             "#7201a8"
            ],
            [
             0.3333333333333333,
             "#9c179e"
            ],
            [
             0.4444444444444444,
             "#bd3786"
            ],
            [
             0.5555555555555556,
             "#d8576b"
            ],
            [
             0.6666666666666666,
             "#ed7953"
            ],
            [
             0.7777777777777778,
             "#fb9f3a"
            ],
            [
             0.8888888888888888,
             "#fdca26"
            ],
            [
             1,
             "#f0f921"
            ]
           ]
          },
          "colorway": [
           "#636efa",
           "#EF553B",
           "#00cc96",
           "#ab63fa",
           "#FFA15A",
           "#19d3f3",
           "#FF6692",
           "#B6E880",
           "#FF97FF",
           "#FECB52"
          ],
          "font": {
           "color": "#2a3f5f"
          },
          "geo": {
           "bgcolor": "white",
           "lakecolor": "white",
           "landcolor": "#E5ECF6",
           "showlakes": true,
           "showland": true,
           "subunitcolor": "white"
          },
          "hoverlabel": {
           "align": "left"
          },
          "hovermode": "closest",
          "mapbox": {
           "style": "light"
          },
          "paper_bgcolor": "white",
          "plot_bgcolor": "#E5ECF6",
          "polar": {
           "angularaxis": {
            "gridcolor": "white",
            "linecolor": "white",
            "ticks": ""
           },
           "bgcolor": "#E5ECF6",
           "radialaxis": {
            "gridcolor": "white",
            "linecolor": "white",
            "ticks": ""
           }
          },
          "scene": {
           "xaxis": {
            "backgroundcolor": "#E5ECF6",
            "gridcolor": "white",
            "gridwidth": 2,
            "linecolor": "white",
            "showbackground": true,
            "ticks": "",
            "zerolinecolor": "white"
           },
           "yaxis": {
            "backgroundcolor": "#E5ECF6",
            "gridcolor": "white",
            "gridwidth": 2,
            "linecolor": "white",
            "showbackground": true,
            "ticks": "",
            "zerolinecolor": "white"
           },
           "zaxis": {
            "backgroundcolor": "#E5ECF6",
            "gridcolor": "white",
            "gridwidth": 2,
            "linecolor": "white",
            "showbackground": true,
            "ticks": "",
            "zerolinecolor": "white"
           }
          },
          "shapedefaults": {
           "line": {
            "color": "#2a3f5f"
           }
          },
          "ternary": {
           "aaxis": {
            "gridcolor": "white",
            "linecolor": "white",
            "ticks": ""
           },
           "baxis": {
            "gridcolor": "white",
            "linecolor": "white",
            "ticks": ""
           },
           "bgcolor": "#E5ECF6",
           "caxis": {
            "gridcolor": "white",
            "linecolor": "white",
            "ticks": ""
           }
          },
          "title": {
           "x": 0.05
          },
          "xaxis": {
           "automargin": true,
           "gridcolor": "white",
           "linecolor": "white",
           "ticks": "",
           "title": {
            "standoff": 15
           },
           "zerolinecolor": "white",
           "zerolinewidth": 2
          },
          "yaxis": {
           "automargin": true,
           "gridcolor": "white",
           "linecolor": "white",
           "ticks": "",
           "title": {
            "standoff": 15
           },
           "zerolinecolor": "white",
           "zerolinewidth": 2
          }
         }
        },
        "title": {
         "text": "CDP"
        },
        "xaxis": {
         "anchor": "y",
         "domain": [
          0,
          1
         ],
         "title": {
          "text": "protocol_name"
         }
        },
        "yaxis": {
         "anchor": "x",
         "domain": [
          0,
          1
         ],
         "title": {
          "text": "value"
         }
        }
       }
      }
     },
     "metadata": {},
     "output_type": "display_data"
    },
    {
     "name": "stdout",
     "output_type": "stream",
     "text": [
      "7 total protocols\n",
      "1 protocols cover 80% of total TVL\n",
      "3 protocols cover 90% of total TVL\n",
      "6 protocols cover 95% of total TVL\n"
     ]
    },
    {
     "data": {
      "application/vnd.plotly.v1+json": {
       "config": {
        "plotlyServerURL": "https://plotly.com"
       },
       "data": [
        {
         "alignmentgroup": "True",
         "hovertemplate": "variable=tvl_orig<br>protocol_name=%{x}<br>value=%{y}<extra></extra>",
         "legendgroup": "tvl_orig",
         "marker": {
          "color": "#636efa",
          "pattern": {
           "shape": ""
          }
         },
         "name": "tvl_orig",
         "offsetgroup": "tvl_orig",
         "orientation": "v",
         "showlegend": true,
         "textposition": "auto",
         "type": "bar",
         "x": [
          "Uniswap V2",
          "Curve DEX",
          "Uniswap V3",
          "Balancer V2",
          "Solidly",
          "SUNSwap V1",
          "PulseX V1",
          "Chainge Finance",
          "Osmosis DEX",
          "SUNSwap V2",
          "DefiChain DEX",
          "Balancer V1",
          "Algebra DEX",
          "Thorchain",
          "KlaySwap",
          "SUN.io",
          "Loopring",
          "Wombat Exchange",
          "SyncSwap",
          "Joe V2.1",
          "Bancor V3",
          "4Swap",
          "Rhino.fi",
          "Minswap",
          "Saddle Finance",
          "xExchange",
          "Canto Dex",
          "Platypus Finance",
          "Orca",
          "DODO",
          "Flamingo Finance",
          "KyberSwap Elastic",
          "other"
         ],
         "xaxis": "x",
         "y": [
          1170111659.931882,
          4068118993.0277,
          2855833574.428931,
          903792352.0796114,
          455637.68448577856,
          386058220.020518,
          345473746.4715154,
          169472883.60184926,
          131438406.936354,
          129077924.4666455,
          121368767.5092999,
          114217326.736145,
          240483.04060989703,
          99150895.31963582,
          97576934.2171197,
          94180894.1123796,
          93072277.99422877,
          69494265.68211044,
          67361565.02622533,
          61454251.197028615,
          58775214.97279322,
          57574002.28192815,
          55969885.20366736,
          55095403.77620689,
          11316180.467158765,
          48260011.80153506,
          44358479.65611991,
          29394000.19313956,
          38722825.24643216,
          38366822.98563968,
          36727454.53548999,
          34148048.493853375,
          null
         ],
         "yaxis": "y"
        },
        {
         "alignmentgroup": "True",
         "hovertemplate": "variable=tvl_forks<br>protocol_name=%{x}<br>value=%{y}<extra></extra>",
         "legendgroup": "tvl_forks",
         "marker": {
          "color": "#EF553B",
          "pattern": {
           "shape": ""
          }
         },
         "name": "tvl_forks",
         "offsetgroup": "tvl_forks",
         "orientation": "v",
         "showlegend": true,
         "textposition": "auto",
         "type": "bar",
         "x": [
          "Uniswap V2",
          "Curve DEX",
          "Uniswap V3",
          "Balancer V2",
          "Solidly",
          "SUNSwap V1",
          "PulseX V1",
          "Chainge Finance",
          "Osmosis DEX",
          "SUNSwap V2",
          "DefiChain DEX",
          "Balancer V1",
          "Algebra DEX",
          "Thorchain",
          "KlaySwap",
          "SUN.io",
          "Loopring",
          "Wombat Exchange",
          "SyncSwap",
          "Joe V2.1",
          "Bancor V3",
          "4Swap",
          "Rhino.fi",
          "Minswap",
          "Saddle Finance",
          "xExchange",
          "Canto Dex",
          "Platypus Finance",
          "Orca",
          "DODO",
          "Flamingo Finance",
          "KyberSwap Elastic",
          "other"
         ],
         "xaxis": "x",
         "y": [
          3109168261.015077,
          0,
          319622440.5515899,
          0,
          428665601.1494672,
          0,
          0,
          0,
          0,
          0,
          0,
          0,
          108582499.49952105,
          0,
          0,
          0,
          0,
          0,
          0,
          0,
          0,
          0,
          0,
          0,
          42141738.5502444,
          0,
          0,
          9398078.263446275,
          0,
          0,
          0,
          0,
          null
         ],
         "yaxis": "y"
        }
       ],
       "layout": {
        "barmode": "stack",
        "legend": {
         "title": {
          "text": "variable"
         },
         "tracegroupgap": 0
        },
        "shapes": [
         {
          "line": {
           "color": "green",
           "dash": "dash",
           "width": 3
          },
          "type": "line",
          "x0": 4.5,
          "x1": 4.5,
          "xref": "x",
          "y0": 0,
          "y1": 1,
          "yref": "y domain"
         },
         {
          "line": {
           "color": "orange",
           "dash": "dash",
           "width": 3
          },
          "type": "line",
          "x0": 15.5,
          "x1": 15.5,
          "xref": "x",
          "y0": 0,
          "y1": 1,
          "yref": "y domain"
         },
         {
          "line": {
           "color": "red",
           "dash": "dash",
           "width": 3
          },
          "type": "line",
          "x0": 31.5,
          "x1": 31.5,
          "xref": "x",
          "y0": 0,
          "y1": 1,
          "yref": "y domain"
         }
        ],
        "template": {
         "data": {
          "bar": [
           {
            "error_x": {
             "color": "#2a3f5f"
            },
            "error_y": {
             "color": "#2a3f5f"
            },
            "marker": {
             "line": {
              "color": "#E5ECF6",
              "width": 0.5
             },
             "pattern": {
              "fillmode": "overlay",
              "size": 10,
              "solidity": 0.2
             }
            },
            "type": "bar"
           }
          ],
          "barpolar": [
           {
            "marker": {
             "line": {
              "color": "#E5ECF6",
              "width": 0.5
             },
             "pattern": {
              "fillmode": "overlay",
              "size": 10,
              "solidity": 0.2
             }
            },
            "type": "barpolar"
           }
          ],
          "carpet": [
           {
            "aaxis": {
             "endlinecolor": "#2a3f5f",
             "gridcolor": "white",
             "linecolor": "white",
             "minorgridcolor": "white",
             "startlinecolor": "#2a3f5f"
            },
            "baxis": {
             "endlinecolor": "#2a3f5f",
             "gridcolor": "white",
             "linecolor": "white",
             "minorgridcolor": "white",
             "startlinecolor": "#2a3f5f"
            },
            "type": "carpet"
           }
          ],
          "choropleth": [
           {
            "colorbar": {
             "outlinewidth": 0,
             "ticks": ""
            },
            "type": "choropleth"
           }
          ],
          "contour": [
           {
            "colorbar": {
             "outlinewidth": 0,
             "ticks": ""
            },
            "colorscale": [
             [
              0,
              "#0d0887"
             ],
             [
              0.1111111111111111,
              "#46039f"
             ],
             [
              0.2222222222222222,
              "#7201a8"
             ],
             [
              0.3333333333333333,
              "#9c179e"
             ],
             [
              0.4444444444444444,
              "#bd3786"
             ],
             [
              0.5555555555555556,
              "#d8576b"
             ],
             [
              0.6666666666666666,
              "#ed7953"
             ],
             [
              0.7777777777777778,
              "#fb9f3a"
             ],
             [
              0.8888888888888888,
              "#fdca26"
             ],
             [
              1,
              "#f0f921"
             ]
            ],
            "type": "contour"
           }
          ],
          "contourcarpet": [
           {
            "colorbar": {
             "outlinewidth": 0,
             "ticks": ""
            },
            "type": "contourcarpet"
           }
          ],
          "heatmap": [
           {
            "colorbar": {
             "outlinewidth": 0,
             "ticks": ""
            },
            "colorscale": [
             [
              0,
              "#0d0887"
             ],
             [
              0.1111111111111111,
              "#46039f"
             ],
             [
              0.2222222222222222,
              "#7201a8"
             ],
             [
              0.3333333333333333,
              "#9c179e"
             ],
             [
              0.4444444444444444,
              "#bd3786"
             ],
             [
              0.5555555555555556,
              "#d8576b"
             ],
             [
              0.6666666666666666,
              "#ed7953"
             ],
             [
              0.7777777777777778,
              "#fb9f3a"
             ],
             [
              0.8888888888888888,
              "#fdca26"
             ],
             [
              1,
              "#f0f921"
             ]
            ],
            "type": "heatmap"
           }
          ],
          "heatmapgl": [
           {
            "colorbar": {
             "outlinewidth": 0,
             "ticks": ""
            },
            "colorscale": [
             [
              0,
              "#0d0887"
             ],
             [
              0.1111111111111111,
              "#46039f"
             ],
             [
              0.2222222222222222,
              "#7201a8"
             ],
             [
              0.3333333333333333,
              "#9c179e"
             ],
             [
              0.4444444444444444,
              "#bd3786"
             ],
             [
              0.5555555555555556,
              "#d8576b"
             ],
             [
              0.6666666666666666,
              "#ed7953"
             ],
             [
              0.7777777777777778,
              "#fb9f3a"
             ],
             [
              0.8888888888888888,
              "#fdca26"
             ],
             [
              1,
              "#f0f921"
             ]
            ],
            "type": "heatmapgl"
           }
          ],
          "histogram": [
           {
            "marker": {
             "pattern": {
              "fillmode": "overlay",
              "size": 10,
              "solidity": 0.2
             }
            },
            "type": "histogram"
           }
          ],
          "histogram2d": [
           {
            "colorbar": {
             "outlinewidth": 0,
             "ticks": ""
            },
            "colorscale": [
             [
              0,
              "#0d0887"
             ],
             [
              0.1111111111111111,
              "#46039f"
             ],
             [
              0.2222222222222222,
              "#7201a8"
             ],
             [
              0.3333333333333333,
              "#9c179e"
             ],
             [
              0.4444444444444444,
              "#bd3786"
             ],
             [
              0.5555555555555556,
              "#d8576b"
             ],
             [
              0.6666666666666666,
              "#ed7953"
             ],
             [
              0.7777777777777778,
              "#fb9f3a"
             ],
             [
              0.8888888888888888,
              "#fdca26"
             ],
             [
              1,
              "#f0f921"
             ]
            ],
            "type": "histogram2d"
           }
          ],
          "histogram2dcontour": [
           {
            "colorbar": {
             "outlinewidth": 0,
             "ticks": ""
            },
            "colorscale": [
             [
              0,
              "#0d0887"
             ],
             [
              0.1111111111111111,
              "#46039f"
             ],
             [
              0.2222222222222222,
              "#7201a8"
             ],
             [
              0.3333333333333333,
              "#9c179e"
             ],
             [
              0.4444444444444444,
              "#bd3786"
             ],
             [
              0.5555555555555556,
              "#d8576b"
             ],
             [
              0.6666666666666666,
              "#ed7953"
             ],
             [
              0.7777777777777778,
              "#fb9f3a"
             ],
             [
              0.8888888888888888,
              "#fdca26"
             ],
             [
              1,
              "#f0f921"
             ]
            ],
            "type": "histogram2dcontour"
           }
          ],
          "mesh3d": [
           {
            "colorbar": {
             "outlinewidth": 0,
             "ticks": ""
            },
            "type": "mesh3d"
           }
          ],
          "parcoords": [
           {
            "line": {
             "colorbar": {
              "outlinewidth": 0,
              "ticks": ""
             }
            },
            "type": "parcoords"
           }
          ],
          "pie": [
           {
            "automargin": true,
            "type": "pie"
           }
          ],
          "scatter": [
           {
            "fillpattern": {
             "fillmode": "overlay",
             "size": 10,
             "solidity": 0.2
            },
            "type": "scatter"
           }
          ],
          "scatter3d": [
           {
            "line": {
             "colorbar": {
              "outlinewidth": 0,
              "ticks": ""
             }
            },
            "marker": {
             "colorbar": {
              "outlinewidth": 0,
              "ticks": ""
             }
            },
            "type": "scatter3d"
           }
          ],
          "scattercarpet": [
           {
            "marker": {
             "colorbar": {
              "outlinewidth": 0,
              "ticks": ""
             }
            },
            "type": "scattercarpet"
           }
          ],
          "scattergeo": [
           {
            "marker": {
             "colorbar": {
              "outlinewidth": 0,
              "ticks": ""
             }
            },
            "type": "scattergeo"
           }
          ],
          "scattergl": [
           {
            "marker": {
             "colorbar": {
              "outlinewidth": 0,
              "ticks": ""
             }
            },
            "type": "scattergl"
           }
          ],
          "scattermapbox": [
           {
            "marker": {
             "colorbar": {
              "outlinewidth": 0,
              "ticks": ""
             }
            },
            "type": "scattermapbox"
           }
          ],
          "scatterpolar": [
           {
            "marker": {
             "colorbar": {
              "outlinewidth": 0,
              "ticks": ""
             }
            },
            "type": "scatterpolar"
           }
          ],
          "scatterpolargl": [
           {
            "marker": {
             "colorbar": {
              "outlinewidth": 0,
              "ticks": ""
             }
            },
            "type": "scatterpolargl"
           }
          ],
          "scatterternary": [
           {
            "marker": {
             "colorbar": {
              "outlinewidth": 0,
              "ticks": ""
             }
            },
            "type": "scatterternary"
           }
          ],
          "surface": [
           {
            "colorbar": {
             "outlinewidth": 0,
             "ticks": ""
            },
            "colorscale": [
             [
              0,
              "#0d0887"
             ],
             [
              0.1111111111111111,
              "#46039f"
             ],
             [
              0.2222222222222222,
              "#7201a8"
             ],
             [
              0.3333333333333333,
              "#9c179e"
             ],
             [
              0.4444444444444444,
              "#bd3786"
             ],
             [
              0.5555555555555556,
              "#d8576b"
             ],
             [
              0.6666666666666666,
              "#ed7953"
             ],
             [
              0.7777777777777778,
              "#fb9f3a"
             ],
             [
              0.8888888888888888,
              "#fdca26"
             ],
             [
              1,
              "#f0f921"
             ]
            ],
            "type": "surface"
           }
          ],
          "table": [
           {
            "cells": {
             "fill": {
              "color": "#EBF0F8"
             },
             "line": {
              "color": "white"
             }
            },
            "header": {
             "fill": {
              "color": "#C8D4E3"
             },
             "line": {
              "color": "white"
             }
            },
            "type": "table"
           }
          ]
         },
         "layout": {
          "annotationdefaults": {
           "arrowcolor": "#2a3f5f",
           "arrowhead": 0,
           "arrowwidth": 1
          },
          "autotypenumbers": "strict",
          "coloraxis": {
           "colorbar": {
            "outlinewidth": 0,
            "ticks": ""
           }
          },
          "colorscale": {
           "diverging": [
            [
             0,
             "#8e0152"
            ],
            [
             0.1,
             "#c51b7d"
            ],
            [
             0.2,
             "#de77ae"
            ],
            [
             0.3,
             "#f1b6da"
            ],
            [
             0.4,
             "#fde0ef"
            ],
            [
             0.5,
             "#f7f7f7"
            ],
            [
             0.6,
             "#e6f5d0"
            ],
            [
             0.7,
             "#b8e186"
            ],
            [
             0.8,
             "#7fbc41"
            ],
            [
             0.9,
             "#4d9221"
            ],
            [
             1,
             "#276419"
            ]
           ],
           "sequential": [
            [
             0,
             "#0d0887"
            ],
            [
             0.1111111111111111,
             "#46039f"
            ],
            [
             0.2222222222222222,
             "#7201a8"
            ],
            [
             0.3333333333333333,
             "#9c179e"
            ],
            [
             0.4444444444444444,
             "#bd3786"
            ],
            [
             0.5555555555555556,
             "#d8576b"
            ],
            [
             0.6666666666666666,
             "#ed7953"
            ],
            [
             0.7777777777777778,
             "#fb9f3a"
            ],
            [
             0.8888888888888888,
             "#fdca26"
            ],
            [
             1,
             "#f0f921"
            ]
           ],
           "sequentialminus": [
            [
             0,
             "#0d0887"
            ],
            [
             0.1111111111111111,
             "#46039f"
            ],
            [
             0.2222222222222222,
             "#7201a8"
            ],
            [
             0.3333333333333333,
             "#9c179e"
            ],
            [
             0.4444444444444444,
             "#bd3786"
            ],
            [
             0.5555555555555556,
             "#d8576b"
            ],
            [
             0.6666666666666666,
             "#ed7953"
            ],
            [
             0.7777777777777778,
             "#fb9f3a"
            ],
            [
             0.8888888888888888,
             "#fdca26"
            ],
            [
             1,
             "#f0f921"
            ]
           ]
          },
          "colorway": [
           "#636efa",
           "#EF553B",
           "#00cc96",
           "#ab63fa",
           "#FFA15A",
           "#19d3f3",
           "#FF6692",
           "#B6E880",
           "#FF97FF",
           "#FECB52"
          ],
          "font": {
           "color": "#2a3f5f"
          },
          "geo": {
           "bgcolor": "white",
           "lakecolor": "white",
           "landcolor": "#E5ECF6",
           "showlakes": true,
           "showland": true,
           "subunitcolor": "white"
          },
          "hoverlabel": {
           "align": "left"
          },
          "hovermode": "closest",
          "mapbox": {
           "style": "light"
          },
          "paper_bgcolor": "white",
          "plot_bgcolor": "#E5ECF6",
          "polar": {
           "angularaxis": {
            "gridcolor": "white",
            "linecolor": "white",
            "ticks": ""
           },
           "bgcolor": "#E5ECF6",
           "radialaxis": {
            "gridcolor": "white",
            "linecolor": "white",
            "ticks": ""
           }
          },
          "scene": {
           "xaxis": {
            "backgroundcolor": "#E5ECF6",
            "gridcolor": "white",
            "gridwidth": 2,
            "linecolor": "white",
            "showbackground": true,
            "ticks": "",
            "zerolinecolor": "white"
           },
           "yaxis": {
            "backgroundcolor": "#E5ECF6",
            "gridcolor": "white",
            "gridwidth": 2,
            "linecolor": "white",
            "showbackground": true,
            "ticks": "",
            "zerolinecolor": "white"
           },
           "zaxis": {
            "backgroundcolor": "#E5ECF6",
            "gridcolor": "white",
            "gridwidth": 2,
            "linecolor": "white",
            "showbackground": true,
            "ticks": "",
            "zerolinecolor": "white"
           }
          },
          "shapedefaults": {
           "line": {
            "color": "#2a3f5f"
           }
          },
          "ternary": {
           "aaxis": {
            "gridcolor": "white",
            "linecolor": "white",
            "ticks": ""
           },
           "baxis": {
            "gridcolor": "white",
            "linecolor": "white",
            "ticks": ""
           },
           "bgcolor": "#E5ECF6",
           "caxis": {
            "gridcolor": "white",
            "linecolor": "white",
            "ticks": ""
           }
          },
          "title": {
           "x": 0.05
          },
          "xaxis": {
           "automargin": true,
           "gridcolor": "white",
           "linecolor": "white",
           "ticks": "",
           "title": {
            "standoff": 15
           },
           "zerolinecolor": "white",
           "zerolinewidth": 2
          },
          "yaxis": {
           "automargin": true,
           "gridcolor": "white",
           "linecolor": "white",
           "ticks": "",
           "title": {
            "standoff": 15
           },
           "zerolinecolor": "white",
           "zerolinewidth": 2
          }
         }
        },
        "title": {
         "text": "Dexes"
        },
        "xaxis": {
         "anchor": "y",
         "domain": [
          0,
          1
         ],
         "title": {
          "text": "protocol_name"
         }
        },
        "yaxis": {
         "anchor": "x",
         "domain": [
          0,
          1
         ],
         "title": {
          "text": "value"
         }
        }
       }
      }
     },
     "metadata": {},
     "output_type": "display_data"
    },
    {
     "name": "stdout",
     "output_type": "stream",
     "text": [
      "33 total protocols\n",
      "5 protocols cover 80% of total TVL\n",
      "16 protocols cover 90% of total TVL\n",
      "32 protocols cover 95% of total TVL\n"
     ]
    },
    {
     "data": {
      "application/vnd.plotly.v1+json": {
       "config": {
        "plotlyServerURL": "https://plotly.com"
       },
       "data": [
        {
         "alignmentgroup": "True",
         "hovertemplate": "variable=tvl_orig<br>protocol_name=%{x}<br>value=%{y}<extra></extra>",
         "legendgroup": "tvl_orig",
         "marker": {
          "color": "#636efa",
          "pattern": {
           "shape": ""
          }
         },
         "name": "tvl_orig",
         "offsetgroup": "tvl_orig",
         "orientation": "v",
         "showlegend": true,
         "textposition": "auto",
         "type": "bar",
         "x": [
          "AAVE V2",
          "JustLend",
          "Compound",
          "AAVE V3",
          "Compound V3",
          "Morpho Aave",
          "Fraxlend",
          "Alpaca Lending",
          "Kava Lend",
          "other"
         ],
         "xaxis": "x",
         "y": [
          3724667078.227557,
          3605735188.5737433,
          1277189222.5633569,
          1586409391.065643,
          542750735.6101995,
          296753048.2791175,
          159234450.69462574,
          156053861.7769117,
          104024179.28736506,
          null
         ],
         "yaxis": "y"
        },
        {
         "alignmentgroup": "True",
         "hovertemplate": "variable=tvl_forks<br>protocol_name=%{x}<br>value=%{y}<extra></extra>",
         "legendgroup": "tvl_forks",
         "marker": {
          "color": "#EF553B",
          "pattern": {
           "shape": ""
          }
         },
         "name": "tvl_forks",
         "offsetgroup": "tvl_forks",
         "orientation": "v",
         "showlegend": true,
         "textposition": "auto",
         "type": "bar",
         "x": [
          "AAVE V2",
          "JustLend",
          "Compound",
          "AAVE V3",
          "Compound V3",
          "Morpho Aave",
          "Fraxlend",
          "Alpaca Lending",
          "Kava Lend",
          "other"
         ],
         "xaxis": "x",
         "y": [
          0,
          0,
          1291965242.2418144,
          0,
          0,
          0,
          0,
          0,
          0,
          null
         ],
         "yaxis": "y"
        }
       ],
       "layout": {
        "barmode": "stack",
        "legend": {
         "title": {
          "text": "variable"
         },
         "tracegroupgap": 0
        },
        "shapes": [
         {
          "line": {
           "color": "green",
           "dash": "dash",
           "width": 3
          },
          "type": "line",
          "x0": 2.5,
          "x1": 2.5,
          "xref": "x",
          "y0": 0,
          "y1": 1,
          "yref": "y domain"
         },
         {
          "line": {
           "color": "orange",
           "dash": "dash",
           "width": 3
          },
          "type": "line",
          "x0": 4.5,
          "x1": 4.5,
          "xref": "x",
          "y0": 0,
          "y1": 1,
          "yref": "y domain"
         },
         {
          "line": {
           "color": "red",
           "dash": "dash",
           "width": 3
          },
          "type": "line",
          "x0": 8.5,
          "x1": 8.5,
          "xref": "x",
          "y0": 0,
          "y1": 1,
          "yref": "y domain"
         }
        ],
        "template": {
         "data": {
          "bar": [
           {
            "error_x": {
             "color": "#2a3f5f"
            },
            "error_y": {
             "color": "#2a3f5f"
            },
            "marker": {
             "line": {
              "color": "#E5ECF6",
              "width": 0.5
             },
             "pattern": {
              "fillmode": "overlay",
              "size": 10,
              "solidity": 0.2
             }
            },
            "type": "bar"
           }
          ],
          "barpolar": [
           {
            "marker": {
             "line": {
              "color": "#E5ECF6",
              "width": 0.5
             },
             "pattern": {
              "fillmode": "overlay",
              "size": 10,
              "solidity": 0.2
             }
            },
            "type": "barpolar"
           }
          ],
          "carpet": [
           {
            "aaxis": {
             "endlinecolor": "#2a3f5f",
             "gridcolor": "white",
             "linecolor": "white",
             "minorgridcolor": "white",
             "startlinecolor": "#2a3f5f"
            },
            "baxis": {
             "endlinecolor": "#2a3f5f",
             "gridcolor": "white",
             "linecolor": "white",
             "minorgridcolor": "white",
             "startlinecolor": "#2a3f5f"
            },
            "type": "carpet"
           }
          ],
          "choropleth": [
           {
            "colorbar": {
             "outlinewidth": 0,
             "ticks": ""
            },
            "type": "choropleth"
           }
          ],
          "contour": [
           {
            "colorbar": {
             "outlinewidth": 0,
             "ticks": ""
            },
            "colorscale": [
             [
              0,
              "#0d0887"
             ],
             [
              0.1111111111111111,
              "#46039f"
             ],
             [
              0.2222222222222222,
              "#7201a8"
             ],
             [
              0.3333333333333333,
              "#9c179e"
             ],
             [
              0.4444444444444444,
              "#bd3786"
             ],
             [
              0.5555555555555556,
              "#d8576b"
             ],
             [
              0.6666666666666666,
              "#ed7953"
             ],
             [
              0.7777777777777778,
              "#fb9f3a"
             ],
             [
              0.8888888888888888,
              "#fdca26"
             ],
             [
              1,
              "#f0f921"
             ]
            ],
            "type": "contour"
           }
          ],
          "contourcarpet": [
           {
            "colorbar": {
             "outlinewidth": 0,
             "ticks": ""
            },
            "type": "contourcarpet"
           }
          ],
          "heatmap": [
           {
            "colorbar": {
             "outlinewidth": 0,
             "ticks": ""
            },
            "colorscale": [
             [
              0,
              "#0d0887"
             ],
             [
              0.1111111111111111,
              "#46039f"
             ],
             [
              0.2222222222222222,
              "#7201a8"
             ],
             [
              0.3333333333333333,
              "#9c179e"
             ],
             [
              0.4444444444444444,
              "#bd3786"
             ],
             [
              0.5555555555555556,
              "#d8576b"
             ],
             [
              0.6666666666666666,
              "#ed7953"
             ],
             [
              0.7777777777777778,
              "#fb9f3a"
             ],
             [
              0.8888888888888888,
              "#fdca26"
             ],
             [
              1,
              "#f0f921"
             ]
            ],
            "type": "heatmap"
           }
          ],
          "heatmapgl": [
           {
            "colorbar": {
             "outlinewidth": 0,
             "ticks": ""
            },
            "colorscale": [
             [
              0,
              "#0d0887"
             ],
             [
              0.1111111111111111,
              "#46039f"
             ],
             [
              0.2222222222222222,
              "#7201a8"
             ],
             [
              0.3333333333333333,
              "#9c179e"
             ],
             [
              0.4444444444444444,
              "#bd3786"
             ],
             [
              0.5555555555555556,
              "#d8576b"
             ],
             [
              0.6666666666666666,
              "#ed7953"
             ],
             [
              0.7777777777777778,
              "#fb9f3a"
             ],
             [
              0.8888888888888888,
              "#fdca26"
             ],
             [
              1,
              "#f0f921"
             ]
            ],
            "type": "heatmapgl"
           }
          ],
          "histogram": [
           {
            "marker": {
             "pattern": {
              "fillmode": "overlay",
              "size": 10,
              "solidity": 0.2
             }
            },
            "type": "histogram"
           }
          ],
          "histogram2d": [
           {
            "colorbar": {
             "outlinewidth": 0,
             "ticks": ""
            },
            "colorscale": [
             [
              0,
              "#0d0887"
             ],
             [
              0.1111111111111111,
              "#46039f"
             ],
             [
              0.2222222222222222,
              "#7201a8"
             ],
             [
              0.3333333333333333,
              "#9c179e"
             ],
             [
              0.4444444444444444,
              "#bd3786"
             ],
             [
              0.5555555555555556,
              "#d8576b"
             ],
             [
              0.6666666666666666,
              "#ed7953"
             ],
             [
              0.7777777777777778,
              "#fb9f3a"
             ],
             [
              0.8888888888888888,
              "#fdca26"
             ],
             [
              1,
              "#f0f921"
             ]
            ],
            "type": "histogram2d"
           }
          ],
          "histogram2dcontour": [
           {
            "colorbar": {
             "outlinewidth": 0,
             "ticks": ""
            },
            "colorscale": [
             [
              0,
              "#0d0887"
             ],
             [
              0.1111111111111111,
              "#46039f"
             ],
             [
              0.2222222222222222,
              "#7201a8"
             ],
             [
              0.3333333333333333,
              "#9c179e"
             ],
             [
              0.4444444444444444,
              "#bd3786"
             ],
             [
              0.5555555555555556,
              "#d8576b"
             ],
             [
              0.6666666666666666,
              "#ed7953"
             ],
             [
              0.7777777777777778,
              "#fb9f3a"
             ],
             [
              0.8888888888888888,
              "#fdca26"
             ],
             [
              1,
              "#f0f921"
             ]
            ],
            "type": "histogram2dcontour"
           }
          ],
          "mesh3d": [
           {
            "colorbar": {
             "outlinewidth": 0,
             "ticks": ""
            },
            "type": "mesh3d"
           }
          ],
          "parcoords": [
           {
            "line": {
             "colorbar": {
              "outlinewidth": 0,
              "ticks": ""
             }
            },
            "type": "parcoords"
           }
          ],
          "pie": [
           {
            "automargin": true,
            "type": "pie"
           }
          ],
          "scatter": [
           {
            "fillpattern": {
             "fillmode": "overlay",
             "size": 10,
             "solidity": 0.2
            },
            "type": "scatter"
           }
          ],
          "scatter3d": [
           {
            "line": {
             "colorbar": {
              "outlinewidth": 0,
              "ticks": ""
             }
            },
            "marker": {
             "colorbar": {
              "outlinewidth": 0,
              "ticks": ""
             }
            },
            "type": "scatter3d"
           }
          ],
          "scattercarpet": [
           {
            "marker": {
             "colorbar": {
              "outlinewidth": 0,
              "ticks": ""
             }
            },
            "type": "scattercarpet"
           }
          ],
          "scattergeo": [
           {
            "marker": {
             "colorbar": {
              "outlinewidth": 0,
              "ticks": ""
             }
            },
            "type": "scattergeo"
           }
          ],
          "scattergl": [
           {
            "marker": {
             "colorbar": {
              "outlinewidth": 0,
              "ticks": ""
             }
            },
            "type": "scattergl"
           }
          ],
          "scattermapbox": [
           {
            "marker": {
             "colorbar": {
              "outlinewidth": 0,
              "ticks": ""
             }
            },
            "type": "scattermapbox"
           }
          ],
          "scatterpolar": [
           {
            "marker": {
             "colorbar": {
              "outlinewidth": 0,
              "ticks": ""
             }
            },
            "type": "scatterpolar"
           }
          ],
          "scatterpolargl": [
           {
            "marker": {
             "colorbar": {
              "outlinewidth": 0,
              "ticks": ""
             }
            },
            "type": "scatterpolargl"
           }
          ],
          "scatterternary": [
           {
            "marker": {
             "colorbar": {
              "outlinewidth": 0,
              "ticks": ""
             }
            },
            "type": "scatterternary"
           }
          ],
          "surface": [
           {
            "colorbar": {
             "outlinewidth": 0,
             "ticks": ""
            },
            "colorscale": [
             [
              0,
              "#0d0887"
             ],
             [
              0.1111111111111111,
              "#46039f"
             ],
             [
              0.2222222222222222,
              "#7201a8"
             ],
             [
              0.3333333333333333,
              "#9c179e"
             ],
             [
              0.4444444444444444,
              "#bd3786"
             ],
             [
              0.5555555555555556,
              "#d8576b"
             ],
             [
              0.6666666666666666,
              "#ed7953"
             ],
             [
              0.7777777777777778,
              "#fb9f3a"
             ],
             [
              0.8888888888888888,
              "#fdca26"
             ],
             [
              1,
              "#f0f921"
             ]
            ],
            "type": "surface"
           }
          ],
          "table": [
           {
            "cells": {
             "fill": {
              "color": "#EBF0F8"
             },
             "line": {
              "color": "white"
             }
            },
            "header": {
             "fill": {
              "color": "#C8D4E3"
             },
             "line": {
              "color": "white"
             }
            },
            "type": "table"
           }
          ]
         },
         "layout": {
          "annotationdefaults": {
           "arrowcolor": "#2a3f5f",
           "arrowhead": 0,
           "arrowwidth": 1
          },
          "autotypenumbers": "strict",
          "coloraxis": {
           "colorbar": {
            "outlinewidth": 0,
            "ticks": ""
           }
          },
          "colorscale": {
           "diverging": [
            [
             0,
             "#8e0152"
            ],
            [
             0.1,
             "#c51b7d"
            ],
            [
             0.2,
             "#de77ae"
            ],
            [
             0.3,
             "#f1b6da"
            ],
            [
             0.4,
             "#fde0ef"
            ],
            [
             0.5,
             "#f7f7f7"
            ],
            [
             0.6,
             "#e6f5d0"
            ],
            [
             0.7,
             "#b8e186"
            ],
            [
             0.8,
             "#7fbc41"
            ],
            [
             0.9,
             "#4d9221"
            ],
            [
             1,
             "#276419"
            ]
           ],
           "sequential": [
            [
             0,
             "#0d0887"
            ],
            [
             0.1111111111111111,
             "#46039f"
            ],
            [
             0.2222222222222222,
             "#7201a8"
            ],
            [
             0.3333333333333333,
             "#9c179e"
            ],
            [
             0.4444444444444444,
             "#bd3786"
            ],
            [
             0.5555555555555556,
             "#d8576b"
            ],
            [
             0.6666666666666666,
             "#ed7953"
            ],
            [
             0.7777777777777778,
             "#fb9f3a"
            ],
            [
             0.8888888888888888,
             "#fdca26"
            ],
            [
             1,
             "#f0f921"
            ]
           ],
           "sequentialminus": [
            [
             0,
             "#0d0887"
            ],
            [
             0.1111111111111111,
             "#46039f"
            ],
            [
             0.2222222222222222,
             "#7201a8"
            ],
            [
             0.3333333333333333,
             "#9c179e"
            ],
            [
             0.4444444444444444,
             "#bd3786"
            ],
            [
             0.5555555555555556,
             "#d8576b"
            ],
            [
             0.6666666666666666,
             "#ed7953"
            ],
            [
             0.7777777777777778,
             "#fb9f3a"
            ],
            [
             0.8888888888888888,
             "#fdca26"
            ],
            [
             1,
             "#f0f921"
            ]
           ]
          },
          "colorway": [
           "#636efa",
           "#EF553B",
           "#00cc96",
           "#ab63fa",
           "#FFA15A",
           "#19d3f3",
           "#FF6692",
           "#B6E880",
           "#FF97FF",
           "#FECB52"
          ],
          "font": {
           "color": "#2a3f5f"
          },
          "geo": {
           "bgcolor": "white",
           "lakecolor": "white",
           "landcolor": "#E5ECF6",
           "showlakes": true,
           "showland": true,
           "subunitcolor": "white"
          },
          "hoverlabel": {
           "align": "left"
          },
          "hovermode": "closest",
          "mapbox": {
           "style": "light"
          },
          "paper_bgcolor": "white",
          "plot_bgcolor": "#E5ECF6",
          "polar": {
           "angularaxis": {
            "gridcolor": "white",
            "linecolor": "white",
            "ticks": ""
           },
           "bgcolor": "#E5ECF6",
           "radialaxis": {
            "gridcolor": "white",
            "linecolor": "white",
            "ticks": ""
           }
          },
          "scene": {
           "xaxis": {
            "backgroundcolor": "#E5ECF6",
            "gridcolor": "white",
            "gridwidth": 2,
            "linecolor": "white",
            "showbackground": true,
            "ticks": "",
            "zerolinecolor": "white"
           },
           "yaxis": {
            "backgroundcolor": "#E5ECF6",
            "gridcolor": "white",
            "gridwidth": 2,
            "linecolor": "white",
            "showbackground": true,
            "ticks": "",
            "zerolinecolor": "white"
           },
           "zaxis": {
            "backgroundcolor": "#E5ECF6",
            "gridcolor": "white",
            "gridwidth": 2,
            "linecolor": "white",
            "showbackground": true,
            "ticks": "",
            "zerolinecolor": "white"
           }
          },
          "shapedefaults": {
           "line": {
            "color": "#2a3f5f"
           }
          },
          "ternary": {
           "aaxis": {
            "gridcolor": "white",
            "linecolor": "white",
            "ticks": ""
           },
           "baxis": {
            "gridcolor": "white",
            "linecolor": "white",
            "ticks": ""
           },
           "bgcolor": "#E5ECF6",
           "caxis": {
            "gridcolor": "white",
            "linecolor": "white",
            "ticks": ""
           }
          },
          "title": {
           "x": 0.05
          },
          "xaxis": {
           "automargin": true,
           "gridcolor": "white",
           "linecolor": "white",
           "ticks": "",
           "title": {
            "standoff": 15
           },
           "zerolinecolor": "white",
           "zerolinewidth": 2
          },
          "yaxis": {
           "automargin": true,
           "gridcolor": "white",
           "linecolor": "white",
           "ticks": "",
           "title": {
            "standoff": 15
           },
           "zerolinecolor": "white",
           "zerolinewidth": 2
          }
         }
        },
        "title": {
         "text": "Lending"
        },
        "xaxis": {
         "anchor": "y",
         "domain": [
          0,
          1
         ],
         "title": {
          "text": "protocol_name"
         }
        },
        "yaxis": {
         "anchor": "x",
         "domain": [
          0,
          1
         ],
         "title": {
          "text": "value"
         }
        }
       }
      }
     },
     "metadata": {},
     "output_type": "display_data"
    },
    {
     "name": "stdout",
     "output_type": "stream",
     "text": [
      "10 total protocols\n",
      "3 protocols cover 80% of total TVL\n",
      "5 protocols cover 90% of total TVL\n",
      "9 protocols cover 95% of total TVL\n"
     ]
    },
    {
     "data": {
      "application/vnd.plotly.v1+json": {
       "config": {
        "plotlyServerURL": "https://plotly.com"
       },
       "data": [
        {
         "alignmentgroup": "True",
         "hovertemplate": "variable=tvl_orig<br>protocol_name=%{x}<br>value=%{y}<extra></extra>",
         "legendgroup": "tvl_orig",
         "marker": {
          "color": "#636efa",
          "pattern": {
           "shape": ""
          }
         },
         "name": "tvl_orig",
         "offsetgroup": "tvl_orig",
         "orientation": "v",
         "showlegend": true,
         "textposition": "auto",
         "type": "bar",
         "x": [
          "Convex Finance",
          "Aura",
          "Coinwind",
          "Conic Finance",
          "Pendle",
          "Sushi BentoBox",
          "Concentrator",
          "StakeDAO",
          "Homora V2",
          "Tranchess Yield",
          "Tetu Earn",
          "GND Protocol",
          "Tokemak",
          "Vector Finance",
          "ParaSpace APE Staking",
          "BendDAO APE Staking",
          "Llama Airforce",
          "Asymetrix Protocol",
          "Magpie",
          "Solo Top",
          "Quarry",
          "Francium",
          "PlutusDAO",
          "Bella Protocol",
          "Belt Finance",
          "other"
         ],
         "xaxis": "x",
         "y": [
          3170395394.480654,
          522162703.5715391,
          209285482.53980047,
          116936476.37097657,
          94020756.05953108,
          74057515.5419236,
          62267087.50509592,
          61073828.609048896,
          57047601.896093376,
          50117939.515823096,
          39784728.89498033,
          31541598.45177032,
          31496982.09193393,
          28813972.24299692,
          27852169.71122749,
          22113715.892091427,
          22020191.001594555,
          18678314.34258678,
          18398501.76525852,
          17944645.597106874,
          14786708.675615177,
          14155744.783087462,
          13849616.57734114,
          13300200.62296738,
          13221676.041056354,
          null
         ],
         "yaxis": "y"
        },
        {
         "alignmentgroup": "True",
         "hovertemplate": "variable=tvl_forks<br>protocol_name=%{x}<br>value=%{y}<extra></extra>",
         "legendgroup": "tvl_forks",
         "marker": {
          "color": "#EF553B",
          "pattern": {
           "shape": ""
          }
         },
         "name": "tvl_forks",
         "offsetgroup": "tvl_forks",
         "orientation": "v",
         "showlegend": true,
         "textposition": "auto",
         "type": "bar",
         "x": [
          "Convex Finance",
          "Aura",
          "Coinwind",
          "Conic Finance",
          "Pendle",
          "Sushi BentoBox",
          "Concentrator",
          "StakeDAO",
          "Homora V2",
          "Tranchess Yield",
          "Tetu Earn",
          "GND Protocol",
          "Tokemak",
          "Vector Finance",
          "ParaSpace APE Staking",
          "BendDAO APE Staking",
          "Llama Airforce",
          "Asymetrix Protocol",
          "Magpie",
          "Solo Top",
          "Quarry",
          "Francium",
          "PlutusDAO",
          "Bella Protocol",
          "Belt Finance",
          "other"
         ],
         "xaxis": "x",
         "y": [
          1439091.9208538963,
          32483370.19709694,
          0,
          0,
          0,
          0,
          0,
          0,
          0,
          0,
          0,
          0,
          0,
          0,
          0,
          0,
          0,
          0,
          0,
          0,
          0,
          0,
          0,
          0,
          0,
          null
         ],
         "yaxis": "y"
        }
       ],
       "layout": {
        "barmode": "stack",
        "legend": {
         "title": {
          "text": "variable"
         },
         "tracegroupgap": 0
        },
        "shapes": [
         {
          "line": {
           "color": "green",
           "dash": "dash",
           "width": 3
          },
          "type": "line",
          "x0": 2.5,
          "x1": 2.5,
          "xref": "x",
          "y0": 0,
          "y1": 1,
          "yref": "y domain"
         },
         {
          "line": {
           "color": "orange",
           "dash": "dash",
           "width": 3
          },
          "type": "line",
          "x0": 11.5,
          "x1": 11.5,
          "xref": "x",
          "y0": 0,
          "y1": 1,
          "yref": "y domain"
         },
         {
          "line": {
           "color": "red",
           "dash": "dash",
           "width": 3
          },
          "type": "line",
          "x0": 24.5,
          "x1": 24.5,
          "xref": "x",
          "y0": 0,
          "y1": 1,
          "yref": "y domain"
         }
        ],
        "template": {
         "data": {
          "bar": [
           {
            "error_x": {
             "color": "#2a3f5f"
            },
            "error_y": {
             "color": "#2a3f5f"
            },
            "marker": {
             "line": {
              "color": "#E5ECF6",
              "width": 0.5
             },
             "pattern": {
              "fillmode": "overlay",
              "size": 10,
              "solidity": 0.2
             }
            },
            "type": "bar"
           }
          ],
          "barpolar": [
           {
            "marker": {
             "line": {
              "color": "#E5ECF6",
              "width": 0.5
             },
             "pattern": {
              "fillmode": "overlay",
              "size": 10,
              "solidity": 0.2
             }
            },
            "type": "barpolar"
           }
          ],
          "carpet": [
           {
            "aaxis": {
             "endlinecolor": "#2a3f5f",
             "gridcolor": "white",
             "linecolor": "white",
             "minorgridcolor": "white",
             "startlinecolor": "#2a3f5f"
            },
            "baxis": {
             "endlinecolor": "#2a3f5f",
             "gridcolor": "white",
             "linecolor": "white",
             "minorgridcolor": "white",
             "startlinecolor": "#2a3f5f"
            },
            "type": "carpet"
           }
          ],
          "choropleth": [
           {
            "colorbar": {
             "outlinewidth": 0,
             "ticks": ""
            },
            "type": "choropleth"
           }
          ],
          "contour": [
           {
            "colorbar": {
             "outlinewidth": 0,
             "ticks": ""
            },
            "colorscale": [
             [
              0,
              "#0d0887"
             ],
             [
              0.1111111111111111,
              "#46039f"
             ],
             [
              0.2222222222222222,
              "#7201a8"
             ],
             [
              0.3333333333333333,
              "#9c179e"
             ],
             [
              0.4444444444444444,
              "#bd3786"
             ],
             [
              0.5555555555555556,
              "#d8576b"
             ],
             [
              0.6666666666666666,
              "#ed7953"
             ],
             [
              0.7777777777777778,
              "#fb9f3a"
             ],
             [
              0.8888888888888888,
              "#fdca26"
             ],
             [
              1,
              "#f0f921"
             ]
            ],
            "type": "contour"
           }
          ],
          "contourcarpet": [
           {
            "colorbar": {
             "outlinewidth": 0,
             "ticks": ""
            },
            "type": "contourcarpet"
           }
          ],
          "heatmap": [
           {
            "colorbar": {
             "outlinewidth": 0,
             "ticks": ""
            },
            "colorscale": [
             [
              0,
              "#0d0887"
             ],
             [
              0.1111111111111111,
              "#46039f"
             ],
             [
              0.2222222222222222,
              "#7201a8"
             ],
             [
              0.3333333333333333,
              "#9c179e"
             ],
             [
              0.4444444444444444,
              "#bd3786"
             ],
             [
              0.5555555555555556,
              "#d8576b"
             ],
             [
              0.6666666666666666,
              "#ed7953"
             ],
             [
              0.7777777777777778,
              "#fb9f3a"
             ],
             [
              0.8888888888888888,
              "#fdca26"
             ],
             [
              1,
              "#f0f921"
             ]
            ],
            "type": "heatmap"
           }
          ],
          "heatmapgl": [
           {
            "colorbar": {
             "outlinewidth": 0,
             "ticks": ""
            },
            "colorscale": [
             [
              0,
              "#0d0887"
             ],
             [
              0.1111111111111111,
              "#46039f"
             ],
             [
              0.2222222222222222,
              "#7201a8"
             ],
             [
              0.3333333333333333,
              "#9c179e"
             ],
             [
              0.4444444444444444,
              "#bd3786"
             ],
             [
              0.5555555555555556,
              "#d8576b"
             ],
             [
              0.6666666666666666,
              "#ed7953"
             ],
             [
              0.7777777777777778,
              "#fb9f3a"
             ],
             [
              0.8888888888888888,
              "#fdca26"
             ],
             [
              1,
              "#f0f921"
             ]
            ],
            "type": "heatmapgl"
           }
          ],
          "histogram": [
           {
            "marker": {
             "pattern": {
              "fillmode": "overlay",
              "size": 10,
              "solidity": 0.2
             }
            },
            "type": "histogram"
           }
          ],
          "histogram2d": [
           {
            "colorbar": {
             "outlinewidth": 0,
             "ticks": ""
            },
            "colorscale": [
             [
              0,
              "#0d0887"
             ],
             [
              0.1111111111111111,
              "#46039f"
             ],
             [
              0.2222222222222222,
              "#7201a8"
             ],
             [
              0.3333333333333333,
              "#9c179e"
             ],
             [
              0.4444444444444444,
              "#bd3786"
             ],
             [
              0.5555555555555556,
              "#d8576b"
             ],
             [
              0.6666666666666666,
              "#ed7953"
             ],
             [
              0.7777777777777778,
              "#fb9f3a"
             ],
             [
              0.8888888888888888,
              "#fdca26"
             ],
             [
              1,
              "#f0f921"
             ]
            ],
            "type": "histogram2d"
           }
          ],
          "histogram2dcontour": [
           {
            "colorbar": {
             "outlinewidth": 0,
             "ticks": ""
            },
            "colorscale": [
             [
              0,
              "#0d0887"
             ],
             [
              0.1111111111111111,
              "#46039f"
             ],
             [
              0.2222222222222222,
              "#7201a8"
             ],
             [
              0.3333333333333333,
              "#9c179e"
             ],
             [
              0.4444444444444444,
              "#bd3786"
             ],
             [
              0.5555555555555556,
              "#d8576b"
             ],
             [
              0.6666666666666666,
              "#ed7953"
             ],
             [
              0.7777777777777778,
              "#fb9f3a"
             ],
             [
              0.8888888888888888,
              "#fdca26"
             ],
             [
              1,
              "#f0f921"
             ]
            ],
            "type": "histogram2dcontour"
           }
          ],
          "mesh3d": [
           {
            "colorbar": {
             "outlinewidth": 0,
             "ticks": ""
            },
            "type": "mesh3d"
           }
          ],
          "parcoords": [
           {
            "line": {
             "colorbar": {
              "outlinewidth": 0,
              "ticks": ""
             }
            },
            "type": "parcoords"
           }
          ],
          "pie": [
           {
            "automargin": true,
            "type": "pie"
           }
          ],
          "scatter": [
           {
            "fillpattern": {
             "fillmode": "overlay",
             "size": 10,
             "solidity": 0.2
            },
            "type": "scatter"
           }
          ],
          "scatter3d": [
           {
            "line": {
             "colorbar": {
              "outlinewidth": 0,
              "ticks": ""
             }
            },
            "marker": {
             "colorbar": {
              "outlinewidth": 0,
              "ticks": ""
             }
            },
            "type": "scatter3d"
           }
          ],
          "scattercarpet": [
           {
            "marker": {
             "colorbar": {
              "outlinewidth": 0,
              "ticks": ""
             }
            },
            "type": "scattercarpet"
           }
          ],
          "scattergeo": [
           {
            "marker": {
             "colorbar": {
              "outlinewidth": 0,
              "ticks": ""
             }
            },
            "type": "scattergeo"
           }
          ],
          "scattergl": [
           {
            "marker": {
             "colorbar": {
              "outlinewidth": 0,
              "ticks": ""
             }
            },
            "type": "scattergl"
           }
          ],
          "scattermapbox": [
           {
            "marker": {
             "colorbar": {
              "outlinewidth": 0,
              "ticks": ""
             }
            },
            "type": "scattermapbox"
           }
          ],
          "scatterpolar": [
           {
            "marker": {
             "colorbar": {
              "outlinewidth": 0,
              "ticks": ""
             }
            },
            "type": "scatterpolar"
           }
          ],
          "scatterpolargl": [
           {
            "marker": {
             "colorbar": {
              "outlinewidth": 0,
              "ticks": ""
             }
            },
            "type": "scatterpolargl"
           }
          ],
          "scatterternary": [
           {
            "marker": {
             "colorbar": {
              "outlinewidth": 0,
              "ticks": ""
             }
            },
            "type": "scatterternary"
           }
          ],
          "surface": [
           {
            "colorbar": {
             "outlinewidth": 0,
             "ticks": ""
            },
            "colorscale": [
             [
              0,
              "#0d0887"
             ],
             [
              0.1111111111111111,
              "#46039f"
             ],
             [
              0.2222222222222222,
              "#7201a8"
             ],
             [
              0.3333333333333333,
              "#9c179e"
             ],
             [
              0.4444444444444444,
              "#bd3786"
             ],
             [
              0.5555555555555556,
              "#d8576b"
             ],
             [
              0.6666666666666666,
              "#ed7953"
             ],
             [
              0.7777777777777778,
              "#fb9f3a"
             ],
             [
              0.8888888888888888,
              "#fdca26"
             ],
             [
              1,
              "#f0f921"
             ]
            ],
            "type": "surface"
           }
          ],
          "table": [
           {
            "cells": {
             "fill": {
              "color": "#EBF0F8"
             },
             "line": {
              "color": "white"
             }
            },
            "header": {
             "fill": {
              "color": "#C8D4E3"
             },
             "line": {
              "color": "white"
             }
            },
            "type": "table"
           }
          ]
         },
         "layout": {
          "annotationdefaults": {
           "arrowcolor": "#2a3f5f",
           "arrowhead": 0,
           "arrowwidth": 1
          },
          "autotypenumbers": "strict",
          "coloraxis": {
           "colorbar": {
            "outlinewidth": 0,
            "ticks": ""
           }
          },
          "colorscale": {
           "diverging": [
            [
             0,
             "#8e0152"
            ],
            [
             0.1,
             "#c51b7d"
            ],
            [
             0.2,
             "#de77ae"
            ],
            [
             0.3,
             "#f1b6da"
            ],
            [
             0.4,
             "#fde0ef"
            ],
            [
             0.5,
             "#f7f7f7"
            ],
            [
             0.6,
             "#e6f5d0"
            ],
            [
             0.7,
             "#b8e186"
            ],
            [
             0.8,
             "#7fbc41"
            ],
            [
             0.9,
             "#4d9221"
            ],
            [
             1,
             "#276419"
            ]
           ],
           "sequential": [
            [
             0,
             "#0d0887"
            ],
            [
             0.1111111111111111,
             "#46039f"
            ],
            [
             0.2222222222222222,
             "#7201a8"
            ],
            [
             0.3333333333333333,
             "#9c179e"
            ],
            [
             0.4444444444444444,
             "#bd3786"
            ],
            [
             0.5555555555555556,
             "#d8576b"
            ],
            [
             0.6666666666666666,
             "#ed7953"
            ],
            [
             0.7777777777777778,
             "#fb9f3a"
            ],
            [
             0.8888888888888888,
             "#fdca26"
            ],
            [
             1,
             "#f0f921"
            ]
           ],
           "sequentialminus": [
            [
             0,
             "#0d0887"
            ],
            [
             0.1111111111111111,
             "#46039f"
            ],
            [
             0.2222222222222222,
             "#7201a8"
            ],
            [
             0.3333333333333333,
             "#9c179e"
            ],
            [
             0.4444444444444444,
             "#bd3786"
            ],
            [
             0.5555555555555556,
             "#d8576b"
            ],
            [
             0.6666666666666666,
             "#ed7953"
            ],
            [
             0.7777777777777778,
             "#fb9f3a"
            ],
            [
             0.8888888888888888,
             "#fdca26"
            ],
            [
             1,
             "#f0f921"
            ]
           ]
          },
          "colorway": [
           "#636efa",
           "#EF553B",
           "#00cc96",
           "#ab63fa",
           "#FFA15A",
           "#19d3f3",
           "#FF6692",
           "#B6E880",
           "#FF97FF",
           "#FECB52"
          ],
          "font": {
           "color": "#2a3f5f"
          },
          "geo": {
           "bgcolor": "white",
           "lakecolor": "white",
           "landcolor": "#E5ECF6",
           "showlakes": true,
           "showland": true,
           "subunitcolor": "white"
          },
          "hoverlabel": {
           "align": "left"
          },
          "hovermode": "closest",
          "mapbox": {
           "style": "light"
          },
          "paper_bgcolor": "white",
          "plot_bgcolor": "#E5ECF6",
          "polar": {
           "angularaxis": {
            "gridcolor": "white",
            "linecolor": "white",
            "ticks": ""
           },
           "bgcolor": "#E5ECF6",
           "radialaxis": {
            "gridcolor": "white",
            "linecolor": "white",
            "ticks": ""
           }
          },
          "scene": {
           "xaxis": {
            "backgroundcolor": "#E5ECF6",
            "gridcolor": "white",
            "gridwidth": 2,
            "linecolor": "white",
            "showbackground": true,
            "ticks": "",
            "zerolinecolor": "white"
           },
           "yaxis": {
            "backgroundcolor": "#E5ECF6",
            "gridcolor": "white",
            "gridwidth": 2,
            "linecolor": "white",
            "showbackground": true,
            "ticks": "",
            "zerolinecolor": "white"
           },
           "zaxis": {
            "backgroundcolor": "#E5ECF6",
            "gridcolor": "white",
            "gridwidth": 2,
            "linecolor": "white",
            "showbackground": true,
            "ticks": "",
            "zerolinecolor": "white"
           }
          },
          "shapedefaults": {
           "line": {
            "color": "#2a3f5f"
           }
          },
          "ternary": {
           "aaxis": {
            "gridcolor": "white",
            "linecolor": "white",
            "ticks": ""
           },
           "baxis": {
            "gridcolor": "white",
            "linecolor": "white",
            "ticks": ""
           },
           "bgcolor": "#E5ECF6",
           "caxis": {
            "gridcolor": "white",
            "linecolor": "white",
            "ticks": ""
           }
          },
          "title": {
           "x": 0.05
          },
          "xaxis": {
           "automargin": true,
           "gridcolor": "white",
           "linecolor": "white",
           "ticks": "",
           "title": {
            "standoff": 15
           },
           "zerolinecolor": "white",
           "zerolinewidth": 2
          },
          "yaxis": {
           "automargin": true,
           "gridcolor": "white",
           "linecolor": "white",
           "ticks": "",
           "title": {
            "standoff": 15
           },
           "zerolinecolor": "white",
           "zerolinewidth": 2
          }
         }
        },
        "title": {
         "text": "Yield"
        },
        "xaxis": {
         "anchor": "y",
         "domain": [
          0,
          1
         ],
         "title": {
          "text": "protocol_name"
         }
        },
        "yaxis": {
         "anchor": "x",
         "domain": [
          0,
          1
         ],
         "title": {
          "text": "value"
         }
        }
       }
      }
     },
     "metadata": {},
     "output_type": "display_data"
    },
    {
     "name": "stdout",
     "output_type": "stream",
     "text": [
      "26 total protocols\n",
      "3 protocols cover 80% of total TVL\n",
      "12 protocols cover 90% of total TVL\n",
      "25 protocols cover 95% of total TVL\n"
     ]
    },
    {
     "data": {
      "application/vnd.plotly.v1+json": {
       "config": {
        "plotlyServerURL": "https://plotly.com"
       },
       "data": [
        {
         "alignmentgroup": "True",
         "hovertemplate": "variable=tvl_orig<br>protocol_name=%{x}<br>value=%{y}<extra></extra>",
         "legendgroup": "tvl_orig",
         "marker": {
          "color": "#636efa",
          "pattern": {
           "shape": ""
          }
         },
         "name": "tvl_orig",
         "offsetgroup": "tvl_orig",
         "orientation": "v",
         "showlegend": true,
         "textposition": "auto",
         "type": "bar",
         "x": [
          "GMX",
          "dYdX",
          "Gains Network",
          "ApolloX",
          "MUX Protocol",
          "Level Finance",
          "Keep3r Network",
          "ApeX Protocol",
          "IPOR",
          "Perpetual Protocol",
          "Pika Protocol",
          "NestFi",
          "Opyn Squeeth",
          "Drift",
          "other"
         ],
         "xaxis": "x",
         "y": [
          579224554.077512,
          350192950.31658727,
          55528917.67846841,
          41378002.00805129,
          37135032.80980647,
          29383704.12627533,
          26559842.67973628,
          25946816.602122,
          20751434.7461325,
          20582873.48809696,
          15391891.571792,
          13271651.589883894,
          12065522.151666988,
          8280907.98509367,
          null
         ],
         "yaxis": "y"
        },
        {
         "alignmentgroup": "True",
         "hovertemplate": "variable=tvl_forks<br>protocol_name=%{x}<br>value=%{y}<extra></extra>",
         "legendgroup": "tvl_forks",
         "marker": {
          "color": "#EF553B",
          "pattern": {
           "shape": ""
          }
         },
         "name": "tvl_forks",
         "offsetgroup": "tvl_forks",
         "orientation": "v",
         "showlegend": true,
         "textposition": "auto",
         "type": "bar",
         "x": [
          "GMX",
          "dYdX",
          "Gains Network",
          "ApolloX",
          "MUX Protocol",
          "Level Finance",
          "Keep3r Network",
          "ApeX Protocol",
          "IPOR",
          "Perpetual Protocol",
          "Pika Protocol",
          "NestFi",
          "Opyn Squeeth",
          "Drift",
          "other"
         ],
         "xaxis": "x",
         "y": [
          37624174.25938159,
          0,
          111402.977902,
          0,
          0,
          0,
          0,
          0,
          0,
          0,
          0,
          0,
          0,
          0,
          null
         ],
         "yaxis": "y"
        }
       ],
       "layout": {
        "barmode": "stack",
        "legend": {
         "title": {
          "text": "variable"
         },
         "tracegroupgap": 0
        },
        "shapes": [
         {
          "line": {
           "color": "green",
           "dash": "dash",
           "width": 3
          },
          "type": "line",
          "x0": 3.5,
          "x1": 3.5,
          "xref": "x",
          "y0": 0,
          "y1": 1,
          "yref": "y domain"
         },
         {
          "line": {
           "color": "orange",
           "dash": "dash",
           "width": 3
          },
          "type": "line",
          "x0": 8.5,
          "x1": 8.5,
          "xref": "x",
          "y0": 0,
          "y1": 1,
          "yref": "y domain"
         },
         {
          "line": {
           "color": "red",
           "dash": "dash",
           "width": 3
          },
          "type": "line",
          "x0": 13.5,
          "x1": 13.5,
          "xref": "x",
          "y0": 0,
          "y1": 1,
          "yref": "y domain"
         }
        ],
        "template": {
         "data": {
          "bar": [
           {
            "error_x": {
             "color": "#2a3f5f"
            },
            "error_y": {
             "color": "#2a3f5f"
            },
            "marker": {
             "line": {
              "color": "#E5ECF6",
              "width": 0.5
             },
             "pattern": {
              "fillmode": "overlay",
              "size": 10,
              "solidity": 0.2
             }
            },
            "type": "bar"
           }
          ],
          "barpolar": [
           {
            "marker": {
             "line": {
              "color": "#E5ECF6",
              "width": 0.5
             },
             "pattern": {
              "fillmode": "overlay",
              "size": 10,
              "solidity": 0.2
             }
            },
            "type": "barpolar"
           }
          ],
          "carpet": [
           {
            "aaxis": {
             "endlinecolor": "#2a3f5f",
             "gridcolor": "white",
             "linecolor": "white",
             "minorgridcolor": "white",
             "startlinecolor": "#2a3f5f"
            },
            "baxis": {
             "endlinecolor": "#2a3f5f",
             "gridcolor": "white",
             "linecolor": "white",
             "minorgridcolor": "white",
             "startlinecolor": "#2a3f5f"
            },
            "type": "carpet"
           }
          ],
          "choropleth": [
           {
            "colorbar": {
             "outlinewidth": 0,
             "ticks": ""
            },
            "type": "choropleth"
           }
          ],
          "contour": [
           {
            "colorbar": {
             "outlinewidth": 0,
             "ticks": ""
            },
            "colorscale": [
             [
              0,
              "#0d0887"
             ],
             [
              0.1111111111111111,
              "#46039f"
             ],
             [
              0.2222222222222222,
              "#7201a8"
             ],
             [
              0.3333333333333333,
              "#9c179e"
             ],
             [
              0.4444444444444444,
              "#bd3786"
             ],
             [
              0.5555555555555556,
              "#d8576b"
             ],
             [
              0.6666666666666666,
              "#ed7953"
             ],
             [
              0.7777777777777778,
              "#fb9f3a"
             ],
             [
              0.8888888888888888,
              "#fdca26"
             ],
             [
              1,
              "#f0f921"
             ]
            ],
            "type": "contour"
           }
          ],
          "contourcarpet": [
           {
            "colorbar": {
             "outlinewidth": 0,
             "ticks": ""
            },
            "type": "contourcarpet"
           }
          ],
          "heatmap": [
           {
            "colorbar": {
             "outlinewidth": 0,
             "ticks": ""
            },
            "colorscale": [
             [
              0,
              "#0d0887"
             ],
             [
              0.1111111111111111,
              "#46039f"
             ],
             [
              0.2222222222222222,
              "#7201a8"
             ],
             [
              0.3333333333333333,
              "#9c179e"
             ],
             [
              0.4444444444444444,
              "#bd3786"
             ],
             [
              0.5555555555555556,
              "#d8576b"
             ],
             [
              0.6666666666666666,
              "#ed7953"
             ],
             [
              0.7777777777777778,
              "#fb9f3a"
             ],
             [
              0.8888888888888888,
              "#fdca26"
             ],
             [
              1,
              "#f0f921"
             ]
            ],
            "type": "heatmap"
           }
          ],
          "heatmapgl": [
           {
            "colorbar": {
             "outlinewidth": 0,
             "ticks": ""
            },
            "colorscale": [
             [
              0,
              "#0d0887"
             ],
             [
              0.1111111111111111,
              "#46039f"
             ],
             [
              0.2222222222222222,
              "#7201a8"
             ],
             [
              0.3333333333333333,
              "#9c179e"
             ],
             [
              0.4444444444444444,
              "#bd3786"
             ],
             [
              0.5555555555555556,
              "#d8576b"
             ],
             [
              0.6666666666666666,
              "#ed7953"
             ],
             [
              0.7777777777777778,
              "#fb9f3a"
             ],
             [
              0.8888888888888888,
              "#fdca26"
             ],
             [
              1,
              "#f0f921"
             ]
            ],
            "type": "heatmapgl"
           }
          ],
          "histogram": [
           {
            "marker": {
             "pattern": {
              "fillmode": "overlay",
              "size": 10,
              "solidity": 0.2
             }
            },
            "type": "histogram"
           }
          ],
          "histogram2d": [
           {
            "colorbar": {
             "outlinewidth": 0,
             "ticks": ""
            },
            "colorscale": [
             [
              0,
              "#0d0887"
             ],
             [
              0.1111111111111111,
              "#46039f"
             ],
             [
              0.2222222222222222,
              "#7201a8"
             ],
             [
              0.3333333333333333,
              "#9c179e"
             ],
             [
              0.4444444444444444,
              "#bd3786"
             ],
             [
              0.5555555555555556,
              "#d8576b"
             ],
             [
              0.6666666666666666,
              "#ed7953"
             ],
             [
              0.7777777777777778,
              "#fb9f3a"
             ],
             [
              0.8888888888888888,
              "#fdca26"
             ],
             [
              1,
              "#f0f921"
             ]
            ],
            "type": "histogram2d"
           }
          ],
          "histogram2dcontour": [
           {
            "colorbar": {
             "outlinewidth": 0,
             "ticks": ""
            },
            "colorscale": [
             [
              0,
              "#0d0887"
             ],
             [
              0.1111111111111111,
              "#46039f"
             ],
             [
              0.2222222222222222,
              "#7201a8"
             ],
             [
              0.3333333333333333,
              "#9c179e"
             ],
             [
              0.4444444444444444,
              "#bd3786"
             ],
             [
              0.5555555555555556,
              "#d8576b"
             ],
             [
              0.6666666666666666,
              "#ed7953"
             ],
             [
              0.7777777777777778,
              "#fb9f3a"
             ],
             [
              0.8888888888888888,
              "#fdca26"
             ],
             [
              1,
              "#f0f921"
             ]
            ],
            "type": "histogram2dcontour"
           }
          ],
          "mesh3d": [
           {
            "colorbar": {
             "outlinewidth": 0,
             "ticks": ""
            },
            "type": "mesh3d"
           }
          ],
          "parcoords": [
           {
            "line": {
             "colorbar": {
              "outlinewidth": 0,
              "ticks": ""
             }
            },
            "type": "parcoords"
           }
          ],
          "pie": [
           {
            "automargin": true,
            "type": "pie"
           }
          ],
          "scatter": [
           {
            "fillpattern": {
             "fillmode": "overlay",
             "size": 10,
             "solidity": 0.2
            },
            "type": "scatter"
           }
          ],
          "scatter3d": [
           {
            "line": {
             "colorbar": {
              "outlinewidth": 0,
              "ticks": ""
             }
            },
            "marker": {
             "colorbar": {
              "outlinewidth": 0,
              "ticks": ""
             }
            },
            "type": "scatter3d"
           }
          ],
          "scattercarpet": [
           {
            "marker": {
             "colorbar": {
              "outlinewidth": 0,
              "ticks": ""
             }
            },
            "type": "scattercarpet"
           }
          ],
          "scattergeo": [
           {
            "marker": {
             "colorbar": {
              "outlinewidth": 0,
              "ticks": ""
             }
            },
            "type": "scattergeo"
           }
          ],
          "scattergl": [
           {
            "marker": {
             "colorbar": {
              "outlinewidth": 0,
              "ticks": ""
             }
            },
            "type": "scattergl"
           }
          ],
          "scattermapbox": [
           {
            "marker": {
             "colorbar": {
              "outlinewidth": 0,
              "ticks": ""
             }
            },
            "type": "scattermapbox"
           }
          ],
          "scatterpolar": [
           {
            "marker": {
             "colorbar": {
              "outlinewidth": 0,
              "ticks": ""
             }
            },
            "type": "scatterpolar"
           }
          ],
          "scatterpolargl": [
           {
            "marker": {
             "colorbar": {
              "outlinewidth": 0,
              "ticks": ""
             }
            },
            "type": "scatterpolargl"
           }
          ],
          "scatterternary": [
           {
            "marker": {
             "colorbar": {
              "outlinewidth": 0,
              "ticks": ""
             }
            },
            "type": "scatterternary"
           }
          ],
          "surface": [
           {
            "colorbar": {
             "outlinewidth": 0,
             "ticks": ""
            },
            "colorscale": [
             [
              0,
              "#0d0887"
             ],
             [
              0.1111111111111111,
              "#46039f"
             ],
             [
              0.2222222222222222,
              "#7201a8"
             ],
             [
              0.3333333333333333,
              "#9c179e"
             ],
             [
              0.4444444444444444,
              "#bd3786"
             ],
             [
              0.5555555555555556,
              "#d8576b"
             ],
             [
              0.6666666666666666,
              "#ed7953"
             ],
             [
              0.7777777777777778,
              "#fb9f3a"
             ],
             [
              0.8888888888888888,
              "#fdca26"
             ],
             [
              1,
              "#f0f921"
             ]
            ],
            "type": "surface"
           }
          ],
          "table": [
           {
            "cells": {
             "fill": {
              "color": "#EBF0F8"
             },
             "line": {
              "color": "white"
             }
            },
            "header": {
             "fill": {
              "color": "#C8D4E3"
             },
             "line": {
              "color": "white"
             }
            },
            "type": "table"
           }
          ]
         },
         "layout": {
          "annotationdefaults": {
           "arrowcolor": "#2a3f5f",
           "arrowhead": 0,
           "arrowwidth": 1
          },
          "autotypenumbers": "strict",
          "coloraxis": {
           "colorbar": {
            "outlinewidth": 0,
            "ticks": ""
           }
          },
          "colorscale": {
           "diverging": [
            [
             0,
             "#8e0152"
            ],
            [
             0.1,
             "#c51b7d"
            ],
            [
             0.2,
             "#de77ae"
            ],
            [
             0.3,
             "#f1b6da"
            ],
            [
             0.4,
             "#fde0ef"
            ],
            [
             0.5,
             "#f7f7f7"
            ],
            [
             0.6,
             "#e6f5d0"
            ],
            [
             0.7,
             "#b8e186"
            ],
            [
             0.8,
             "#7fbc41"
            ],
            [
             0.9,
             "#4d9221"
            ],
            [
             1,
             "#276419"
            ]
           ],
           "sequential": [
            [
             0,
             "#0d0887"
            ],
            [
             0.1111111111111111,
             "#46039f"
            ],
            [
             0.2222222222222222,
             "#7201a8"
            ],
            [
             0.3333333333333333,
             "#9c179e"
            ],
            [
             0.4444444444444444,
             "#bd3786"
            ],
            [
             0.5555555555555556,
             "#d8576b"
            ],
            [
             0.6666666666666666,
             "#ed7953"
            ],
            [
             0.7777777777777778,
             "#fb9f3a"
            ],
            [
             0.8888888888888888,
             "#fdca26"
            ],
            [
             1,
             "#f0f921"
            ]
           ],
           "sequentialminus": [
            [
             0,
             "#0d0887"
            ],
            [
             0.1111111111111111,
             "#46039f"
            ],
            [
             0.2222222222222222,
             "#7201a8"
            ],
            [
             0.3333333333333333,
             "#9c179e"
            ],
            [
             0.4444444444444444,
             "#bd3786"
            ],
            [
             0.5555555555555556,
             "#d8576b"
            ],
            [
             0.6666666666666666,
             "#ed7953"
            ],
            [
             0.7777777777777778,
             "#fb9f3a"
            ],
            [
             0.8888888888888888,
             "#fdca26"
            ],
            [
             1,
             "#f0f921"
            ]
           ]
          },
          "colorway": [
           "#636efa",
           "#EF553B",
           "#00cc96",
           "#ab63fa",
           "#FFA15A",
           "#19d3f3",
           "#FF6692",
           "#B6E880",
           "#FF97FF",
           "#FECB52"
          ],
          "font": {
           "color": "#2a3f5f"
          },
          "geo": {
           "bgcolor": "white",
           "lakecolor": "white",
           "landcolor": "#E5ECF6",
           "showlakes": true,
           "showland": true,
           "subunitcolor": "white"
          },
          "hoverlabel": {
           "align": "left"
          },
          "hovermode": "closest",
          "mapbox": {
           "style": "light"
          },
          "paper_bgcolor": "white",
          "plot_bgcolor": "#E5ECF6",
          "polar": {
           "angularaxis": {
            "gridcolor": "white",
            "linecolor": "white",
            "ticks": ""
           },
           "bgcolor": "#E5ECF6",
           "radialaxis": {
            "gridcolor": "white",
            "linecolor": "white",
            "ticks": ""
           }
          },
          "scene": {
           "xaxis": {
            "backgroundcolor": "#E5ECF6",
            "gridcolor": "white",
            "gridwidth": 2,
            "linecolor": "white",
            "showbackground": true,
            "ticks": "",
            "zerolinecolor": "white"
           },
           "yaxis": {
            "backgroundcolor": "#E5ECF6",
            "gridcolor": "white",
            "gridwidth": 2,
            "linecolor": "white",
            "showbackground": true,
            "ticks": "",
            "zerolinecolor": "white"
           },
           "zaxis": {
            "backgroundcolor": "#E5ECF6",
            "gridcolor": "white",
            "gridwidth": 2,
            "linecolor": "white",
            "showbackground": true,
            "ticks": "",
            "zerolinecolor": "white"
           }
          },
          "shapedefaults": {
           "line": {
            "color": "#2a3f5f"
           }
          },
          "ternary": {
           "aaxis": {
            "gridcolor": "white",
            "linecolor": "white",
            "ticks": ""
           },
           "baxis": {
            "gridcolor": "white",
            "linecolor": "white",
            "ticks": ""
           },
           "bgcolor": "#E5ECF6",
           "caxis": {
            "gridcolor": "white",
            "linecolor": "white",
            "ticks": ""
           }
          },
          "title": {
           "x": 0.05
          },
          "xaxis": {
           "automargin": true,
           "gridcolor": "white",
           "linecolor": "white",
           "ticks": "",
           "title": {
            "standoff": 15
           },
           "zerolinecolor": "white",
           "zerolinewidth": 2
          },
          "yaxis": {
           "automargin": true,
           "gridcolor": "white",
           "linecolor": "white",
           "ticks": "",
           "title": {
            "standoff": 15
           },
           "zerolinecolor": "white",
           "zerolinewidth": 2
          }
         }
        },
        "title": {
         "text": "Derivatives"
        },
        "xaxis": {
         "anchor": "y",
         "domain": [
          0,
          1
         ],
         "title": {
          "text": "protocol_name"
         }
        },
        "yaxis": {
         "anchor": "x",
         "domain": [
          0,
          1
         ],
         "title": {
          "text": "value"
         }
        }
       }
      }
     },
     "metadata": {},
     "output_type": "display_data"
    },
    {
     "name": "stdout",
     "output_type": "stream",
     "text": [
      "15 total protocols\n",
      "4 protocols cover 80% of total TVL\n",
      "9 protocols cover 90% of total TVL\n",
      "14 protocols cover 95% of total TVL\n"
     ]
    },
    {
     "data": {
      "application/vnd.plotly.v1+json": {
       "config": {
        "plotlyServerURL": "https://plotly.com"
       },
       "data": [
        {
         "alignmentgroup": "True",
         "hovertemplate": "variable=tvl_orig<br>protocol_name=%{x}<br>value=%{y}<extra></extra>",
         "legendgroup": "tvl_orig",
         "marker": {
          "color": "#636efa",
          "pattern": {
           "shape": ""
          }
         },
         "name": "tvl_orig",
         "offsetgroup": "tvl_orig",
         "orientation": "v",
         "showlegend": true,
         "textposition": "auto",
         "type": "bar",
         "x": [
          "Yearn Finance",
          "Beefy",
          "Flamincome",
          "Kava Earn",
          "Idle",
          "Badger DAO",
          "Yield Yak Aggregator",
          "Origin Dollar",
          "ACryptoS",
          "Origin Ether",
          "Vesper",
          "LUSD ChickenBonds",
          "Sommelier",
          "Spool Protocol",
          "GMD Protocol",
          "Reaper Farm",
          "other"
         ],
         "xaxis": "x",
         "y": [
          460521941.9803801,
          283935276.9758484,
          60750510.89481078,
          58942779.35920191,
          38888289.06392147,
          37729239.56000001,
          29449615.62499893,
          27388547.88644359,
          26614792.828264046,
          23218549.01338685,
          19491660.121978983,
          16791936.617875073,
          14527106.551445344,
          13621009.499590265,
          12348605.125806604,
          10508090.47960072,
          null
         ],
         "yaxis": "y"
        },
        {
         "alignmentgroup": "True",
         "hovertemplate": "variable=tvl_forks<br>protocol_name=%{x}<br>value=%{y}<extra></extra>",
         "legendgroup": "tvl_forks",
         "marker": {
          "color": "#EF553B",
          "pattern": {
           "shape": ""
          }
         },
         "name": "tvl_forks",
         "offsetgroup": "tvl_forks",
         "orientation": "v",
         "showlegend": true,
         "textposition": "auto",
         "type": "bar",
         "x": [
          "Yearn Finance",
          "Beefy",
          "Flamincome",
          "Kava Earn",
          "Idle",
          "Badger DAO",
          "Yield Yak Aggregator",
          "Origin Dollar",
          "ACryptoS",
          "Origin Ether",
          "Vesper",
          "LUSD ChickenBonds",
          "Sommelier",
          "Spool Protocol",
          "GMD Protocol",
          "Reaper Farm",
          "other"
         ],
         "xaxis": "x",
         "y": [
          14142807.775938332,
          340603.10937532445,
          0,
          0,
          0,
          0,
          0,
          0,
          0,
          0,
          0,
          0,
          0,
          0,
          0,
          0.058997586814986,
          null
         ],
         "yaxis": "y"
        }
       ],
       "layout": {
        "barmode": "stack",
        "legend": {
         "title": {
          "text": "variable"
         },
         "tracegroupgap": 0
        },
        "shapes": [
         {
          "line": {
           "color": "green",
           "dash": "dash",
           "width": 3
          },
          "type": "line",
          "x0": 5.5,
          "x1": 5.5,
          "xref": "x",
          "y0": 0,
          "y1": 1,
          "yref": "y domain"
         },
         {
          "line": {
           "color": "orange",
           "dash": "dash",
           "width": 3
          },
          "type": "line",
          "x0": 10.5,
          "x1": 10.5,
          "xref": "x",
          "y0": 0,
          "y1": 1,
          "yref": "y domain"
         },
         {
          "line": {
           "color": "red",
           "dash": "dash",
           "width": 3
          },
          "type": "line",
          "x0": 15.5,
          "x1": 15.5,
          "xref": "x",
          "y0": 0,
          "y1": 1,
          "yref": "y domain"
         }
        ],
        "template": {
         "data": {
          "bar": [
           {
            "error_x": {
             "color": "#2a3f5f"
            },
            "error_y": {
             "color": "#2a3f5f"
            },
            "marker": {
             "line": {
              "color": "#E5ECF6",
              "width": 0.5
             },
             "pattern": {
              "fillmode": "overlay",
              "size": 10,
              "solidity": 0.2
             }
            },
            "type": "bar"
           }
          ],
          "barpolar": [
           {
            "marker": {
             "line": {
              "color": "#E5ECF6",
              "width": 0.5
             },
             "pattern": {
              "fillmode": "overlay",
              "size": 10,
              "solidity": 0.2
             }
            },
            "type": "barpolar"
           }
          ],
          "carpet": [
           {
            "aaxis": {
             "endlinecolor": "#2a3f5f",
             "gridcolor": "white",
             "linecolor": "white",
             "minorgridcolor": "white",
             "startlinecolor": "#2a3f5f"
            },
            "baxis": {
             "endlinecolor": "#2a3f5f",
             "gridcolor": "white",
             "linecolor": "white",
             "minorgridcolor": "white",
             "startlinecolor": "#2a3f5f"
            },
            "type": "carpet"
           }
          ],
          "choropleth": [
           {
            "colorbar": {
             "outlinewidth": 0,
             "ticks": ""
            },
            "type": "choropleth"
           }
          ],
          "contour": [
           {
            "colorbar": {
             "outlinewidth": 0,
             "ticks": ""
            },
            "colorscale": [
             [
              0,
              "#0d0887"
             ],
             [
              0.1111111111111111,
              "#46039f"
             ],
             [
              0.2222222222222222,
              "#7201a8"
             ],
             [
              0.3333333333333333,
              "#9c179e"
             ],
             [
              0.4444444444444444,
              "#bd3786"
             ],
             [
              0.5555555555555556,
              "#d8576b"
             ],
             [
              0.6666666666666666,
              "#ed7953"
             ],
             [
              0.7777777777777778,
              "#fb9f3a"
             ],
             [
              0.8888888888888888,
              "#fdca26"
             ],
             [
              1,
              "#f0f921"
             ]
            ],
            "type": "contour"
           }
          ],
          "contourcarpet": [
           {
            "colorbar": {
             "outlinewidth": 0,
             "ticks": ""
            },
            "type": "contourcarpet"
           }
          ],
          "heatmap": [
           {
            "colorbar": {
             "outlinewidth": 0,
             "ticks": ""
            },
            "colorscale": [
             [
              0,
              "#0d0887"
             ],
             [
              0.1111111111111111,
              "#46039f"
             ],
             [
              0.2222222222222222,
              "#7201a8"
             ],
             [
              0.3333333333333333,
              "#9c179e"
             ],
             [
              0.4444444444444444,
              "#bd3786"
             ],
             [
              0.5555555555555556,
              "#d8576b"
             ],
             [
              0.6666666666666666,
              "#ed7953"
             ],
             [
              0.7777777777777778,
              "#fb9f3a"
             ],
             [
              0.8888888888888888,
              "#fdca26"
             ],
             [
              1,
              "#f0f921"
             ]
            ],
            "type": "heatmap"
           }
          ],
          "heatmapgl": [
           {
            "colorbar": {
             "outlinewidth": 0,
             "ticks": ""
            },
            "colorscale": [
             [
              0,
              "#0d0887"
             ],
             [
              0.1111111111111111,
              "#46039f"
             ],
             [
              0.2222222222222222,
              "#7201a8"
             ],
             [
              0.3333333333333333,
              "#9c179e"
             ],
             [
              0.4444444444444444,
              "#bd3786"
             ],
             [
              0.5555555555555556,
              "#d8576b"
             ],
             [
              0.6666666666666666,
              "#ed7953"
             ],
             [
              0.7777777777777778,
              "#fb9f3a"
             ],
             [
              0.8888888888888888,
              "#fdca26"
             ],
             [
              1,
              "#f0f921"
             ]
            ],
            "type": "heatmapgl"
           }
          ],
          "histogram": [
           {
            "marker": {
             "pattern": {
              "fillmode": "overlay",
              "size": 10,
              "solidity": 0.2
             }
            },
            "type": "histogram"
           }
          ],
          "histogram2d": [
           {
            "colorbar": {
             "outlinewidth": 0,
             "ticks": ""
            },
            "colorscale": [
             [
              0,
              "#0d0887"
             ],
             [
              0.1111111111111111,
              "#46039f"
             ],
             [
              0.2222222222222222,
              "#7201a8"
             ],
             [
              0.3333333333333333,
              "#9c179e"
             ],
             [
              0.4444444444444444,
              "#bd3786"
             ],
             [
              0.5555555555555556,
              "#d8576b"
             ],
             [
              0.6666666666666666,
              "#ed7953"
             ],
             [
              0.7777777777777778,
              "#fb9f3a"
             ],
             [
              0.8888888888888888,
              "#fdca26"
             ],
             [
              1,
              "#f0f921"
             ]
            ],
            "type": "histogram2d"
           }
          ],
          "histogram2dcontour": [
           {
            "colorbar": {
             "outlinewidth": 0,
             "ticks": ""
            },
            "colorscale": [
             [
              0,
              "#0d0887"
             ],
             [
              0.1111111111111111,
              "#46039f"
             ],
             [
              0.2222222222222222,
              "#7201a8"
             ],
             [
              0.3333333333333333,
              "#9c179e"
             ],
             [
              0.4444444444444444,
              "#bd3786"
             ],
             [
              0.5555555555555556,
              "#d8576b"
             ],
             [
              0.6666666666666666,
              "#ed7953"
             ],
             [
              0.7777777777777778,
              "#fb9f3a"
             ],
             [
              0.8888888888888888,
              "#fdca26"
             ],
             [
              1,
              "#f0f921"
             ]
            ],
            "type": "histogram2dcontour"
           }
          ],
          "mesh3d": [
           {
            "colorbar": {
             "outlinewidth": 0,
             "ticks": ""
            },
            "type": "mesh3d"
           }
          ],
          "parcoords": [
           {
            "line": {
             "colorbar": {
              "outlinewidth": 0,
              "ticks": ""
             }
            },
            "type": "parcoords"
           }
          ],
          "pie": [
           {
            "automargin": true,
            "type": "pie"
           }
          ],
          "scatter": [
           {
            "fillpattern": {
             "fillmode": "overlay",
             "size": 10,
             "solidity": 0.2
            },
            "type": "scatter"
           }
          ],
          "scatter3d": [
           {
            "line": {
             "colorbar": {
              "outlinewidth": 0,
              "ticks": ""
             }
            },
            "marker": {
             "colorbar": {
              "outlinewidth": 0,
              "ticks": ""
             }
            },
            "type": "scatter3d"
           }
          ],
          "scattercarpet": [
           {
            "marker": {
             "colorbar": {
              "outlinewidth": 0,
              "ticks": ""
             }
            },
            "type": "scattercarpet"
           }
          ],
          "scattergeo": [
           {
            "marker": {
             "colorbar": {
              "outlinewidth": 0,
              "ticks": ""
             }
            },
            "type": "scattergeo"
           }
          ],
          "scattergl": [
           {
            "marker": {
             "colorbar": {
              "outlinewidth": 0,
              "ticks": ""
             }
            },
            "type": "scattergl"
           }
          ],
          "scattermapbox": [
           {
            "marker": {
             "colorbar": {
              "outlinewidth": 0,
              "ticks": ""
             }
            },
            "type": "scattermapbox"
           }
          ],
          "scatterpolar": [
           {
            "marker": {
             "colorbar": {
              "outlinewidth": 0,
              "ticks": ""
             }
            },
            "type": "scatterpolar"
           }
          ],
          "scatterpolargl": [
           {
            "marker": {
             "colorbar": {
              "outlinewidth": 0,
              "ticks": ""
             }
            },
            "type": "scatterpolargl"
           }
          ],
          "scatterternary": [
           {
            "marker": {
             "colorbar": {
              "outlinewidth": 0,
              "ticks": ""
             }
            },
            "type": "scatterternary"
           }
          ],
          "surface": [
           {
            "colorbar": {
             "outlinewidth": 0,
             "ticks": ""
            },
            "colorscale": [
             [
              0,
              "#0d0887"
             ],
             [
              0.1111111111111111,
              "#46039f"
             ],
             [
              0.2222222222222222,
              "#7201a8"
             ],
             [
              0.3333333333333333,
              "#9c179e"
             ],
             [
              0.4444444444444444,
              "#bd3786"
             ],
             [
              0.5555555555555556,
              "#d8576b"
             ],
             [
              0.6666666666666666,
              "#ed7953"
             ],
             [
              0.7777777777777778,
              "#fb9f3a"
             ],
             [
              0.8888888888888888,
              "#fdca26"
             ],
             [
              1,
              "#f0f921"
             ]
            ],
            "type": "surface"
           }
          ],
          "table": [
           {
            "cells": {
             "fill": {
              "color": "#EBF0F8"
             },
             "line": {
              "color": "white"
             }
            },
            "header": {
             "fill": {
              "color": "#C8D4E3"
             },
             "line": {
              "color": "white"
             }
            },
            "type": "table"
           }
          ]
         },
         "layout": {
          "annotationdefaults": {
           "arrowcolor": "#2a3f5f",
           "arrowhead": 0,
           "arrowwidth": 1
          },
          "autotypenumbers": "strict",
          "coloraxis": {
           "colorbar": {
            "outlinewidth": 0,
            "ticks": ""
           }
          },
          "colorscale": {
           "diverging": [
            [
             0,
             "#8e0152"
            ],
            [
             0.1,
             "#c51b7d"
            ],
            [
             0.2,
             "#de77ae"
            ],
            [
             0.3,
             "#f1b6da"
            ],
            [
             0.4,
             "#fde0ef"
            ],
            [
             0.5,
             "#f7f7f7"
            ],
            [
             0.6,
             "#e6f5d0"
            ],
            [
             0.7,
             "#b8e186"
            ],
            [
             0.8,
             "#7fbc41"
            ],
            [
             0.9,
             "#4d9221"
            ],
            [
             1,
             "#276419"
            ]
           ],
           "sequential": [
            [
             0,
             "#0d0887"
            ],
            [
             0.1111111111111111,
             "#46039f"
            ],
            [
             0.2222222222222222,
             "#7201a8"
            ],
            [
             0.3333333333333333,
             "#9c179e"
            ],
            [
             0.4444444444444444,
             "#bd3786"
            ],
            [
             0.5555555555555556,
             "#d8576b"
            ],
            [
             0.6666666666666666,
             "#ed7953"
            ],
            [
             0.7777777777777778,
             "#fb9f3a"
            ],
            [
             0.8888888888888888,
             "#fdca26"
            ],
            [
             1,
             "#f0f921"
            ]
           ],
           "sequentialminus": [
            [
             0,
             "#0d0887"
            ],
            [
             0.1111111111111111,
             "#46039f"
            ],
            [
             0.2222222222222222,
             "#7201a8"
            ],
            [
             0.3333333333333333,
             "#9c179e"
            ],
            [
             0.4444444444444444,
             "#bd3786"
            ],
            [
             0.5555555555555556,
             "#d8576b"
            ],
            [
             0.6666666666666666,
             "#ed7953"
            ],
            [
             0.7777777777777778,
             "#fb9f3a"
            ],
            [
             0.8888888888888888,
             "#fdca26"
            ],
            [
             1,
             "#f0f921"
            ]
           ]
          },
          "colorway": [
           "#636efa",
           "#EF553B",
           "#00cc96",
           "#ab63fa",
           "#FFA15A",
           "#19d3f3",
           "#FF6692",
           "#B6E880",
           "#FF97FF",
           "#FECB52"
          ],
          "font": {
           "color": "#2a3f5f"
          },
          "geo": {
           "bgcolor": "white",
           "lakecolor": "white",
           "landcolor": "#E5ECF6",
           "showlakes": true,
           "showland": true,
           "subunitcolor": "white"
          },
          "hoverlabel": {
           "align": "left"
          },
          "hovermode": "closest",
          "mapbox": {
           "style": "light"
          },
          "paper_bgcolor": "white",
          "plot_bgcolor": "#E5ECF6",
          "polar": {
           "angularaxis": {
            "gridcolor": "white",
            "linecolor": "white",
            "ticks": ""
           },
           "bgcolor": "#E5ECF6",
           "radialaxis": {
            "gridcolor": "white",
            "linecolor": "white",
            "ticks": ""
           }
          },
          "scene": {
           "xaxis": {
            "backgroundcolor": "#E5ECF6",
            "gridcolor": "white",
            "gridwidth": 2,
            "linecolor": "white",
            "showbackground": true,
            "ticks": "",
            "zerolinecolor": "white"
           },
           "yaxis": {
            "backgroundcolor": "#E5ECF6",
            "gridcolor": "white",
            "gridwidth": 2,
            "linecolor": "white",
            "showbackground": true,
            "ticks": "",
            "zerolinecolor": "white"
           },
           "zaxis": {
            "backgroundcolor": "#E5ECF6",
            "gridcolor": "white",
            "gridwidth": 2,
            "linecolor": "white",
            "showbackground": true,
            "ticks": "",
            "zerolinecolor": "white"
           }
          },
          "shapedefaults": {
           "line": {
            "color": "#2a3f5f"
           }
          },
          "ternary": {
           "aaxis": {
            "gridcolor": "white",
            "linecolor": "white",
            "ticks": ""
           },
           "baxis": {
            "gridcolor": "white",
            "linecolor": "white",
            "ticks": ""
           },
           "bgcolor": "#E5ECF6",
           "caxis": {
            "gridcolor": "white",
            "linecolor": "white",
            "ticks": ""
           }
          },
          "title": {
           "x": 0.05
          },
          "xaxis": {
           "automargin": true,
           "gridcolor": "white",
           "linecolor": "white",
           "ticks": "",
           "title": {
            "standoff": 15
           },
           "zerolinecolor": "white",
           "zerolinewidth": 2
          },
          "yaxis": {
           "automargin": true,
           "gridcolor": "white",
           "linecolor": "white",
           "ticks": "",
           "title": {
            "standoff": 15
           },
           "zerolinecolor": "white",
           "zerolinewidth": 2
          }
         }
        },
        "title": {
         "text": "Yield Aggregator"
        },
        "xaxis": {
         "anchor": "y",
         "domain": [
          0,
          1
         ],
         "title": {
          "text": "protocol_name"
         }
        },
        "yaxis": {
         "anchor": "x",
         "domain": [
          0,
          1
         ],
         "title": {
          "text": "value"
         }
        }
       }
      }
     },
     "metadata": {},
     "output_type": "display_data"
    },
    {
     "name": "stdout",
     "output_type": "stream",
     "text": [
      "17 total protocols\n",
      "6 protocols cover 80% of total TVL\n",
      "11 protocols cover 90% of total TVL\n",
      "16 protocols cover 95% of total TVL\n"
     ]
    }
   ],
   "source": [
    "import plotly.express as px\n",
    "\n",
    "# read in the data\n",
    "df = pd.read_csv('forks_by_protocol.csv')\n",
    "all_protocols = pd.read_csv('protocols_all_small.csv')\n",
    "\n",
    "# Filter to just the most interesting categories \n",
    "df = df[df['category'].isin(['Dexes', 'Lending', 'Yield', 'Derivatives', 'CDP', 'Yield Aggregator'])]\n",
    "\n",
    "# iterate over each category\n",
    "for category in df['category'].unique():\n",
    "    # filter the data for the category\n",
    "    category_data = df[df['category'] == category]\n",
    "    \n",
    "    # sort the data by total TVL in descending order\n",
    "    category_data = category_data.sort_values(by='total_tvl', ascending=False)\n",
    "    \n",
    "    # calculate the cumulative sum of total TVL\n",
    "    category_data['cumulative_tvl'] = category_data['total_tvl'].cumsum()\n",
    "    \n",
    "    # filter the protocols that cover up to 95% of total TVL\n",
    "    top_protocols = category_data[category_data['cumulative_tvl'] <= 0.95 * category_data['total_tvl'].sum()]\n",
    "    \n",
    "    # calculate the TVL of the \"other\" category\n",
    "    other_tvl = category_data[category_data['cumulative_tvl'] > 0.95 * category_data['total_tvl'].sum()]['total_tvl'].sum()\n",
    "    \n",
    "    # add the top protocols to the results DataFrame\n",
    "    results = pd.concat([top_protocols, pd.DataFrame({'protocol_name': ['other'], 'total_tvl': [other_tvl]})])\n",
    "    \n",
    "    # create a bar chart for the category, stacked bar for each protcol, stacks for tvl_orig and tvl_forks\n",
    "    fig = px.bar(results, x='protocol_name', y=['tvl_orig', 'tvl_forks'], title=category, barmode='stack')\n",
    "\n",
    "    # how many bars until we get past 90% of total TVL\n",
    "    num_bars_80 = len(results[results['cumulative_tvl'] <= 0.8 * results['total_tvl'].sum()])\n",
    "    num_bars_90 = len(results[results['cumulative_tvl'] <= 0.9 * results['total_tvl'].sum()])\n",
    "    num_bars_95 = len(results[results['cumulative_tvl'] <= 0.95 * results['total_tvl'].sum()])\n",
    "\n",
    "\n",
    "    # add a vertical line to the chart to show the 80, 90, 95% thresholds\n",
    "\n",
    "    fig.add_vline(x=num_bars_80 - 0.5, line_width=3, line_dash=\"dash\", line_color=\"green\")\n",
    "    fig.add_vline(x=num_bars_90 - 0.5, line_width=3, line_dash=\"dash\", line_color=\"orange\")\n",
    "    fig.add_vline(x=num_bars_95 - 0.5, line_width=3, line_dash=\"dash\", line_color=\"red\")    \n",
    "\n",
    "    # show the chart\n",
    "    fig.show()\n",
    "\n",
    "    # publish this chart on my plotly account so that it's publicly accessible\n",
    "\n",
    "\n",
    "    # sanity checks\n",
    "    #print ('results_tvl =' + str(results['total_tvl'].sum()/1000000))\n",
    "    #print(\"all protocols tvl = \" + str(all_protocols[all_protocols['category'] == category]['tvl'].sum()/1000000))   \n",
    "\n",
    "    # print summary stats\n",
    "    print (str(len(results)) + \" total protocols\")\n",
    "    print (str(num_bars_80) + \" protocols cover 80% of total TVL\")\n",
    "    print (str(num_bars_90) + \" protocols cover 90% of total TVL\")\n",
    "    print (str(num_bars_95) + \" protocols cover 95% of total TVL\")"
   ]
  },
  {
   "cell_type": "code",
   "execution_count": null,
   "metadata": {},
   "outputs": [],
   "source": [
    "# Possible data issues\n",
    "\n",
    "# why no kwenta, ribbon finance, etc.?  missing from Defillama\n",
    "# get the data live\n",
    "\n",
    "# TODOs\n",
    "# misses protocols that have forkedFrom but we don't have the orig protocol in our dataset\n",
    "    # - update orig_protocols to also include forkedFrom that are not in our dataset\n",
    "# this would miss nested protocols that are a fork of a fork, assuming orig protocol is not in forkedFrom - unlikely but possible\n",
    "\n",
    "\n",
    "\n",
    "# do by chain\n",
    "\n",
    "\n",
    "# which have subgraph available?\n",
    "\n",
    "\n"
   ]
  }
 ],
 "metadata": {
  "kernelspec": {
   "display_name": "Python 3",
   "language": "python",
   "name": "python3"
  },
  "language_info": {
   "codemirror_mode": {
    "name": "ipython",
    "version": 3
   },
   "file_extension": ".py",
   "mimetype": "text/x-python",
   "name": "python",
   "nbconvert_exporter": "python",
   "pygments_lexer": "ipython3",
   "version": "3.10.6"
  },
  "orig_nbformat": 4
 },
 "nbformat": 4,
 "nbformat_minor": 2
}
