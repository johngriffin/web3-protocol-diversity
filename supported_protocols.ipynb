{
 "cells": [
  {
   "cell_type": "code",
   "execution_count": 1,
   "metadata": {},
   "outputs": [
    {
     "name": "stderr",
     "output_type": "stream",
     "text": [
      "/var/folders/02/v32fbxpj58lctc0_vvpsn9380000gn/T/ipykernel_50424/1883675833.py:30: FutureWarning: The frame.append method is deprecated and will be removed from pandas in a future version. Use pandas.concat instead.\n",
      "  top_protocols = top_protocols.append(category_data.iloc[len(top_protocols)])\n",
      "/var/folders/02/v32fbxpj58lctc0_vvpsn9380000gn/T/ipykernel_50424/1883675833.py:30: FutureWarning: The frame.append method is deprecated and will be removed from pandas in a future version. Use pandas.concat instead.\n",
      "  top_protocols = top_protocols.append(category_data.iloc[len(top_protocols)])\n",
      "/var/folders/02/v32fbxpj58lctc0_vvpsn9380000gn/T/ipykernel_50424/1883675833.py:30: FutureWarning: The frame.append method is deprecated and will be removed from pandas in a future version. Use pandas.concat instead.\n",
      "  top_protocols = top_protocols.append(category_data.iloc[len(top_protocols)])\n",
      "/var/folders/02/v32fbxpj58lctc0_vvpsn9380000gn/T/ipykernel_50424/1883675833.py:30: FutureWarning: The frame.append method is deprecated and will be removed from pandas in a future version. Use pandas.concat instead.\n",
      "  top_protocols = top_protocols.append(category_data.iloc[len(top_protocols)])\n",
      "/var/folders/02/v32fbxpj58lctc0_vvpsn9380000gn/T/ipykernel_50424/1883675833.py:30: FutureWarning: The frame.append method is deprecated and will be removed from pandas in a future version. Use pandas.concat instead.\n",
      "  top_protocols = top_protocols.append(category_data.iloc[len(top_protocols)])\n",
      "/var/folders/02/v32fbxpj58lctc0_vvpsn9380000gn/T/ipykernel_50424/1883675833.py:30: FutureWarning: The frame.append method is deprecated and will be removed from pandas in a future version. Use pandas.concat instead.\n",
      "  top_protocols = top_protocols.append(category_data.iloc[len(top_protocols)])\n",
      "/var/folders/02/v32fbxpj58lctc0_vvpsn9380000gn/T/ipykernel_50424/1883675833.py:30: FutureWarning: The frame.append method is deprecated and will be removed from pandas in a future version. Use pandas.concat instead.\n",
      "  top_protocols = top_protocols.append(category_data.iloc[len(top_protocols)])\n",
      "/var/folders/02/v32fbxpj58lctc0_vvpsn9380000gn/T/ipykernel_50424/1883675833.py:30: FutureWarning: The frame.append method is deprecated and will be removed from pandas in a future version. Use pandas.concat instead.\n",
      "  top_protocols = top_protocols.append(category_data.iloc[len(top_protocols)])\n",
      "/var/folders/02/v32fbxpj58lctc0_vvpsn9380000gn/T/ipykernel_50424/1883675833.py:30: FutureWarning: The frame.append method is deprecated and will be removed from pandas in a future version. Use pandas.concat instead.\n",
      "  top_protocols = top_protocols.append(category_data.iloc[len(top_protocols)])\n",
      "/var/folders/02/v32fbxpj58lctc0_vvpsn9380000gn/T/ipykernel_50424/1883675833.py:30: FutureWarning: The frame.append method is deprecated and will be removed from pandas in a future version. Use pandas.concat instead.\n",
      "  top_protocols = top_protocols.append(category_data.iloc[len(top_protocols)])\n",
      "/var/folders/02/v32fbxpj58lctc0_vvpsn9380000gn/T/ipykernel_50424/1883675833.py:30: FutureWarning: The frame.append method is deprecated and will be removed from pandas in a future version. Use pandas.concat instead.\n",
      "  top_protocols = top_protocols.append(category_data.iloc[len(top_protocols)])\n",
      "/var/folders/02/v32fbxpj58lctc0_vvpsn9380000gn/T/ipykernel_50424/1883675833.py:30: FutureWarning: The frame.append method is deprecated and will be removed from pandas in a future version. Use pandas.concat instead.\n",
      "  top_protocols = top_protocols.append(category_data.iloc[len(top_protocols)])\n"
     ]
    }
   ],
   "source": [
    "import pandas as pd\n",
    "\n",
    "\n",
    "results = pd.DataFrame(columns=['category', 'protocol_name', 'total_tvl', 'tvl_orig', 'tvl_forks', 'market_share', 'forks_names'])\n",
    "\n",
    "# read in the data\n",
    "df = pd.read_csv('forks_by_protocol.csv')\n",
    "all_protocols = pd.read_csv('protocols_all_small.csv')\n",
    "\n",
    "# Filter to just the most interesting categories \n",
    "df = df[df['category'].isin(['Dexes', 'Lending', 'Yield', 'Derivatives', 'CDP', 'Yield Aggregator', 'Options', 'Options Vault', 'Liquid Staking','Bridge', 'Synthetics', 'Insurance'])]\n",
    "\n",
    "# iterate over each category\n",
    "for category in df['category'].unique():\n",
    "    # filter the data for the category\n",
    "    category_data = df[df['category'] == category]\n",
    "    \n",
    "    # sort the data by total TVL in descending order\n",
    "    category_data = category_data.sort_values(by='total_tvl', ascending=False)\n",
    "    \n",
    "    # calculate the cumulative sum of total TVL\n",
    "    category_data['cumulative_tvl'] = category_data['total_tvl'].cumsum()\n",
    "\n",
    "    category_data['market_share'] = category_data['total_tvl'] / category_data['total_tvl'].sum() * 100\n",
    "    \n",
    "    # get the top protocols by TVL that cover at least cumulative 80% market share\n",
    "    top_protocols = category_data[category_data['cumulative_tvl'] <= 0.8 * category_data['total_tvl'].sum()]\n",
    "    # add one more if sum of top protocols is less than 80% of total TVL\n",
    "    if top_protocols['total_tvl'].sum() < 0.8 * category_data['total_tvl'].sum():\n",
    "        top_protocols = top_protocols.append(category_data.iloc[len(top_protocols)])\n",
    "\n",
    "\n",
    "    \n",
    "    # add the top protocols to the results DataFrame, category, protocol, total_tvl, tvl_orig, tvl_forks, % of category tvl, forks_names\n",
    "    results = pd.concat([results, top_protocols[['category', 'protocol_name', 'total_tvl', 'tvl_orig', 'tvl_forks', 'market_share', 'forks_names']]])\n",
    "        \n",
    "                \n",
    "ignore = ['JustStables', 'WBTC', 'JustCryptos', 'JustLend', 'SUNSwap V1', 'Coinwind']\n",
    "min_tvl = 20_000_000\n",
    "\n",
    "results = results[~results['protocol_name'].isin(ignore)]\n",
    "results = results[results['total_tvl'] > min_tvl]\n",
    "\n",
    "# sort by total TVL\n",
    "results = results.sort_values(by='total_tvl', ascending=False)\n",
    "\n",
    "results.head(100)\n",
    "results.to_csv('supported_protocols.csv', index=False)\n"
   ]
  },
  {
   "cell_type": "code",
   "execution_count": null,
   "metadata": {},
   "outputs": [],
   "source": []
  }
 ],
 "metadata": {
  "kernelspec": {
   "display_name": "govinsight",
   "language": "python",
   "name": "python3"
  },
  "language_info": {
   "codemirror_mode": {
    "name": "ipython",
    "version": 3
   },
   "file_extension": ".py",
   "mimetype": "text/x-python",
   "name": "python",
   "nbconvert_exporter": "python",
   "pygments_lexer": "ipython3",
   "version": "3.10.6"
  },
  "orig_nbformat": 4
 },
 "nbformat": 4,
 "nbformat_minor": 2
}
